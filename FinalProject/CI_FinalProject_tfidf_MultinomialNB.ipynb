{
  "nbformat": 4,
  "nbformat_minor": 0,
  "metadata": {
    "colab": {
      "name": "CI_FinalProject_tfidf_MultinomialNB.ipynb",
      "provenance": [],
      "collapsed_sections": [],
      "toc_visible": true,
      "mount_file_id": "1TGHgyJRIVjJazMVipJDxjWt1uPAH-0Cs",
      "authorship_tag": "ABX9TyO3HlXF6q/aKnbAI2yHra6p",
      "include_colab_link": true
    },
    "kernelspec": {
      "name": "python3",
      "display_name": "Python 3"
    },
    "accelerator": "GPU"
  },
  "cells": [
    {
      "cell_type": "markdown",
      "metadata": {
        "id": "view-in-github",
        "colab_type": "text"
      },
      "source": [
        "<a href=\"https://colab.research.google.com/github/ParsaHejabi/ComputationalIntelligence-ComputerAssignments/blob/main/FinalProject/CI_FinalProject_tfidf_MultinomialNB.ipynb\" target=\"_parent\"><img src=\"https://colab.research.google.com/assets/colab-badge.svg\" alt=\"Open In Colab\"/></a>"
      ]
    },
    {
      "cell_type": "markdown",
      "metadata": {
        "id": "aLBMvUb7CpTB"
      },
      "source": [
        "# Import dataset from Google Drive to Colab"
      ]
    },
    {
      "cell_type": "code",
      "metadata": {
        "id": "287fxuQc_biu"
      },
      "source": [
        "!rm cleaned_train.csv\r\n",
        "!rm cleaned_test.csv\r\n",
        "\r\n",
        "!cp drive/MyDrive/CI_FinalProject/cleaned_train.csv ./\r\n",
        "!cp drive/MyDrive/CI_FinalProject/cleaned_test.csv ./"
      ],
      "execution_count": null,
      "outputs": []
    },
    {
      "cell_type": "markdown",
      "metadata": {
        "id": "KEmfhNPxXgKp"
      },
      "source": [
        "# Import all important things"
      ]
    },
    {
      "cell_type": "code",
      "metadata": {
        "id": "Y_iQR9OpDgGE"
      },
      "source": [
        "import numpy as np\r\n",
        "import pandas as pd\r\n",
        "\r\n",
        "from sklearn.feature_extraction.text import TfidfVectorizer\r\n",
        "\r\n",
        "import pickle"
      ],
      "execution_count": null,
      "outputs": []
    },
    {
      "cell_type": "markdown",
      "metadata": {
        "id": "9z0dEYkFXwe4"
      },
      "source": [
        "# Preprocessing"
      ]
    },
    {
      "cell_type": "markdown",
      "metadata": {
        "id": "hJDgJLfYXyYG"
      },
      "source": [
        "## Load cleaned train data"
      ]
    },
    {
      "cell_type": "code",
      "metadata": {
        "colab": {
          "base_uri": "https://localhost:8080/",
          "height": 195
        },
        "id": "bap-Hyh-Dpo7",
        "outputId": "ed448be4-b93e-46e2-b92b-972cfd1b0328"
      },
      "source": [
        "train_data = pd.read_csv('cleaned_train.csv', usecols=['clean_text', 'Category'])\r\n",
        "train_data['category_id'] = train_data['Category'].factorize()[0]\r\n",
        "train_data.head()"
      ],
      "execution_count": null,
      "outputs": [
        {
          "output_type": "execute_result",
          "data": {
            "text/html": [
              "<div>\n",
              "<style scoped>\n",
              "    .dataframe tbody tr th:only-of-type {\n",
              "        vertical-align: middle;\n",
              "    }\n",
              "\n",
              "    .dataframe tbody tr th {\n",
              "        vertical-align: top;\n",
              "    }\n",
              "\n",
              "    .dataframe thead th {\n",
              "        text-align: right;\n",
              "    }\n",
              "</style>\n",
              "<table border=\"1\" class=\"dataframe\">\n",
              "  <thead>\n",
              "    <tr style=\"text-align: right;\">\n",
              "      <th></th>\n",
              "      <th>Category</th>\n",
              "      <th>clean_text</th>\n",
              "      <th>category_id</th>\n",
              "    </tr>\n",
              "  </thead>\n",
              "  <tbody>\n",
              "    <tr>\n",
              "      <th>0</th>\n",
              "      <td>Science and Culture</td>\n",
              "      <td>خبرنامه دانشگاه علم و صنعت ایران شماره یازدهم ...</td>\n",
              "      <td>0</td>\n",
              "    </tr>\n",
              "    <tr>\n",
              "      <th>1</th>\n",
              "      <td>Sport</td>\n",
              "      <td>تا پایان سال ۱۳۷۸ دهها زمین فوتبال و سالن ورزش...</td>\n",
              "      <td>1</td>\n",
              "    </tr>\n",
              "    <tr>\n",
              "      <th>2</th>\n",
              "      <td>Economy</td>\n",
              "      <td>انجمن تولیدکنندگان تجهیزات صنعت نفت تشکیل شد ن...</td>\n",
              "      <td>2</td>\n",
              "    </tr>\n",
              "    <tr>\n",
              "      <th>3</th>\n",
              "      <td>Miscellaneous.World News</td>\n",
              "      <td>کرتین برای سومین بار نخست وزیر کانادا شد ژان ک...</td>\n",
              "      <td>3</td>\n",
              "    </tr>\n",
              "    <tr>\n",
              "      <th>4</th>\n",
              "      <td>Sport</td>\n",
              "      <td>خداحافظ رفقا نمایندگان اروپای شرقی در جام ۲۰۰۲...</td>\n",
              "      <td>1</td>\n",
              "    </tr>\n",
              "  </tbody>\n",
              "</table>\n",
              "</div>"
            ],
            "text/plain": [
              "                   Category  ... category_id\n",
              "0       Science and Culture  ...           0\n",
              "1                     Sport  ...           1\n",
              "2                   Economy  ...           2\n",
              "3  Miscellaneous.World News  ...           3\n",
              "4                     Sport  ...           1\n",
              "\n",
              "[5 rows x 3 columns]"
            ]
          },
          "metadata": {
            "tags": []
          },
          "execution_count": 25
        }
      ]
    },
    {
      "cell_type": "code",
      "metadata": {
        "id": "A9rldjyIbCw0",
        "colab": {
          "base_uri": "https://localhost:8080/",
          "height": 195
        },
        "outputId": "284c1a47-6817-4714-a8ff-328ba56d68c1"
      },
      "source": [
        "test_data = pd.read_csv('cleaned_test.csv', usecols=['Id', 'clean_text'])\r\n",
        "test_data.head()"
      ],
      "execution_count": null,
      "outputs": [
        {
          "output_type": "execute_result",
          "data": {
            "text/html": [
              "<div>\n",
              "<style scoped>\n",
              "    .dataframe tbody tr th:only-of-type {\n",
              "        vertical-align: middle;\n",
              "    }\n",
              "\n",
              "    .dataframe tbody tr th {\n",
              "        vertical-align: top;\n",
              "    }\n",
              "\n",
              "    .dataframe thead th {\n",
              "        text-align: right;\n",
              "    }\n",
              "</style>\n",
              "<table border=\"1\" class=\"dataframe\">\n",
              "  <thead>\n",
              "    <tr style=\"text-align: right;\">\n",
              "      <th></th>\n",
              "      <th>Id</th>\n",
              "      <th>clean_text</th>\n",
              "    </tr>\n",
              "  </thead>\n",
              "  <tbody>\n",
              "    <tr>\n",
              "      <th>0</th>\n",
              "      <td>0</td>\n",
              "      <td>هفت اقلیم آلودگی هوا پکن را تهدید میکند باافزا...</td>\n",
              "    </tr>\n",
              "    <tr>\n",
              "      <th>1</th>\n",
              "      <td>1</td>\n",
              "      <td>گل و گیاه زعفران زینتی نام علمی: crocus banati...</td>\n",
              "    </tr>\n",
              "    <tr>\n",
              "      <th>2</th>\n",
              "      <td>2</td>\n",
              "      <td>یادداشت قانون بودجه و صنایع کوچک در شماره گذشت...</td>\n",
              "    </tr>\n",
              "    <tr>\n",
              "      <th>3</th>\n",
              "      <td>3</td>\n",
              "      <td>در سالروز میلاد حضرت مهدی همایش ادبی دانش آموز...</td>\n",
              "    </tr>\n",
              "    <tr>\n",
              "      <th>4</th>\n",
              "      <td>4</td>\n",
              "      <td>از ira تا فارک بوگوتا، پایتخت پرهرج ومرج کلمبی...</td>\n",
              "    </tr>\n",
              "  </tbody>\n",
              "</table>\n",
              "</div>"
            ],
            "text/plain": [
              "   Id                                         clean_text\n",
              "0   0  هفت اقلیم آلودگی هوا پکن را تهدید میکند باافزا...\n",
              "1   1  گل و گیاه زعفران زینتی نام علمی: crocus banati...\n",
              "2   2  یادداشت قانون بودجه و صنایع کوچک در شماره گذشت...\n",
              "3   3  در سالروز میلاد حضرت مهدی همایش ادبی دانش آموز...\n",
              "4   4  از ira تا فارک بوگوتا، پایتخت پرهرج ومرج کلمبی..."
            ]
          },
          "metadata": {
            "tags": []
          },
          "execution_count": 26
        }
      ]
    },
    {
      "cell_type": "code",
      "metadata": {
        "id": "v9CTgPthlRiV",
        "colab": {
          "base_uri": "https://localhost:8080/"
        },
        "outputId": "ab77cc83-7897-46b8-d4a3-bb218be314a0"
      },
      "source": [
        "label2id = {label: i for i, label in enumerate(train_data['Category'].unique())}\r\n",
        "id2label = {v: k for k, v in label2id.items()}\r\n",
        "\r\n",
        "print(f'label2id: {label2id}')\r\n",
        "print(f'id2label: {id2label}')"
      ],
      "execution_count": null,
      "outputs": [
        {
          "output_type": "stream",
          "text": [
            "label2id: {'Science and Culture': 0, 'Sport': 1, 'Economy': 2, 'Miscellaneous.World News': 3, 'Miscellaneous.Urban': 4, 'Social.Women': 5, 'Social': 6, 'Literature and Art': 7, 'Politics': 8, 'Miscellaneous': 9, 'Economy.Bank and Bourse': 10, 'Politics.Iran Politics': 11, 'Tourism': 12, 'Social.Religion': 13, 'Miscellaneous.Picture': 14, 'Miscellaneous.Happenings': 15, 'Science and Culture.Science.Book': 16, 'Literature and Art.Art': 17, 'Miscellaneous.Islamic Councils': 18, 'Literature and Art.Art.Cinema': 19, 'Science and Culture.Science.Information and Communication Technology': 20, 'Economy.Oil': 21, 'Economy.Commerce': 22, 'Natural Environment': 23, 'Science and Culture.Science': 24, 'Economy.Industry': 25, 'Economy.Agriculture': 26, 'Sport.World Cup': 27, 'Miscellaneous.Picture.Caricature': 28, 'Literature and Art.Art.Music': 29, 'Literature and Art.Art.Theater': 30, 'Economy.Dwelling and Construction': 31, 'Science and Culture.Science.Medicine and Remedy': 32, 'Literature and Art.Literature': 33}\n",
            "id2label: {0: 'Science and Culture', 1: 'Sport', 2: 'Economy', 3: 'Miscellaneous.World News', 4: 'Miscellaneous.Urban', 5: 'Social.Women', 6: 'Social', 7: 'Literature and Art', 8: 'Politics', 9: 'Miscellaneous', 10: 'Economy.Bank and Bourse', 11: 'Politics.Iran Politics', 12: 'Tourism', 13: 'Social.Religion', 14: 'Miscellaneous.Picture', 15: 'Miscellaneous.Happenings', 16: 'Science and Culture.Science.Book', 17: 'Literature and Art.Art', 18: 'Miscellaneous.Islamic Councils', 19: 'Literature and Art.Art.Cinema', 20: 'Science and Culture.Science.Information and Communication Technology', 21: 'Economy.Oil', 22: 'Economy.Commerce', 23: 'Natural Environment', 24: 'Science and Culture.Science', 25: 'Economy.Industry', 26: 'Economy.Agriculture', 27: 'Sport.World Cup', 28: 'Miscellaneous.Picture.Caricature', 29: 'Literature and Art.Art.Music', 30: 'Literature and Art.Art.Theater', 31: 'Economy.Dwelling and Construction', 32: 'Science and Culture.Science.Medicine and Remedy', 33: 'Literature and Art.Literature'}\n"
          ],
          "name": "stdout"
        }
      ]
    },
    {
      "cell_type": "code",
      "metadata": {
        "id": "fHImIgxymqHY"
      },
      "source": [
        "vectorizer = TfidfVectorizer(sublinear_tf=True, min_df=30, norm='l2', ngram_range=(1, 2))\r\n",
        "features = vectorizer.fit_transform(train_data['clean_text'])\r\n",
        "labels = train_data['category_id']"
      ],
      "execution_count": null,
      "outputs": []
    },
    {
      "cell_type": "code",
      "metadata": {
        "id": "02KaJ-JZANnd"
      },
      "source": [
        "from sklearn.naive_bayes import MultinomialNB\r\n",
        "\r\n",
        "model = MultinomialNB()"
      ],
      "execution_count": null,
      "outputs": []
    },
    {
      "cell_type": "code",
      "metadata": {
        "id": "cgrk8opOOxAM",
        "colab": {
          "base_uri": "https://localhost:8080/"
        },
        "outputId": "8e3472be-d880-4ebf-f70f-b533bde88260"
      },
      "source": [
        "model.fit(features, labels)"
      ],
      "execution_count": null,
      "outputs": [
        {
          "output_type": "execute_result",
          "data": {
            "text/plain": [
              "MultinomialNB(alpha=1.0, class_prior=None, fit_prior=True)"
            ]
          },
          "metadata": {
            "tags": []
          },
          "execution_count": 36
        }
      ]
    },
    {
      "cell_type": "code",
      "metadata": {
        "id": "7bBT5TGYPoKp"
      },
      "source": [
        "test_features = vectorizer.transform(test_data['clean_text'])"
      ],
      "execution_count": null,
      "outputs": []
    },
    {
      "cell_type": "code",
      "metadata": {
        "id": "6PQcEz6-QnkY"
      },
      "source": [
        "y_pred = model.predict(test_features)"
      ],
      "execution_count": null,
      "outputs": []
    },
    {
      "cell_type": "code",
      "metadata": {
        "id": "qgHwThoORd1f"
      },
      "source": [
        "Y_pred_name =[]\r\n",
        "for cat_id in y_pred:\r\n",
        "  Y_pred_name.append(id2label[cat_id])"
      ],
      "execution_count": null,
      "outputs": []
    },
    {
      "cell_type": "code",
      "metadata": {
        "id": "UTbTQMt7SLnK"
      },
      "source": [
        "submission = pd.DataFrame({\r\n",
        "        \"Id\": test_data[\"Id\"],\r\n",
        "        \"Category\": Y_pred_name\r\n",
        "    })"
      ],
      "execution_count": null,
      "outputs": []
    },
    {
      "cell_type": "code",
      "metadata": {
        "id": "jkyrsbSlSmia",
        "colab": {
          "base_uri": "https://localhost:8080/",
          "height": 195
        },
        "outputId": "a58b4c8d-c3ef-4ea4-b967-68ffcd155318"
      },
      "source": [
        "submission.head()"
      ],
      "execution_count": null,
      "outputs": [
        {
          "output_type": "execute_result",
          "data": {
            "text/html": [
              "<div>\n",
              "<style scoped>\n",
              "    .dataframe tbody tr th:only-of-type {\n",
              "        vertical-align: middle;\n",
              "    }\n",
              "\n",
              "    .dataframe tbody tr th {\n",
              "        vertical-align: top;\n",
              "    }\n",
              "\n",
              "    .dataframe thead th {\n",
              "        text-align: right;\n",
              "    }\n",
              "</style>\n",
              "<table border=\"1\" class=\"dataframe\">\n",
              "  <thead>\n",
              "    <tr style=\"text-align: right;\">\n",
              "      <th></th>\n",
              "      <th>Id</th>\n",
              "      <th>Category</th>\n",
              "    </tr>\n",
              "  </thead>\n",
              "  <tbody>\n",
              "    <tr>\n",
              "      <th>0</th>\n",
              "      <td>0</td>\n",
              "      <td>Miscellaneous.Urban</td>\n",
              "    </tr>\n",
              "    <tr>\n",
              "      <th>1</th>\n",
              "      <td>1</td>\n",
              "      <td>Miscellaneous</td>\n",
              "    </tr>\n",
              "    <tr>\n",
              "      <th>2</th>\n",
              "      <td>2</td>\n",
              "      <td>Economy</td>\n",
              "    </tr>\n",
              "    <tr>\n",
              "      <th>3</th>\n",
              "      <td>3</td>\n",
              "      <td>Miscellaneous</td>\n",
              "    </tr>\n",
              "    <tr>\n",
              "      <th>4</th>\n",
              "      <td>4</td>\n",
              "      <td>Miscellaneous.World News</td>\n",
              "    </tr>\n",
              "  </tbody>\n",
              "</table>\n",
              "</div>"
            ],
            "text/plain": [
              "   Id                  Category\n",
              "0   0       Miscellaneous.Urban\n",
              "1   1             Miscellaneous\n",
              "2   2                   Economy\n",
              "3   3             Miscellaneous\n",
              "4   4  Miscellaneous.World News"
            ]
          },
          "metadata": {
            "tags": []
          },
          "execution_count": 41
        }
      ]
    },
    {
      "cell_type": "code",
      "metadata": {
        "id": "RrOJraF6SqDY"
      },
      "source": [
        "submission.to_csv('submission.csv', index=False)"
      ],
      "execution_count": null,
      "outputs": []
    }
  ]
}