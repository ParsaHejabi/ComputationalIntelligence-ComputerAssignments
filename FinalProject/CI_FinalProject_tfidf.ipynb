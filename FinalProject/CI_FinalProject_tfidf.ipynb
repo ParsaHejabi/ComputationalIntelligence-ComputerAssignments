{
  "nbformat": 4,
  "nbformat_minor": 0,
  "metadata": {
    "colab": {
      "name": "CI_FinalProject_tfidf.ipynb",
      "provenance": [],
      "collapsed_sections": [],
      "toc_visible": true,
      "mount_file_id": "1SYVxPqMs-0NiqUcB_YjV35deGtAWcCh2",
      "authorship_tag": "ABX9TyM9+XARqx63h4xhTdwRFP4N",
      "include_colab_link": true
    },
    "kernelspec": {
      "name": "python3",
      "display_name": "Python 3"
    },
    "accelerator": "GPU"
  },
  "cells": [
    {
      "cell_type": "markdown",
      "metadata": {
        "id": "view-in-github",
        "colab_type": "text"
      },
      "source": [
        "<a href=\"https://colab.research.google.com/github/ParsaHejabi/ComputationalIntelligence-ComputerAssignments/blob/main/FinalProject/CI_FinalProject_tfidf.ipynb\" target=\"_parent\"><img src=\"https://colab.research.google.com/assets/colab-badge.svg\" alt=\"Open In Colab\"/></a>"
      ]
    },
    {
      "cell_type": "markdown",
      "metadata": {
        "id": "aLBMvUb7CpTB"
      },
      "source": [
        "# Import dataset from Google Drive to Colab"
      ]
    },
    {
      "cell_type": "code",
      "metadata": {
        "id": "287fxuQc_biu",
        "colab": {
          "base_uri": "https://localhost:8080/"
        },
        "outputId": "b5009253-b3dc-41a5-8c23-f6c18e721b08"
      },
      "source": [
        "!rm cleaned_train.csv\r\n",
        "!rm cleaned_test.csv\r\n",
        "\r\n",
        "!cp drive/MyDrive/CI_FinalProject/cleaned_train.csv ./\r\n",
        "!cp drive/MyDrive/CI_FinalProject/cleaned_test.csv ./"
      ],
      "execution_count": null,
      "outputs": [
        {
          "output_type": "stream",
          "text": [
            "rm: cannot remove 'cleaned_train.csv': No such file or directory\n",
            "rm: cannot remove 'cleaned_test.csv': No such file or directory\n"
          ],
          "name": "stdout"
        }
      ]
    },
    {
      "cell_type": "markdown",
      "metadata": {
        "id": "KEmfhNPxXgKp"
      },
      "source": [
        "# Import all important things"
      ]
    },
    {
      "cell_type": "code",
      "metadata": {
        "id": "Y_iQR9OpDgGE"
      },
      "source": [
        "import numpy as np\r\n",
        "import pandas as pd\r\n",
        "\r\n",
        "from sklearn.feature_extraction.text import TfidfVectorizer\r\n",
        "\r\n",
        "import torch\r\n",
        "import torch.nn as nn\r\n",
        "import torch.nn.functional as F\r\n",
        "\r\n",
        "from tqdm.notebook import tqdm"
      ],
      "execution_count": null,
      "outputs": []
    },
    {
      "cell_type": "markdown",
      "metadata": {
        "id": "9z0dEYkFXwe4"
      },
      "source": [
        "# Preprocessing"
      ]
    },
    {
      "cell_type": "markdown",
      "metadata": {
        "id": "hJDgJLfYXyYG"
      },
      "source": [
        "## Load cleaned train data"
      ]
    },
    {
      "cell_type": "code",
      "metadata": {
        "colab": {
          "base_uri": "https://localhost:8080/",
          "height": 195
        },
        "id": "bap-Hyh-Dpo7",
        "outputId": "175f1306-c7ee-4021-adfc-6103a6c76dc3"
      },
      "source": [
        "train_data = pd.read_csv('cleaned_train.csv', usecols=['clean_text', 'Category'])\r\n",
        "# train_data.drop(columns=['Unnamed: 0', 'Unnamed: 0.1'], inplace=True)\r\n",
        "train_data['category_id'] = train_data['Category'].factorize()[0]\r\n",
        "train_data.head()"
      ],
      "execution_count": null,
      "outputs": [
        {
          "output_type": "execute_result",
          "data": {
            "text/html": [
              "<div>\n",
              "<style scoped>\n",
              "    .dataframe tbody tr th:only-of-type {\n",
              "        vertical-align: middle;\n",
              "    }\n",
              "\n",
              "    .dataframe tbody tr th {\n",
              "        vertical-align: top;\n",
              "    }\n",
              "\n",
              "    .dataframe thead th {\n",
              "        text-align: right;\n",
              "    }\n",
              "</style>\n",
              "<table border=\"1\" class=\"dataframe\">\n",
              "  <thead>\n",
              "    <tr style=\"text-align: right;\">\n",
              "      <th></th>\n",
              "      <th>Category</th>\n",
              "      <th>clean_text</th>\n",
              "      <th>category_id</th>\n",
              "    </tr>\n",
              "  </thead>\n",
              "  <tbody>\n",
              "    <tr>\n",
              "      <th>0</th>\n",
              "      <td>Science and Culture</td>\n",
              "      <td>خبرنامه دانشگاه علم و صنعت ایران شماره یازدهم ...</td>\n",
              "      <td>0</td>\n",
              "    </tr>\n",
              "    <tr>\n",
              "      <th>1</th>\n",
              "      <td>Sport</td>\n",
              "      <td>تا پایان سال ۱۳۷۸ دهها زمین فوتبال و سالن ورزش...</td>\n",
              "      <td>1</td>\n",
              "    </tr>\n",
              "    <tr>\n",
              "      <th>2</th>\n",
              "      <td>Economy</td>\n",
              "      <td>انجمن تولیدکنندگان تجهیزات صنعت نفت تشکیل شد ن...</td>\n",
              "      <td>2</td>\n",
              "    </tr>\n",
              "    <tr>\n",
              "      <th>3</th>\n",
              "      <td>Miscellaneous.World News</td>\n",
              "      <td>کرتین برای سومین بار نخست وزیر کانادا شد ژان ک...</td>\n",
              "      <td>3</td>\n",
              "    </tr>\n",
              "    <tr>\n",
              "      <th>4</th>\n",
              "      <td>Sport</td>\n",
              "      <td>خداحافظ رفقا نمایندگان اروپای شرقی در جام ۲۰۰۲...</td>\n",
              "      <td>1</td>\n",
              "    </tr>\n",
              "  </tbody>\n",
              "</table>\n",
              "</div>"
            ],
            "text/plain": [
              "                   Category  ... category_id\n",
              "0       Science and Culture  ...           0\n",
              "1                     Sport  ...           1\n",
              "2                   Economy  ...           2\n",
              "3  Miscellaneous.World News  ...           3\n",
              "4                     Sport  ...           1\n",
              "\n",
              "[5 rows x 3 columns]"
            ]
          },
          "metadata": {
            "tags": []
          },
          "execution_count": 2
        }
      ]
    },
    {
      "cell_type": "code",
      "metadata": {
        "id": "A9rldjyIbCw0",
        "colab": {
          "base_uri": "https://localhost:8080/",
          "height": 195
        },
        "outputId": "5b9e8d6a-a58d-42cf-a241-4f9de8b5de2d"
      },
      "source": [
        "test_data = pd.read_csv('cleaned_test.csv', usecols=['Id', 'clean_text'])\r\n",
        "# test_data.drop(columns=['Unnamed: 0'], inplace=True)\r\n",
        "test_data.head()"
      ],
      "execution_count": null,
      "outputs": [
        {
          "output_type": "execute_result",
          "data": {
            "text/html": [
              "<div>\n",
              "<style scoped>\n",
              "    .dataframe tbody tr th:only-of-type {\n",
              "        vertical-align: middle;\n",
              "    }\n",
              "\n",
              "    .dataframe tbody tr th {\n",
              "        vertical-align: top;\n",
              "    }\n",
              "\n",
              "    .dataframe thead th {\n",
              "        text-align: right;\n",
              "    }\n",
              "</style>\n",
              "<table border=\"1\" class=\"dataframe\">\n",
              "  <thead>\n",
              "    <tr style=\"text-align: right;\">\n",
              "      <th></th>\n",
              "      <th>Id</th>\n",
              "      <th>clean_text</th>\n",
              "    </tr>\n",
              "  </thead>\n",
              "  <tbody>\n",
              "    <tr>\n",
              "      <th>0</th>\n",
              "      <td>0</td>\n",
              "      <td>هفت اقلیم آلودگی هوا پکن را تهدید میکند باافزا...</td>\n",
              "    </tr>\n",
              "    <tr>\n",
              "      <th>1</th>\n",
              "      <td>1</td>\n",
              "      <td>گل و گیاه زعفران زینتی نام علمی: crocus banati...</td>\n",
              "    </tr>\n",
              "    <tr>\n",
              "      <th>2</th>\n",
              "      <td>2</td>\n",
              "      <td>یادداشت قانون بودجه و صنایع کوچک در شماره گذشت...</td>\n",
              "    </tr>\n",
              "    <tr>\n",
              "      <th>3</th>\n",
              "      <td>3</td>\n",
              "      <td>در سالروز میلاد حضرت مهدی همایش ادبی دانش آموز...</td>\n",
              "    </tr>\n",
              "    <tr>\n",
              "      <th>4</th>\n",
              "      <td>4</td>\n",
              "      <td>از ira تا فارک بوگوتا، پایتخت پرهرج ومرج کلمبی...</td>\n",
              "    </tr>\n",
              "  </tbody>\n",
              "</table>\n",
              "</div>"
            ],
            "text/plain": [
              "   Id                                         clean_text\n",
              "0   0  هفت اقلیم آلودگی هوا پکن را تهدید میکند باافزا...\n",
              "1   1  گل و گیاه زعفران زینتی نام علمی: crocus banati...\n",
              "2   2  یادداشت قانون بودجه و صنایع کوچک در شماره گذشت...\n",
              "3   3  در سالروز میلاد حضرت مهدی همایش ادبی دانش آموز...\n",
              "4   4  از ira تا فارک بوگوتا، پایتخت پرهرج ومرج کلمبی..."
            ]
          },
          "metadata": {
            "tags": []
          },
          "execution_count": 3
        }
      ]
    },
    {
      "cell_type": "code",
      "metadata": {
        "id": "v9CTgPthlRiV",
        "colab": {
          "base_uri": "https://localhost:8080/"
        },
        "outputId": "a934b106-9e99-4059-99fd-6848c44a38d4"
      },
      "source": [
        "label2id = {label: i for i, label in enumerate(train_data['Category'].unique())}\r\n",
        "id2label = {v: k for k, v in label2id.items()}\r\n",
        "\r\n",
        "print(f'label2id: {label2id}')\r\n",
        "print(f'id2label: {id2label}')"
      ],
      "execution_count": null,
      "outputs": [
        {
          "output_type": "stream",
          "text": [
            "label2id: {'Science and Culture': 0, 'Sport': 1, 'Economy': 2, 'Miscellaneous.World News': 3, 'Miscellaneous.Urban': 4, 'Social.Women': 5, 'Social': 6, 'Literature and Art': 7, 'Politics': 8, 'Miscellaneous': 9, 'Economy.Bank and Bourse': 10, 'Politics.Iran Politics': 11, 'Tourism': 12, 'Social.Religion': 13, 'Miscellaneous.Picture': 14, 'Miscellaneous.Happenings': 15, 'Science and Culture.Science.Book': 16, 'Literature and Art.Art': 17, 'Miscellaneous.Islamic Councils': 18, 'Literature and Art.Art.Cinema': 19, 'Science and Culture.Science.Information and Communication Technology': 20, 'Economy.Oil': 21, 'Economy.Commerce': 22, 'Natural Environment': 23, 'Science and Culture.Science': 24, 'Economy.Industry': 25, 'Economy.Agriculture': 26, 'Sport.World Cup': 27, 'Miscellaneous.Picture.Caricature': 28, 'Literature and Art.Art.Music': 29, 'Literature and Art.Art.Theater': 30, 'Economy.Dwelling and Construction': 31, 'Science and Culture.Science.Medicine and Remedy': 32, 'Literature and Art.Literature': 33}\n",
            "id2label: {0: 'Science and Culture', 1: 'Sport', 2: 'Economy', 3: 'Miscellaneous.World News', 4: 'Miscellaneous.Urban', 5: 'Social.Women', 6: 'Social', 7: 'Literature and Art', 8: 'Politics', 9: 'Miscellaneous', 10: 'Economy.Bank and Bourse', 11: 'Politics.Iran Politics', 12: 'Tourism', 13: 'Social.Religion', 14: 'Miscellaneous.Picture', 15: 'Miscellaneous.Happenings', 16: 'Science and Culture.Science.Book', 17: 'Literature and Art.Art', 18: 'Miscellaneous.Islamic Councils', 19: 'Literature and Art.Art.Cinema', 20: 'Science and Culture.Science.Information and Communication Technology', 21: 'Economy.Oil', 22: 'Economy.Commerce', 23: 'Natural Environment', 24: 'Science and Culture.Science', 25: 'Economy.Industry', 26: 'Economy.Agriculture', 27: 'Sport.World Cup', 28: 'Miscellaneous.Picture.Caricature', 29: 'Literature and Art.Art.Music', 30: 'Literature and Art.Art.Theater', 31: 'Economy.Dwelling and Construction', 32: 'Science and Culture.Science.Medicine and Remedy', 33: 'Literature and Art.Literature'}\n"
          ],
          "name": "stdout"
        }
      ]
    },
    {
      "cell_type": "code",
      "metadata": {
        "id": "fHImIgxymqHY"
      },
      "source": [
        "vectorizer = TfidfVectorizer(sublinear_tf=True, min_df=30, norm='l2', ngram_range=(1, 2))\r\n",
        "# vectorizer = HashingVectorizer(norm='l2', ngram_range=(1, 2))\r\n",
        "features = vectorizer.fit_transform(train_data['clean_text'])\r\n",
        "labels = train_data['category_id']"
      ],
      "execution_count": null,
      "outputs": []
    },
    {
      "cell_type": "code",
      "metadata": {
        "id": "C_Mh5XfURHCK"
      },
      "source": [
        "import pickle\r\n",
        "\r\n",
        "pickle.dump(features, open(\"drive/MyDrive/CI_FinalProject/TfidfVectorized_features.p\", \"wb\"))"
      ],
      "execution_count": null,
      "outputs": []
    },
    {
      "cell_type": "code",
      "metadata": {
        "id": "02KaJ-JZANnd"
      },
      "source": [
        "from sklearn.ensemble import RandomForestClassifier\r\n",
        "\r\n",
        "model = RandomForestClassifier(n_estimators=200, max_depth=100, random_state=0, verbose=1)"
      ],
      "execution_count": null,
      "outputs": []
    },
    {
      "cell_type": "code",
      "metadata": {
        "id": "cgrk8opOOxAM",
        "colab": {
          "base_uri": "https://localhost:8080/"
        },
        "outputId": "8030fe32-54b5-43bd-e0b0-7bfd0b8797d7"
      },
      "source": [
        "model.fit(features, labels)"
      ],
      "execution_count": null,
      "outputs": [
        {
          "output_type": "stream",
          "text": [
            "[Parallel(n_jobs=1)]: Using backend SequentialBackend with 1 concurrent workers.\n",
            "[Parallel(n_jobs=1)]: Done 200 out of 200 | elapsed: 77.9min finished\n"
          ],
          "name": "stderr"
        },
        {
          "output_type": "execute_result",
          "data": {
            "text/plain": [
              "RandomForestClassifier(bootstrap=True, ccp_alpha=0.0, class_weight=None,\n",
              "                       criterion='gini', max_depth=100, max_features='auto',\n",
              "                       max_leaf_nodes=None, max_samples=None,\n",
              "                       min_impurity_decrease=0.0, min_impurity_split=None,\n",
              "                       min_samples_leaf=1, min_samples_split=2,\n",
              "                       min_weight_fraction_leaf=0.0, n_estimators=200,\n",
              "                       n_jobs=None, oob_score=False, random_state=0, verbose=1,\n",
              "                       warm_start=False)"
            ]
          },
          "metadata": {
            "tags": []
          },
          "execution_count": 9
        }
      ]
    },
    {
      "cell_type": "code",
      "metadata": {
        "colab": {
          "base_uri": "https://localhost:8080/"
        },
        "id": "HDY_1nzBL5ec",
        "outputId": "87b0eea3-c587-4b8c-9bca-f2080b0eb5b6"
      },
      "source": [
        "from joblib import dump, load\r\n",
        "\r\n",
        "dump(model, 'drive/MyDrive/CI_FinalProject/RandomForestModel.joblib')"
      ],
      "execution_count": null,
      "outputs": [
        {
          "output_type": "execute_result",
          "data": {
            "text/plain": [
              "['drive/MyDrive/CI_FinalProject/RandomForestModel.joblib']"
            ]
          },
          "metadata": {
            "tags": []
          },
          "execution_count": 10
        }
      ]
    },
    {
      "cell_type": "code",
      "metadata": {
        "id": "7bBT5TGYPoKp"
      },
      "source": [
        "test_features = vectorizer.transform(test_data['clean_text'])"
      ],
      "execution_count": null,
      "outputs": []
    },
    {
      "cell_type": "code",
      "metadata": {
        "id": "6PQcEz6-QnkY",
        "colab": {
          "base_uri": "https://localhost:8080/"
        },
        "outputId": "010935e9-db2e-41e1-dfe6-34ff8f7a42d0"
      },
      "source": [
        "# y_pred_proba = model.predict_proba(test_features)\r\n",
        "y_pred = model.predict(test_features)"
      ],
      "execution_count": null,
      "outputs": [
        {
          "output_type": "stream",
          "text": [
            "[Parallel(n_jobs=1)]: Using backend SequentialBackend with 1 concurrent workers.\n",
            "[Parallel(n_jobs=1)]: Done 200 out of 200 | elapsed:   13.4s finished\n"
          ],
          "name": "stderr"
        }
      ]
    },
    {
      "cell_type": "code",
      "metadata": {
        "id": "qgHwThoORd1f"
      },
      "source": [
        "Y_pred_name =[]\r\n",
        "for cat_id in y_pred:\r\n",
        "  Y_pred_name.append(id2label[cat_id])"
      ],
      "execution_count": null,
      "outputs": []
    },
    {
      "cell_type": "code",
      "metadata": {
        "id": "UTbTQMt7SLnK"
      },
      "source": [
        "submission = pd.DataFrame({\r\n",
        "        \"Id\": test_data[\"Id\"],\r\n",
        "        \"Category\": Y_pred_name\r\n",
        "    })"
      ],
      "execution_count": null,
      "outputs": []
    },
    {
      "cell_type": "code",
      "metadata": {
        "id": "jkyrsbSlSmia",
        "colab": {
          "base_uri": "https://localhost:8080/",
          "height": 195
        },
        "outputId": "800183ae-6970-4528-e1c5-663a58e3ba53"
      },
      "source": [
        "submission.head()"
      ],
      "execution_count": null,
      "outputs": [
        {
          "output_type": "execute_result",
          "data": {
            "text/html": [
              "<div>\n",
              "<style scoped>\n",
              "    .dataframe tbody tr th:only-of-type {\n",
              "        vertical-align: middle;\n",
              "    }\n",
              "\n",
              "    .dataframe tbody tr th {\n",
              "        vertical-align: top;\n",
              "    }\n",
              "\n",
              "    .dataframe thead th {\n",
              "        text-align: right;\n",
              "    }\n",
              "</style>\n",
              "<table border=\"1\" class=\"dataframe\">\n",
              "  <thead>\n",
              "    <tr style=\"text-align: right;\">\n",
              "      <th></th>\n",
              "      <th>Id</th>\n",
              "      <th>Category</th>\n",
              "    </tr>\n",
              "  </thead>\n",
              "  <tbody>\n",
              "    <tr>\n",
              "      <th>0</th>\n",
              "      <td>0</td>\n",
              "      <td>Miscellaneous.Urban</td>\n",
              "    </tr>\n",
              "    <tr>\n",
              "      <th>1</th>\n",
              "      <td>1</td>\n",
              "      <td>Miscellaneous</td>\n",
              "    </tr>\n",
              "    <tr>\n",
              "      <th>2</th>\n",
              "      <td>2</td>\n",
              "      <td>Economy</td>\n",
              "    </tr>\n",
              "    <tr>\n",
              "      <th>3</th>\n",
              "      <td>3</td>\n",
              "      <td>Science and Culture</td>\n",
              "    </tr>\n",
              "    <tr>\n",
              "      <th>4</th>\n",
              "      <td>4</td>\n",
              "      <td>Politics</td>\n",
              "    </tr>\n",
              "  </tbody>\n",
              "</table>\n",
              "</div>"
            ],
            "text/plain": [
              "   Id             Category\n",
              "0   0  Miscellaneous.Urban\n",
              "1   1        Miscellaneous\n",
              "2   2              Economy\n",
              "3   3  Science and Culture\n",
              "4   4             Politics"
            ]
          },
          "metadata": {
            "tags": []
          },
          "execution_count": 19
        }
      ]
    },
    {
      "cell_type": "code",
      "metadata": {
        "id": "RrOJraF6SqDY"
      },
      "source": [
        "submission.to_csv('submission.csv', index=False)"
      ],
      "execution_count": null,
      "outputs": []
    },
    {
      "cell_type": "code",
      "metadata": {
        "id": "87cAKKbnN0Ap"
      },
      "source": [
        "from sklearn.linear_model import LogisticRegression\r\n",
        "LRModel = LogisticRegression(random_state=30)"
      ],
      "execution_count": null,
      "outputs": []
    },
    {
      "cell_type": "code",
      "metadata": {
        "colab": {
          "base_uri": "https://localhost:8080/"
        },
        "id": "QxAoWJEXPB7R",
        "outputId": "8d28cfa1-0572-4f29-d3c2-ead17ad21b08"
      },
      "source": [
        "LRModel.fit(features, labels)"
      ],
      "execution_count": null,
      "outputs": [
        {
          "output_type": "stream",
          "text": [
            "/usr/local/lib/python3.6/dist-packages/sklearn/linear_model/_logistic.py:940: ConvergenceWarning: lbfgs failed to converge (status=1):\n",
            "STOP: TOTAL NO. of ITERATIONS REACHED LIMIT.\n",
            "\n",
            "Increase the number of iterations (max_iter) or scale the data as shown in:\n",
            "    https://scikit-learn.org/stable/modules/preprocessing.html\n",
            "Please also refer to the documentation for alternative solver options:\n",
            "    https://scikit-learn.org/stable/modules/linear_model.html#logistic-regression\n",
            "  extra_warning_msg=_LOGISTIC_SOLVER_CONVERGENCE_MSG)\n"
          ],
          "name": "stderr"
        },
        {
          "output_type": "execute_result",
          "data": {
            "text/plain": [
              "LogisticRegression(C=1.0, class_weight=None, dual=False, fit_intercept=True,\n",
              "                   intercept_scaling=1, l1_ratio=None, max_iter=100,\n",
              "                   multi_class='auto', n_jobs=None, penalty='l2',\n",
              "                   random_state=30, solver='lbfgs', tol=0.0001, verbose=0,\n",
              "                   warm_start=False)"
            ]
          },
          "metadata": {
            "tags": []
          },
          "execution_count": 8
        }
      ]
    },
    {
      "cell_type": "code",
      "metadata": {
        "colab": {
          "base_uri": "https://localhost:8080/"
        },
        "id": "yUY3xN1eXd5u",
        "outputId": "8c14c88c-6b39-4c9f-8451-85c602dbb3fd"
      },
      "source": [
        "from joblib import dump, load\r\n",
        "dump(LRModel, 'drive/MyDrive/CI_FinalProject/LogisticRegressionModel.joblib')"
      ],
      "execution_count": null,
      "outputs": [
        {
          "output_type": "execute_result",
          "data": {
            "text/plain": [
              "['drive/MyDrive/CI_FinalProject/LogisticRegressionModel.joblib']"
            ]
          },
          "metadata": {
            "tags": []
          },
          "execution_count": 10
        }
      ]
    },
    {
      "cell_type": "code",
      "metadata": {
        "id": "N50bcY7oPxEc"
      },
      "source": [
        "y_pred = LRModel.predict(test_features)"
      ],
      "execution_count": null,
      "outputs": []
    },
    {
      "cell_type": "code",
      "metadata": {
        "id": "zwGkXgtGXpXs"
      },
      "source": [
        "Y_pred_name =[]\r\n",
        "for cat_id in y_pred:\r\n",
        "  Y_pred_name.append(id2label[cat_id])"
      ],
      "execution_count": null,
      "outputs": []
    },
    {
      "cell_type": "code",
      "metadata": {
        "id": "oQ6J1vYsXz4z"
      },
      "source": [
        "submission = pd.DataFrame({\r\n",
        "        \"Id\": test_data[\"Id\"],\r\n",
        "        \"Category\": Y_pred_name\r\n",
        "    })"
      ],
      "execution_count": null,
      "outputs": []
    },
    {
      "cell_type": "code",
      "metadata": {
        "colab": {
          "base_uri": "https://localhost:8080/",
          "height": 195
        },
        "id": "bOzJvKQUX16T",
        "outputId": "d3ec8534-8015-4d46-9f79-a739287c1769"
      },
      "source": [
        "submission.head()"
      ],
      "execution_count": null,
      "outputs": [
        {
          "output_type": "execute_result",
          "data": {
            "text/html": [
              "<div>\n",
              "<style scoped>\n",
              "    .dataframe tbody tr th:only-of-type {\n",
              "        vertical-align: middle;\n",
              "    }\n",
              "\n",
              "    .dataframe tbody tr th {\n",
              "        vertical-align: top;\n",
              "    }\n",
              "\n",
              "    .dataframe thead th {\n",
              "        text-align: right;\n",
              "    }\n",
              "</style>\n",
              "<table border=\"1\" class=\"dataframe\">\n",
              "  <thead>\n",
              "    <tr style=\"text-align: right;\">\n",
              "      <th></th>\n",
              "      <th>Id</th>\n",
              "      <th>Category</th>\n",
              "    </tr>\n",
              "  </thead>\n",
              "  <tbody>\n",
              "    <tr>\n",
              "      <th>0</th>\n",
              "      <td>0</td>\n",
              "      <td>Miscellaneous.Urban</td>\n",
              "    </tr>\n",
              "    <tr>\n",
              "      <th>1</th>\n",
              "      <td>1</td>\n",
              "      <td>Miscellaneous</td>\n",
              "    </tr>\n",
              "    <tr>\n",
              "      <th>2</th>\n",
              "      <td>2</td>\n",
              "      <td>Economy</td>\n",
              "    </tr>\n",
              "    <tr>\n",
              "      <th>3</th>\n",
              "      <td>3</td>\n",
              "      <td>Science and Culture</td>\n",
              "    </tr>\n",
              "    <tr>\n",
              "      <th>4</th>\n",
              "      <td>4</td>\n",
              "      <td>Politics</td>\n",
              "    </tr>\n",
              "  </tbody>\n",
              "</table>\n",
              "</div>"
            ],
            "text/plain": [
              "   Id             Category\n",
              "0   0  Miscellaneous.Urban\n",
              "1   1        Miscellaneous\n",
              "2   2              Economy\n",
              "3   3  Science and Culture\n",
              "4   4             Politics"
            ]
          },
          "metadata": {
            "tags": []
          },
          "execution_count": 16
        }
      ]
    },
    {
      "cell_type": "code",
      "metadata": {
        "id": "uIto4W56X3R_"
      },
      "source": [
        "submission.to_csv('submission.csv', index=False)"
      ],
      "execution_count": null,
      "outputs": []
    },
    {
      "cell_type": "code",
      "metadata": {
        "id": "I6K98UcCX513"
      },
      "source": [
        ""
      ],
      "execution_count": null,
      "outputs": []
    }
  ]
}