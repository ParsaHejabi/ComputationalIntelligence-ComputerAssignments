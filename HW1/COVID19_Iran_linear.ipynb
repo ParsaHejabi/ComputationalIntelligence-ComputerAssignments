{
  "nbformat": 4,
  "nbformat_minor": 0,
  "metadata": {
    "colab": {
      "name": "COVID19_Iran_linear.ipynb",
      "provenance": [],
      "collapsed_sections": [],
      "include_colab_link": true
    },
    "kernelspec": {
      "name": "python3",
      "display_name": "Python 3"
    }
  },
  "cells": [
    {
      "cell_type": "markdown",
      "metadata": {
        "id": "view-in-github",
        "colab_type": "text"
      },
      "source": [
        "<a href=\"https://colab.research.google.com/github/ParsaHejabi/ComputationalIntelligence-ComputerAssignments/blob/main/HW1/COVID19_Iran_linear.ipynb\" target=\"_parent\"><img src=\"https://colab.research.google.com/assets/colab-badge.svg\" alt=\"Open In Colab\"/></a>"
      ]
    },
    {
      "cell_type": "markdown",
      "metadata": {
        "id": "JicG4qwgI_YT"
      },
      "source": [
        "# COVID-19 infections in Iran - Linear Regression"
      ]
    },
    {
      "cell_type": "markdown",
      "metadata": {
        "id": "3KbjC-HgDyvR"
      },
      "source": [
        "## Download global data from WHO website\n",
        "Data is available at [WHO Coronavirus Disease (COVID-19) Dashboard](https://covid19.who.int/)\n",
        "\n",
        "Downloading data using `wget`"
      ]
    },
    {
      "cell_type": "code",
      "metadata": {
        "id": "-4goiz8kHrrn",
        "outputId": "1ac40454-b54a-4e20-83dd-57a318b691b7",
        "colab": {
          "base_uri": "https://localhost:8080/",
          "height": 215
        }
      },
      "source": [
        "!wget https://covid19.who.int/WHO-COVID-19-global-data.csv"
      ],
      "execution_count": null,
      "outputs": [
        {
          "output_type": "stream",
          "text": [
            "--2020-10-16 18:26:46--  https://covid19.who.int/WHO-COVID-19-global-data.csv\n",
            "Resolving covid19.who.int (covid19.who.int)... 13.224.0.115, 13.224.0.29, 13.224.0.109, ...\n",
            "Connecting to covid19.who.int (covid19.who.int)|13.224.0.115|:443... connected.\n",
            "HTTP request sent, awaiting response... 200 OK\n",
            "Length: 2853359 (2.7M) [text/csv]\n",
            "Saving to: ‘WHO-COVID-19-global-data.csv’\n",
            "\n",
            "WHO-COVID-19-global 100%[===================>]   2.72M  --.-KB/s    in 0.05s   \n",
            "\n",
            "2020-10-16 18:26:46 (55.1 MB/s) - ‘WHO-COVID-19-global-data.csv’ saved [2853359/2853359]\n",
            "\n"
          ],
          "name": "stdout"
        }
      ]
    },
    {
      "cell_type": "markdown",
      "metadata": {
        "id": "f58dt-S0D7lu"
      },
      "source": [
        "## Import all the libraries\n",
        "\n",
        "\n",
        "*   numpy\n",
        "*   pandas\n",
        "*   matplotlib\n",
        "\n"
      ]
    },
    {
      "cell_type": "code",
      "metadata": {
        "id": "qx-7N71pIyau"
      },
      "source": [
        "import numpy as np\n",
        "import pandas as pd\n",
        "\n",
        "import matplotlib.pyplot as plt\n",
        "import matplotlib.dates as mdates"
      ],
      "execution_count": null,
      "outputs": []
    },
    {
      "cell_type": "markdown",
      "metadata": {
        "id": "aVdKX81GJdyw"
      },
      "source": [
        "## Modifying raw dataset\n",
        "\n",
        "\n",
        "*   Parse `Date_reported` as `np.datetime64`\n",
        "*   Dropping ` Country_code` and ` WHO_region` columns\n",
        "\n"
      ]
    },
    {
      "cell_type": "code",
      "metadata": {
        "id": "vFEOLXB1J1Rf",
        "outputId": "971b0422-0f52-45c1-a828-f3894e87af93",
        "colab": {
          "base_uri": "https://localhost:8080/",
          "height": 204
        }
      },
      "source": [
        "raw_dataset = pd.read_csv('WHO-COVID-19-global-data.csv')\n",
        "\n",
        "dataset = raw_dataset.copy()\n",
        "dataset = dataset.drop(columns=[' Country_code', ' WHO_region', ' Cumulative_cases', ' New_deaths', ' Cumulative_deaths', 'Date_reported'])\n",
        "dataset = dataset.dropna()\n",
        "dataset.head()"
      ],
      "execution_count": null,
      "outputs": [
        {
          "output_type": "execute_result",
          "data": {
            "text/html": [
              "<div>\n",
              "<style scoped>\n",
              "    .dataframe tbody tr th:only-of-type {\n",
              "        vertical-align: middle;\n",
              "    }\n",
              "\n",
              "    .dataframe tbody tr th {\n",
              "        vertical-align: top;\n",
              "    }\n",
              "\n",
              "    .dataframe thead th {\n",
              "        text-align: right;\n",
              "    }\n",
              "</style>\n",
              "<table border=\"1\" class=\"dataframe\">\n",
              "  <thead>\n",
              "    <tr style=\"text-align: right;\">\n",
              "      <th></th>\n",
              "      <th>Country</th>\n",
              "      <th>New_cases</th>\n",
              "    </tr>\n",
              "  </thead>\n",
              "  <tbody>\n",
              "    <tr>\n",
              "      <th>0</th>\n",
              "      <td>Afghanistan</td>\n",
              "      <td>0</td>\n",
              "    </tr>\n",
              "    <tr>\n",
              "      <th>1</th>\n",
              "      <td>Afghanistan</td>\n",
              "      <td>0</td>\n",
              "    </tr>\n",
              "    <tr>\n",
              "      <th>2</th>\n",
              "      <td>Afghanistan</td>\n",
              "      <td>0</td>\n",
              "    </tr>\n",
              "    <tr>\n",
              "      <th>3</th>\n",
              "      <td>Afghanistan</td>\n",
              "      <td>0</td>\n",
              "    </tr>\n",
              "    <tr>\n",
              "      <th>4</th>\n",
              "      <td>Afghanistan</td>\n",
              "      <td>0</td>\n",
              "    </tr>\n",
              "  </tbody>\n",
              "</table>\n",
              "</div>"
            ],
            "text/plain": [
              "       Country   New_cases\n",
              "0  Afghanistan           0\n",
              "1  Afghanistan           0\n",
              "2  Afghanistan           0\n",
              "3  Afghanistan           0\n",
              "4  Afghanistan           0"
            ]
          },
          "metadata": {
            "tags": []
          },
          "execution_count": 3
        }
      ]
    },
    {
      "cell_type": "markdown",
      "metadata": {
        "id": "BsF3WVlZKCDS"
      },
      "source": [
        "## Filtering raw dataset to Iran country only"
      ]
    },
    {
      "cell_type": "code",
      "metadata": {
        "id": "E7WVYQCgKB2a",
        "outputId": "7f3462ec-0f4c-446b-af24-b32f8309ce83",
        "colab": {
          "base_uri": "https://localhost:8080/",
          "height": 204
        }
      },
      "source": [
        "dataset_iran = dataset.copy()\n",
        "dataset_iran.drop(dataset_iran[dataset_iran[' Country'] != 'Iran (Islamic Republic of)'].index, inplace=True)\n",
        "dataset_iran.drop(columns=[' Country'], inplace=True)\n",
        "dataset_iran.rename(columns={\" New_cases\": \"New_cases\"}, inplace=True)\n",
        "dataset_iran.reset_index(inplace=True, drop=True)\n",
        "dataset_iran.reset_index(inplace=True)\n",
        "dataset_iran.head()"
      ],
      "execution_count": null,
      "outputs": [
        {
          "output_type": "execute_result",
          "data": {
            "text/html": [
              "<div>\n",
              "<style scoped>\n",
              "    .dataframe tbody tr th:only-of-type {\n",
              "        vertical-align: middle;\n",
              "    }\n",
              "\n",
              "    .dataframe tbody tr th {\n",
              "        vertical-align: top;\n",
              "    }\n",
              "\n",
              "    .dataframe thead th {\n",
              "        text-align: right;\n",
              "    }\n",
              "</style>\n",
              "<table border=\"1\" class=\"dataframe\">\n",
              "  <thead>\n",
              "    <tr style=\"text-align: right;\">\n",
              "      <th></th>\n",
              "      <th>index</th>\n",
              "      <th>New_cases</th>\n",
              "    </tr>\n",
              "  </thead>\n",
              "  <tbody>\n",
              "    <tr>\n",
              "      <th>0</th>\n",
              "      <td>0</td>\n",
              "      <td>0</td>\n",
              "    </tr>\n",
              "    <tr>\n",
              "      <th>1</th>\n",
              "      <td>1</td>\n",
              "      <td>0</td>\n",
              "    </tr>\n",
              "    <tr>\n",
              "      <th>2</th>\n",
              "      <td>2</td>\n",
              "      <td>0</td>\n",
              "    </tr>\n",
              "    <tr>\n",
              "      <th>3</th>\n",
              "      <td>3</td>\n",
              "      <td>0</td>\n",
              "    </tr>\n",
              "    <tr>\n",
              "      <th>4</th>\n",
              "      <td>4</td>\n",
              "      <td>0</td>\n",
              "    </tr>\n",
              "  </tbody>\n",
              "</table>\n",
              "</div>"
            ],
            "text/plain": [
              "   index  New_cases\n",
              "0      0          0\n",
              "1      1          0\n",
              "2      2          0\n",
              "3      3          0\n",
              "4      4          0"
            ]
          },
          "metadata": {
            "tags": []
          },
          "execution_count": 4
        }
      ]
    },
    {
      "cell_type": "markdown",
      "metadata": {
        "id": "p6CcPWULKMeM"
      },
      "source": [
        "## Plotting the data related to Iran"
      ]
    },
    {
      "cell_type": "code",
      "metadata": {
        "id": "3MrZGV-Y5w8O",
        "outputId": "dae4d1fa-64e5-428b-8cac-10da17bb2cda",
        "colab": {
          "base_uri": "https://localhost:8080/",
          "height": 592
        }
      },
      "source": [
        "fig, ax = plt.subplots(figsize=(20,10))\n",
        "\n",
        "ax.plot(dataset_iran['index'], dataset_iran['New_cases'])\n",
        "ax.grid(True)\n",
        "\n",
        "plt.show()"
      ],
      "execution_count": null,
      "outputs": [
        {
          "output_type": "display_data",
          "data": {
            "image/png": "[encoded data removed]",
            "text/plain": [
              "<Figure size 1440x720 with 1 Axes>"
            ]
          },
          "metadata": {
            "tags": [],
            "needs_background": "light"
          }
        }
      ]
    },
    {
      "cell_type": "markdown",
      "metadata": {
        "id": "i53UMB2ANxAX"
      },
      "source": [
        "## Making train and dataset"
      ]
    },
    {
      "cell_type": "code",
      "metadata": {
        "id": "K_DqodR8K0h3",
        "outputId": "94d98e66-fadb-4126-f71e-e6e0a0ffa762",
        "colab": {
          "base_uri": "https://localhost:8080/",
          "height": 89
        }
      },
      "source": [
        "train_dataset_iran = dataset_iran.sample(frac=0.8, random_state=0, axis=0)\n",
        "train_dataset_iran.sort_index(inplace=True)\n",
        "test_dataset_iran = dataset_iran.drop(train_dataset_iran.index)\n",
        "print (\"Number of training examples: \" + str(train_dataset_iran.shape[0]))\n",
        "print (\"Number of testing examples: \" + str(test_dataset_iran.shape[0]))\n",
        "print (\"train_dataset_iran shape: \" + str(train_dataset_iran.shape))\n",
        "print (\"test_dataset_iran shape: \" + str(test_dataset_iran.shape))"
      ],
      "execution_count": null,
      "outputs": [
        {
          "output_type": "stream",
          "text": [
            "Number of training examples: 230\n",
            "Number of testing examples: 58\n",
            "train_dataset_iran shape: (230, 2)\n",
            "test_dataset_iran shape: (58, 2)\n"
          ],
          "name": "stdout"
        }
      ]
    },
    {
      "cell_type": "code",
      "metadata": {
        "id": "ckF8SllZXIJV",
        "outputId": "48bbd794-0544-4bfa-f3b9-398cc354b7f0",
        "colab": {
          "base_uri": "https://localhost:8080/",
          "height": 592
        }
      },
      "source": [
        "fig, ax = plt.subplots(figsize=(20,10))\n",
        "\n",
        "ax.scatter(test_dataset_iran['index'], test_dataset_iran['New_cases'])\n",
        "ax.grid(True)\n",
        "\n",
        "plt.show()"
      ],
      "execution_count": null,
      "outputs": [
        {
          "output_type": "display_data",
          "data": {
            "image/png": "[encoded data removed]",
            "text/plain": [
              "<Figure size 1440x720 with 1 Axes>"
            ]
          },
          "metadata": {
            "tags": [],
            "needs_background": "light"
          }
        }
      ]
    },
    {
      "cell_type": "markdown",
      "metadata": {
        "id": "V7BeMBNXR6Gj"
      },
      "source": [
        "## Split features from labels"
      ]
    },
    {
      "cell_type": "code",
      "metadata": {
        "id": "VGxMkavWPLef"
      },
      "source": [
        "train_dataset_iran_y = pd.DataFrame(train_dataset_iran.pop('New_cases'))\n",
        "test_dataset_iran_y = pd.DataFrame(test_dataset_iran.pop('New_cases'))"
      ],
      "execution_count": null,
      "outputs": []
    },
    {
      "cell_type": "code",
      "metadata": {
        "id": "FfMqSMlXZwVq",
        "outputId": "44bff378-705d-4eb2-dbd4-c02a268e72a2",
        "colab": {
          "base_uri": "https://localhost:8080/",
          "height": 80
        }
      },
      "source": [
        "train_dataset_iran_stats = train_dataset_iran.describe().transpose()\n",
        "train_dataset_iran_stats"
      ],
      "execution_count": null,
      "outputs": [
        {
          "output_type": "execute_result",
          "data": {
            "text/html": [
              "<div>\n",
              "<style scoped>\n",
              "    .dataframe tbody tr th:only-of-type {\n",
              "        vertical-align: middle;\n",
              "    }\n",
              "\n",
              "    .dataframe tbody tr th {\n",
              "        vertical-align: top;\n",
              "    }\n",
              "\n",
              "    .dataframe thead th {\n",
              "        text-align: right;\n",
              "    }\n",
              "</style>\n",
              "<table border=\"1\" class=\"dataframe\">\n",
              "  <thead>\n",
              "    <tr style=\"text-align: right;\">\n",
              "      <th></th>\n",
              "      <th>count</th>\n",
              "      <th>mean</th>\n",
              "      <th>std</th>\n",
              "      <th>min</th>\n",
              "      <th>25%</th>\n",
              "      <th>50%</th>\n",
              "      <th>75%</th>\n",
              "      <th>max</th>\n",
              "    </tr>\n",
              "  </thead>\n",
              "  <tbody>\n",
              "    <tr>\n",
              "      <th>index</th>\n",
              "      <td>230.0</td>\n",
              "      <td>142.391304</td>\n",
              "      <td>83.940788</td>\n",
              "      <td>0.0</td>\n",
              "      <td>69.5</td>\n",
              "      <td>141.5</td>\n",
              "      <td>216.75</td>\n",
              "      <td>287.0</td>\n",
              "    </tr>\n",
              "  </tbody>\n",
              "</table>\n",
              "</div>"
            ],
            "text/plain": [
              "       count        mean        std  min   25%    50%     75%    max\n",
              "index  230.0  142.391304  83.940788  0.0  69.5  141.5  216.75  287.0"
            ]
          },
          "metadata": {
            "tags": []
          },
          "execution_count": 9
        }
      ]
    },
    {
      "cell_type": "code",
      "metadata": {
        "id": "rqHyzNp0Id87"
      },
      "source": [
        "def norm(x):\n",
        "  return (x - train_dataset_iran_stats['mean']) / train_dataset_iran_stats['std']\n",
        "  \n",
        "normed_train_dataset_iran = norm(train_dataset_iran)\n",
        "normed_test_dataset_iran = norm(test_dataset_iran)"
      ],
      "execution_count": null,
      "outputs": []
    },
    {
      "cell_type": "code",
      "metadata": {
        "id": "DQogHhJceLwH",
        "outputId": "10a10769-73ff-4e9c-8502-01cc8acb7179",
        "colab": {
          "base_uri": "https://localhost:8080/",
          "height": 204
        }
      },
      "source": [
        "normed_train_dataset_iran.head()"
      ],
      "execution_count": null,
      "outputs": [
        {
          "output_type": "execute_result",
          "data": {
            "text/html": [
              "<div>\n",
              "<style scoped>\n",
              "    .dataframe tbody tr th:only-of-type {\n",
              "        vertical-align: middle;\n",
              "    }\n",
              "\n",
              "    .dataframe tbody tr th {\n",
              "        vertical-align: top;\n",
              "    }\n",
              "\n",
              "    .dataframe thead th {\n",
              "        text-align: right;\n",
              "    }\n",
              "</style>\n",
              "<table border=\"1\" class=\"dataframe\">\n",
              "  <thead>\n",
              "    <tr style=\"text-align: right;\">\n",
              "      <th></th>\n",
              "      <th>index</th>\n",
              "    </tr>\n",
              "  </thead>\n",
              "  <tbody>\n",
              "    <tr>\n",
              "      <th>0</th>\n",
              "      <td>-1.696330</td>\n",
              "    </tr>\n",
              "    <tr>\n",
              "      <th>1</th>\n",
              "      <td>-1.684417</td>\n",
              "    </tr>\n",
              "    <tr>\n",
              "      <th>2</th>\n",
              "      <td>-1.672504</td>\n",
              "    </tr>\n",
              "    <tr>\n",
              "      <th>3</th>\n",
              "      <td>-1.660591</td>\n",
              "    </tr>\n",
              "    <tr>\n",
              "      <th>4</th>\n",
              "      <td>-1.648678</td>\n",
              "    </tr>\n",
              "  </tbody>\n",
              "</table>\n",
              "</div>"
            ],
            "text/plain": [
              "      index\n",
              "0 -1.696330\n",
              "1 -1.684417\n",
              "2 -1.672504\n",
              "3 -1.660591\n",
              "4 -1.648678"
            ]
          },
          "metadata": {
            "tags": []
          },
          "execution_count": 11
        }
      ]
    },
    {
      "cell_type": "code",
      "metadata": {
        "id": "lLomHayeeNSo",
        "outputId": "913a11b7-d1da-4db3-ad56-bdc24f25fdf8",
        "colab": {
          "base_uri": "https://localhost:8080/",
          "height": 204
        }
      },
      "source": [
        "normed_test_dataset_iran.head()"
      ],
      "execution_count": null,
      "outputs": [
        {
          "output_type": "execute_result",
          "data": {
            "text/html": [
              "<div>\n",
              "<style scoped>\n",
              "    .dataframe tbody tr th:only-of-type {\n",
              "        vertical-align: middle;\n",
              "    }\n",
              "\n",
              "    .dataframe tbody tr th {\n",
              "        vertical-align: top;\n",
              "    }\n",
              "\n",
              "    .dataframe thead th {\n",
              "        text-align: right;\n",
              "    }\n",
              "</style>\n",
              "<table border=\"1\" class=\"dataframe\">\n",
              "  <thead>\n",
              "    <tr style=\"text-align: right;\">\n",
              "      <th></th>\n",
              "      <th>index</th>\n",
              "    </tr>\n",
              "  </thead>\n",
              "  <tbody>\n",
              "    <tr>\n",
              "      <th>9</th>\n",
              "      <td>-1.589112</td>\n",
              "    </tr>\n",
              "    <tr>\n",
              "      <th>17</th>\n",
              "      <td>-1.493807</td>\n",
              "    </tr>\n",
              "    <tr>\n",
              "      <th>25</th>\n",
              "      <td>-1.398501</td>\n",
              "    </tr>\n",
              "    <tr>\n",
              "      <th>28</th>\n",
              "      <td>-1.362762</td>\n",
              "    </tr>\n",
              "    <tr>\n",
              "      <th>31</th>\n",
              "      <td>-1.327022</td>\n",
              "    </tr>\n",
              "  </tbody>\n",
              "</table>\n",
              "</div>"
            ],
            "text/plain": [
              "       index\n",
              "9  -1.589112\n",
              "17 -1.493807\n",
              "25 -1.398501\n",
              "28 -1.362762\n",
              "31 -1.327022"
            ]
          },
          "metadata": {
            "tags": []
          },
          "execution_count": 12
        }
      ]
    },
    {
      "cell_type": "code",
      "metadata": {
        "id": "HZZgh1l51uFu",
        "outputId": "1ae41ab2-5488-4277-e58d-3dfe4239071a",
        "colab": {
          "base_uri": "https://localhost:8080/",
          "height": 161
        }
      },
      "source": [
        "print (\"Number of training examples: \" + str(normed_train_dataset_iran.shape[0]))\n",
        "print (\"Number of testing examples: \" + str(normed_test_dataset_iran.shape[0]))\n",
        "print (\"train_dataset_iran shape: \" + str(normed_train_dataset_iran.shape))\n",
        "print (\"test_dataset_iran shape: \" + str(normed_test_dataset_iran.shape))\n",
        "\n",
        "print (\"Number of training labels: \" + str(train_dataset_iran_y.shape[0]))\n",
        "print (\"Number of testing labels: \" + str(test_dataset_iran_y.shape[0]))\n",
        "print (\"train_dataset_iran_y shape: \" + str(train_dataset_iran_y.shape))\n",
        "print (\"test_dataset_iran_y shape: \" + str(test_dataset_iran_y.shape))"
      ],
      "execution_count": null,
      "outputs": [
        {
          "output_type": "stream",
          "text": [
            "Number of training examples: 230\n",
            "Number of testing examples: 58\n",
            "train_dataset_iran shape: (230, 1)\n",
            "test_dataset_iran shape: (58, 1)\n",
            "Number of training labels: 230\n",
            "Number of testing labels: 58\n",
            "train_dataset_iran_y shape: (230, 1)\n",
            "test_dataset_iran_y shape: (58, 1)\n"
          ],
          "name": "stdout"
        }
      ]
    },
    {
      "cell_type": "code",
      "metadata": {
        "id": "4eklm4BKi6Pr"
      },
      "source": [
        "def initialize_params():\n",
        "  w = 0\n",
        "  b = 0\n",
        "    \n",
        "  return w, b"
      ],
      "execution_count": null,
      "outputs": []
    },
    {
      "cell_type": "code",
      "metadata": {
        "id": "fPU0L7YSvIEi"
      },
      "source": [
        "def propagate(w, b, x, y):\n",
        "  m = x.shape[0]\n",
        "\n",
        "  A = w * x + b\n",
        "  cost = (1 / (2. * m)) * np.sum((A.values - y) ** 2)\n",
        "\n",
        "  dw = (1 / m) * np.squeeze(np.dot((A.values - y).T, x)[0])\n",
        "  db = np.squeeze((1 / m) * np.sum(A.values - y))\n",
        "\n",
        "  cost = np.squeeze(cost)\n",
        "  assert(cost.shape == ())\n",
        "    \n",
        "  grads = {\"dw\": dw, \"db\": db}\n",
        "  \n",
        "  return grads, cost"
      ],
      "execution_count": null,
      "outputs": []
    },
    {
      "cell_type": "code",
      "metadata": {
        "id": "TwnGqKuy8oSO"
      },
      "source": [
        "def optimize(w, b, x, y, num_iterations, learning_rate, print_cost = False):\n",
        "  costs = []\n",
        "  \n",
        "  for i in range(num_iterations):\n",
        "    grads, cost = propagate(w, b, x, y)\n",
        "    \n",
        "    dw = grads[\"dw\"]\n",
        "    db = grads[\"db\"]\n",
        "    \n",
        "    w = w - learning_rate * dw\n",
        "    b = b - learning_rate * db\n",
        "    \n",
        "    if i % 100 == 0:\n",
        "      costs.append(cost)\n",
        "    \n",
        "    if print_cost and i % 100 == 0:\n",
        "      print (\"Cost after iteration %i: %f\" %(i, cost))\n",
        "    \n",
        "  params = {\"w\": w, \"b\": b}\n",
        "    \n",
        "  grads = {\"dw\": dw, \"db\": db}\n",
        "    \n",
        "  return params, grads, costs"
      ],
      "execution_count": null,
      "outputs": []
    },
    {
      "cell_type": "code",
      "metadata": {
        "id": "txmhXQpSr2kb"
      },
      "source": [
        "def model(X_train, Y_train, X_test, Y_test, num_iterations = 2000, learning_rate = 0.5, print_cost = False):\n",
        "  w, b = initialize_params()\n",
        "  \n",
        "  parameters, grads, costs = optimize(w, b, X_train, Y_train, num_iterations, learning_rate, print_cost)\n",
        "  \n",
        "  w = parameters[\"w\"]\n",
        "  b = parameters[\"b\"]\n",
        "  \n",
        "  Y_prediction_test = w * X_test + b\n",
        "  Y_prediction_train = w * X_train + b\n",
        "  \n",
        "  print(\"train error: {} %\".format(np.mean((Y_prediction_train.values - Y_train) ** 2)))\n",
        "  print(\"test error: {} %\".format(np.mean((Y_prediction_test.values - Y_test) ** 2)))\n",
        "  \n",
        "  d = {\"costs\": costs,\n",
        "       \"Y_prediction_test\": Y_prediction_test, \n",
        "       \"Y_prediction_train\" : Y_prediction_train, \n",
        "       \"w\" : w, \n",
        "       \"b\" : b,\n",
        "       \"learning_rate\" : learning_rate,\n",
        "       \"num_iterations\": num_iterations}\n",
        "  \n",
        "  return d"
      ],
      "execution_count": null,
      "outputs": []
    },
    {
      "cell_type": "code",
      "metadata": {
        "id": "mYq2rQaKA9Td",
        "outputId": "a821f4d3-bea2-438b-fcb8-2f06ea98cf47",
        "colab": {
          "base_uri": "https://localhost:8080/",
          "height": 989
        }
      },
      "source": [
        "d = model(normed_train_dataset_iran, train_dataset_iran_y, normed_test_dataset_iran, test_dataset_iran_y, num_iterations = 5000, learning_rate = 0.01, print_cost = True)"
      ],
      "execution_count": null,
      "outputs": [
        {
          "output_type": "stream",
          "text": [
            "Cost after iteration 0: 2301464.689130\n",
            "Cost after iteration 100: 465444.775958\n",
            "Cost after iteration 200: 218937.319903\n",
            "Cost after iteration 300: 185840.303161\n",
            "Cost after iteration 400: 181396.510529\n",
            "Cost after iteration 500: 180799.853320\n",
            "Cost after iteration 600: 180719.740467\n",
            "Cost after iteration 700: 180708.983601\n",
            "Cost after iteration 800: 180707.539241\n",
            "Cost after iteration 900: 180707.345299\n",
            "Cost after iteration 1000: 180707.319257\n",
            "Cost after iteration 1100: 180707.315760\n",
            "Cost after iteration 1200: 180707.315291\n",
            "Cost after iteration 1300: 180707.315228\n",
            "Cost after iteration 1400: 180707.315219\n",
            "Cost after iteration 1500: 180707.315218\n",
            "Cost after iteration 1600: 180707.315218\n",
            "Cost after iteration 1700: 180707.315218\n",
            "Cost after iteration 1800: 180707.315218\n",
            "Cost after iteration 1900: 180707.315218\n",
            "Cost after iteration 2000: 180707.315218\n",
            "Cost after iteration 2100: 180707.315218\n",
            "Cost after iteration 2200: 180707.315218\n",
            "Cost after iteration 2300: 180707.315218\n",
            "Cost after iteration 2400: 180707.315218\n",
            "Cost after iteration 2500: 180707.315218\n",
            "Cost after iteration 2600: 180707.315218\n",
            "Cost after iteration 2700: 180707.315218\n",
            "Cost after iteration 2800: 180707.315218\n",
            "Cost after iteration 2900: 180707.315218\n",
            "Cost after iteration 3000: 180707.315218\n",
            "Cost after iteration 3100: 180707.315218\n",
            "Cost after iteration 3200: 180707.315218\n",
            "Cost after iteration 3300: 180707.315218\n",
            "Cost after iteration 3400: 180707.315218\n",
            "Cost after iteration 3500: 180707.315218\n",
            "Cost after iteration 3600: 180707.315218\n",
            "Cost after iteration 3700: 180707.315218\n",
            "Cost after iteration 3800: 180707.315218\n",
            "Cost after iteration 3900: 180707.315218\n",
            "Cost after iteration 4000: 180707.315218\n",
            "Cost after iteration 4100: 180707.315218\n",
            "Cost after iteration 4200: 180707.315218\n",
            "Cost after iteration 4300: 180707.315218\n",
            "Cost after iteration 4400: 180707.315218\n",
            "Cost after iteration 4500: 180707.315218\n",
            "Cost after iteration 4600: 180707.315218\n",
            "Cost after iteration 4700: 180707.315218\n",
            "Cost after iteration 4800: 180707.315218\n",
            "Cost after iteration 4900: 180707.315218\n",
            "train error: New_cases    361414.630436\n",
            "dtype: float64 %\n",
            "test error: New_cases    422242.357577\n",
            "dtype: float64 %\n"
          ],
          "name": "stdout"
        }
      ]
    },
    {
      "cell_type": "code",
      "metadata": {
        "id": "xNQ5L9tElcC1",
        "outputId": "9ae892c2-e7a6-4d6f-a5f8-fcef58be0a07",
        "colab": {
          "base_uri": "https://localhost:8080/",
          "height": 592
        }
      },
      "source": [
        "fig, ax = plt.subplots(figsize=(20,10))\n",
        "\n",
        "ax.scatter(normed_train_dataset_iran['index'], train_dataset_iran_y['New_cases'])\n",
        "ax.plot(normed_train_dataset_iran['index'], d['w'] * normed_train_dataset_iran['index'] + d['b'], color='black')\n",
        "ax.grid(True)\n",
        "\n",
        "plt.show()"
      ],
      "execution_count": null,
      "outputs": [
        {
          "output_type": "display_data",
          "data": {
            "image/png": "[encoded data removed]",
            "text/plain": [
              "<Figure size 1440x720 with 1 Axes>"
            ]
          },
          "metadata": {
            "tags": [],
            "needs_background": "light"
          }
        }
      ]
    }
  ]
}