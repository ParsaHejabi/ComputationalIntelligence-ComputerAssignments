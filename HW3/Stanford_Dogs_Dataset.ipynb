{
  "nbformat": 4,
  "nbformat_minor": 0,
  "metadata": {
    "colab": {
      "name": "Stanford Dogs Dataset.ipynb",
      "provenance": [],
      "mount_file_id": "1tHap0xWxMrTyqlWnLUB748_DuBwqJEgk",
      "authorship_tag": "ABX9TyPwWNYU++zAL05v5qf1YFGv",
      "include_colab_link": true
    },
    "kernelspec": {
      "name": "python3",
      "display_name": "Python 3"
    },
    "accelerator": "GPU",
    "widgets": {
      "application/vnd.jupyter.widget-state+json": {
        "0f731b36b3a2412bbc79d263f94df826": {
          "model_module": "@jupyter-widgets/controls",
          "model_name": "HBoxModel",
          "state": {
            "_view_name": "HBoxView",
            "_dom_classes": [],
            "_model_name": "HBoxModel",
            "_view_module": "@jupyter-widgets/controls",
            "_model_module_version": "1.5.0",
            "_view_count": null,
            "_view_module_version": "1.5.0",
            "box_style": "",
            "layout": "IPY_MODEL_48c6e03625a04e3ba0a5c1d9ef738f1f",
            "_model_module": "@jupyter-widgets/controls",
            "children": [
              "IPY_MODEL_c2ad86b85b11427aab8e012c6bed97f7",
              "IPY_MODEL_dc326d510a394d06b8804bf3125262b2"
            ]
          }
        },
        "48c6e03625a04e3ba0a5c1d9ef738f1f": {
          "model_module": "@jupyter-widgets/base",
          "model_name": "LayoutModel",
          "state": {
            "_view_name": "LayoutView",
            "grid_template_rows": null,
            "right": null,
            "justify_content": null,
            "_view_module": "@jupyter-widgets/base",
            "overflow": null,
            "_model_module_version": "1.2.0",
            "_view_count": null,
            "flex_flow": null,
            "width": null,
            "min_width": null,
            "border": null,
            "align_items": null,
            "bottom": null,
            "_model_module": "@jupyter-widgets/base",
            "top": null,
            "grid_column": null,
            "overflow_y": null,
            "overflow_x": null,
            "grid_auto_flow": null,
            "grid_area": null,
            "grid_template_columns": null,
            "flex": null,
            "_model_name": "LayoutModel",
            "justify_items": null,
            "grid_row": null,
            "max_height": null,
            "align_content": null,
            "visibility": null,
            "align_self": null,
            "height": null,
            "min_height": null,
            "padding": null,
            "grid_auto_rows": null,
            "grid_gap": null,
            "max_width": null,
            "order": null,
            "_view_module_version": "1.2.0",
            "grid_template_areas": null,
            "object_position": null,
            "object_fit": null,
            "grid_auto_columns": null,
            "margin": null,
            "display": null,
            "left": null
          }
        },
        "c2ad86b85b11427aab8e012c6bed97f7": {
          "model_module": "@jupyter-widgets/controls",
          "model_name": "FloatProgressModel",
          "state": {
            "_view_name": "ProgressView",
            "style": "IPY_MODEL_e3ae5b6b697e458eb149671291cd0645",
            "_dom_classes": [],
            "description": "100%",
            "_model_name": "FloatProgressModel",
            "bar_style": "success",
            "max": 451,
            "_view_module": "@jupyter-widgets/controls",
            "_model_module_version": "1.5.0",
            "value": 451,
            "_view_count": null,
            "_view_module_version": "1.5.0",
            "orientation": "horizontal",
            "min": 0,
            "description_tooltip": null,
            "_model_module": "@jupyter-widgets/controls",
            "layout": "IPY_MODEL_1c60f3ee6dcb479bacfc93d01a8964b9"
          }
        },
        "dc326d510a394d06b8804bf3125262b2": {
          "model_module": "@jupyter-widgets/controls",
          "model_name": "HTMLModel",
          "state": {
            "_view_name": "HTMLView",
            "style": "IPY_MODEL_e618d57fd06c4f2688d143c7abac3875",
            "_dom_classes": [],
            "description": "",
            "_model_name": "HTMLModel",
            "placeholder": "​",
            "_view_module": "@jupyter-widgets/controls",
            "_model_module_version": "1.5.0",
            "value": " 451/451 [03:40&lt;00:00,  2.05it/s]",
            "_view_count": null,
            "_view_module_version": "1.5.0",
            "description_tooltip": null,
            "_model_module": "@jupyter-widgets/controls",
            "layout": "IPY_MODEL_03789f23628b4e4eac79be1b69b5b915"
          }
        },
        "e3ae5b6b697e458eb149671291cd0645": {
          "model_module": "@jupyter-widgets/controls",
          "model_name": "ProgressStyleModel",
          "state": {
            "_view_name": "StyleView",
            "_model_name": "ProgressStyleModel",
            "description_width": "initial",
            "_view_module": "@jupyter-widgets/base",
            "_model_module_version": "1.5.0",
            "_view_count": null,
            "_view_module_version": "1.2.0",
            "bar_color": null,
            "_model_module": "@jupyter-widgets/controls"
          }
        },
        "1c60f3ee6dcb479bacfc93d01a8964b9": {
          "model_module": "@jupyter-widgets/base",
          "model_name": "LayoutModel",
          "state": {
            "_view_name": "LayoutView",
            "grid_template_rows": null,
            "right": null,
            "justify_content": null,
            "_view_module": "@jupyter-widgets/base",
            "overflow": null,
            "_model_module_version": "1.2.0",
            "_view_count": null,
            "flex_flow": null,
            "width": null,
            "min_width": null,
            "border": null,
            "align_items": null,
            "bottom": null,
            "_model_module": "@jupyter-widgets/base",
            "top": null,
            "grid_column": null,
            "overflow_y": null,
            "overflow_x": null,
            "grid_auto_flow": null,
            "grid_area": null,
            "grid_template_columns": null,
            "flex": null,
            "_model_name": "LayoutModel",
            "justify_items": null,
            "grid_row": null,
            "max_height": null,
            "align_content": null,
            "visibility": null,
            "align_self": null,
            "height": null,
            "min_height": null,
            "padding": null,
            "grid_auto_rows": null,
            "grid_gap": null,
            "max_width": null,
            "order": null,
            "_view_module_version": "1.2.0",
            "grid_template_areas": null,
            "object_position": null,
            "object_fit": null,
            "grid_auto_columns": null,
            "margin": null,
            "display": null,
            "left": null
          }
        },
        "e618d57fd06c4f2688d143c7abac3875": {
          "model_module": "@jupyter-widgets/controls",
          "model_name": "DescriptionStyleModel",
          "state": {
            "_view_name": "StyleView",
            "_model_name": "DescriptionStyleModel",
            "description_width": "",
            "_view_module": "@jupyter-widgets/base",
            "_model_module_version": "1.5.0",
            "_view_count": null,
            "_view_module_version": "1.2.0",
            "_model_module": "@jupyter-widgets/controls"
          }
        },
        "03789f23628b4e4eac79be1b69b5b915": {
          "model_module": "@jupyter-widgets/base",
          "model_name": "LayoutModel",
          "state": {
            "_view_name": "LayoutView",
            "grid_template_rows": null,
            "right": null,
            "justify_content": null,
            "_view_module": "@jupyter-widgets/base",
            "overflow": null,
            "_model_module_version": "1.2.0",
            "_view_count": null,
            "flex_flow": null,
            "width": null,
            "min_width": null,
            "border": null,
            "align_items": null,
            "bottom": null,
            "_model_module": "@jupyter-widgets/base",
            "top": null,
            "grid_column": null,
            "overflow_y": null,
            "overflow_x": null,
            "grid_auto_flow": null,
            "grid_area": null,
            "grid_template_columns": null,
            "flex": null,
            "_model_name": "LayoutModel",
            "justify_items": null,
            "grid_row": null,
            "max_height": null,
            "align_content": null,
            "visibility": null,
            "align_self": null,
            "height": null,
            "min_height": null,
            "padding": null,
            "grid_auto_rows": null,
            "grid_gap": null,
            "max_width": null,
            "order": null,
            "_view_module_version": "1.2.0",
            "grid_template_areas": null,
            "object_position": null,
            "object_fit": null,
            "grid_auto_columns": null,
            "margin": null,
            "display": null,
            "left": null
          }
        },
        "6f03be68f3c44b5e8803578ef6f8083b": {
          "model_module": "@jupyter-widgets/controls",
          "model_name": "HBoxModel",
          "state": {
            "_view_name": "HBoxView",
            "_dom_classes": [],
            "_model_name": "HBoxModel",
            "_view_module": "@jupyter-widgets/controls",
            "_model_module_version": "1.5.0",
            "_view_count": null,
            "_view_module_version": "1.5.0",
            "box_style": "",
            "layout": "IPY_MODEL_18b61c0cc7394577a7310b05439273f1",
            "_model_module": "@jupyter-widgets/controls",
            "children": [
              "IPY_MODEL_80b6258acb3240e1be65311c1d2a95bd",
              "IPY_MODEL_cf46de8f0a254c379ef1c0a65fbed82e"
            ]
          }
        },
        "18b61c0cc7394577a7310b05439273f1": {
          "model_module": "@jupyter-widgets/base",
          "model_name": "LayoutModel",
          "state": {
            "_view_name": "LayoutView",
            "grid_template_rows": null,
            "right": null,
            "justify_content": null,
            "_view_module": "@jupyter-widgets/base",
            "overflow": null,
            "_model_module_version": "1.2.0",
            "_view_count": null,
            "flex_flow": null,
            "width": null,
            "min_width": null,
            "border": null,
            "align_items": null,
            "bottom": null,
            "_model_module": "@jupyter-widgets/base",
            "top": null,
            "grid_column": null,
            "overflow_y": null,
            "overflow_x": null,
            "grid_auto_flow": null,
            "grid_area": null,
            "grid_template_columns": null,
            "flex": null,
            "_model_name": "LayoutModel",
            "justify_items": null,
            "grid_row": null,
            "max_height": null,
            "align_content": null,
            "visibility": null,
            "align_self": null,
            "height": null,
            "min_height": null,
            "padding": null,
            "grid_auto_rows": null,
            "grid_gap": null,
            "max_width": null,
            "order": null,
            "_view_module_version": "1.2.0",
            "grid_template_areas": null,
            "object_position": null,
            "object_fit": null,
            "grid_auto_columns": null,
            "margin": null,
            "display": null,
            "left": null
          }
        },
        "80b6258acb3240e1be65311c1d2a95bd": {
          "model_module": "@jupyter-widgets/controls",
          "model_name": "FloatProgressModel",
          "state": {
            "_view_name": "ProgressView",
            "style": "IPY_MODEL_baf8837fe77c4a6189b81028f566402b",
            "_dom_classes": [],
            "description": "100%",
            "_model_name": "FloatProgressModel",
            "bar_style": "success",
            "max": 451,
            "_view_module": "@jupyter-widgets/controls",
            "_model_module_version": "1.5.0",
            "value": 451,
            "_view_count": null,
            "_view_module_version": "1.5.0",
            "orientation": "horizontal",
            "min": 0,
            "description_tooltip": null,
            "_model_module": "@jupyter-widgets/controls",
            "layout": "IPY_MODEL_e06ea789b6b841e99bad8a0ddbe0f430"
          }
        },
        "cf46de8f0a254c379ef1c0a65fbed82e": {
          "model_module": "@jupyter-widgets/controls",
          "model_name": "HTMLModel",
          "state": {
            "_view_name": "HTMLView",
            "style": "IPY_MODEL_3aa106fc56cd4986b4ce9beff2419bd6",
            "_dom_classes": [],
            "description": "",
            "_model_name": "HTMLModel",
            "placeholder": "​",
            "_view_module": "@jupyter-widgets/controls",
            "_model_module_version": "1.5.0",
            "value": " 451/451 [04:51&lt;00:00,  1.55it/s]",
            "_view_count": null,
            "_view_module_version": "1.5.0",
            "description_tooltip": null,
            "_model_module": "@jupyter-widgets/controls",
            "layout": "IPY_MODEL_9c53901bb9c34432831d551ece28ce03"
          }
        },
        "baf8837fe77c4a6189b81028f566402b": {
          "model_module": "@jupyter-widgets/controls",
          "model_name": "ProgressStyleModel",
          "state": {
            "_view_name": "StyleView",
            "_model_name": "ProgressStyleModel",
            "description_width": "initial",
            "_view_module": "@jupyter-widgets/base",
            "_model_module_version": "1.5.0",
            "_view_count": null,
            "_view_module_version": "1.2.0",
            "bar_color": null,
            "_model_module": "@jupyter-widgets/controls"
          }
        },
        "e06ea789b6b841e99bad8a0ddbe0f430": {
          "model_module": "@jupyter-widgets/base",
          "model_name": "LayoutModel",
          "state": {
            "_view_name": "LayoutView",
            "grid_template_rows": null,
            "right": null,
            "justify_content": null,
            "_view_module": "@jupyter-widgets/base",
            "overflow": null,
            "_model_module_version": "1.2.0",
            "_view_count": null,
            "flex_flow": null,
            "width": null,
            "min_width": null,
            "border": null,
            "align_items": null,
            "bottom": null,
            "_model_module": "@jupyter-widgets/base",
            "top": null,
            "grid_column": null,
            "overflow_y": null,
            "overflow_x": null,
            "grid_auto_flow": null,
            "grid_area": null,
            "grid_template_columns": null,
            "flex": null,
            "_model_name": "LayoutModel",
            "justify_items": null,
            "grid_row": null,
            "max_height": null,
            "align_content": null,
            "visibility": null,
            "align_self": null,
            "height": null,
            "min_height": null,
            "padding": null,
            "grid_auto_rows": null,
            "grid_gap": null,
            "max_width": null,
            "order": null,
            "_view_module_version": "1.2.0",
            "grid_template_areas": null,
            "object_position": null,
            "object_fit": null,
            "grid_auto_columns": null,
            "margin": null,
            "display": null,
            "left": null
          }
        },
        "3aa106fc56cd4986b4ce9beff2419bd6": {
          "model_module": "@jupyter-widgets/controls",
          "model_name": "DescriptionStyleModel",
          "state": {
            "_view_name": "StyleView",
            "_model_name": "DescriptionStyleModel",
            "description_width": "",
            "_view_module": "@jupyter-widgets/base",
            "_model_module_version": "1.5.0",
            "_view_count": null,
            "_view_module_version": "1.2.0",
            "_model_module": "@jupyter-widgets/controls"
          }
        },
        "9c53901bb9c34432831d551ece28ce03": {
          "model_module": "@jupyter-widgets/base",
          "model_name": "LayoutModel",
          "state": {
            "_view_name": "LayoutView",
            "grid_template_rows": null,
            "right": null,
            "justify_content": null,
            "_view_module": "@jupyter-widgets/base",
            "overflow": null,
            "_model_module_version": "1.2.0",
            "_view_count": null,
            "flex_flow": null,
            "width": null,
            "min_width": null,
            "border": null,
            "align_items": null,
            "bottom": null,
            "_model_module": "@jupyter-widgets/base",
            "top": null,
            "grid_column": null,
            "overflow_y": null,
            "overflow_x": null,
            "grid_auto_flow": null,
            "grid_area": null,
            "grid_template_columns": null,
            "flex": null,
            "_model_name": "LayoutModel",
            "justify_items": null,
            "grid_row": null,
            "max_height": null,
            "align_content": null,
            "visibility": null,
            "align_self": null,
            "height": null,
            "min_height": null,
            "padding": null,
            "grid_auto_rows": null,
            "grid_gap": null,
            "max_width": null,
            "order": null,
            "_view_module_version": "1.2.0",
            "grid_template_areas": null,
            "object_position": null,
            "object_fit": null,
            "grid_auto_columns": null,
            "margin": null,
            "display": null,
            "left": null
          }
        },
        "60610ef62ec7410d8ff3fe0c9892758f": {
          "model_module": "@jupyter-widgets/controls",
          "model_name": "HBoxModel",
          "state": {
            "_view_name": "HBoxView",
            "_dom_classes": [],
            "_model_name": "HBoxModel",
            "_view_module": "@jupyter-widgets/controls",
            "_model_module_version": "1.5.0",
            "_view_count": null,
            "_view_module_version": "1.5.0",
            "box_style": "",
            "layout": "IPY_MODEL_927e8a10d1234e29a3f097fdac9f48fe",
            "_model_module": "@jupyter-widgets/controls",
            "children": [
              "IPY_MODEL_95de73c6741b43db8f235ff805953a32",
              "IPY_MODEL_3415cba7fa884f25915f1a6eb0caa52f"
            ]
          }
        },
        "927e8a10d1234e29a3f097fdac9f48fe": {
          "model_module": "@jupyter-widgets/base",
          "model_name": "LayoutModel",
          "state": {
            "_view_name": "LayoutView",
            "grid_template_rows": null,
            "right": null,
            "justify_content": null,
            "_view_module": "@jupyter-widgets/base",
            "overflow": null,
            "_model_module_version": "1.2.0",
            "_view_count": null,
            "flex_flow": null,
            "width": null,
            "min_width": null,
            "border": null,
            "align_items": null,
            "bottom": null,
            "_model_module": "@jupyter-widgets/base",
            "top": null,
            "grid_column": null,
            "overflow_y": null,
            "overflow_x": null,
            "grid_auto_flow": null,
            "grid_area": null,
            "grid_template_columns": null,
            "flex": null,
            "_model_name": "LayoutModel",
            "justify_items": null,
            "grid_row": null,
            "max_height": null,
            "align_content": null,
            "visibility": null,
            "align_self": null,
            "height": null,
            "min_height": null,
            "padding": null,
            "grid_auto_rows": null,
            "grid_gap": null,
            "max_width": null,
            "order": null,
            "_view_module_version": "1.2.0",
            "grid_template_areas": null,
            "object_position": null,
            "object_fit": null,
            "grid_auto_columns": null,
            "margin": null,
            "display": null,
            "left": null
          }
        },
        "95de73c6741b43db8f235ff805953a32": {
          "model_module": "@jupyter-widgets/controls",
          "model_name": "FloatProgressModel",
          "state": {
            "_view_name": "ProgressView",
            "style": "IPY_MODEL_70bcb7422afe4ff1b04d54e892a78a70",
            "_dom_classes": [],
            "description": "100%",
            "_model_name": "FloatProgressModel",
            "bar_style": "success",
            "max": 451,
            "_view_module": "@jupyter-widgets/controls",
            "_model_module_version": "1.5.0",
            "value": 451,
            "_view_count": null,
            "_view_module_version": "1.5.0",
            "orientation": "horizontal",
            "min": 0,
            "description_tooltip": null,
            "_model_module": "@jupyter-widgets/controls",
            "layout": "IPY_MODEL_41b141d59052402396472d1fe9618b7b"
          }
        },
        "3415cba7fa884f25915f1a6eb0caa52f": {
          "model_module": "@jupyter-widgets/controls",
          "model_name": "HTMLModel",
          "state": {
            "_view_name": "HTMLView",
            "style": "IPY_MODEL_66ef28caf2514479ae0db107e29a78c9",
            "_dom_classes": [],
            "description": "",
            "_model_name": "HTMLModel",
            "placeholder": "​",
            "_view_module": "@jupyter-widgets/controls",
            "_model_module_version": "1.5.0",
            "value": " 451/451 [03:41&lt;00:00,  2.03it/s]",
            "_view_count": null,
            "_view_module_version": "1.5.0",
            "description_tooltip": null,
            "_model_module": "@jupyter-widgets/controls",
            "layout": "IPY_MODEL_aec4192996524342b2f02ae058988385"
          }
        },
        "70bcb7422afe4ff1b04d54e892a78a70": {
          "model_module": "@jupyter-widgets/controls",
          "model_name": "ProgressStyleModel",
          "state": {
            "_view_name": "StyleView",
            "_model_name": "ProgressStyleModel",
            "description_width": "initial",
            "_view_module": "@jupyter-widgets/base",
            "_model_module_version": "1.5.0",
            "_view_count": null,
            "_view_module_version": "1.2.0",
            "bar_color": null,
            "_model_module": "@jupyter-widgets/controls"
          }
        },
        "41b141d59052402396472d1fe9618b7b": {
          "model_module": "@jupyter-widgets/base",
          "model_name": "LayoutModel",
          "state": {
            "_view_name": "LayoutView",
            "grid_template_rows": null,
            "right": null,
            "justify_content": null,
            "_view_module": "@jupyter-widgets/base",
            "overflow": null,
            "_model_module_version": "1.2.0",
            "_view_count": null,
            "flex_flow": null,
            "width": null,
            "min_width": null,
            "border": null,
            "align_items": null,
            "bottom": null,
            "_model_module": "@jupyter-widgets/base",
            "top": null,
            "grid_column": null,
            "overflow_y": null,
            "overflow_x": null,
            "grid_auto_flow": null,
            "grid_area": null,
            "grid_template_columns": null,
            "flex": null,
            "_model_name": "LayoutModel",
            "justify_items": null,
            "grid_row": null,
            "max_height": null,
            "align_content": null,
            "visibility": null,
            "align_self": null,
            "height": null,
            "min_height": null,
            "padding": null,
            "grid_auto_rows": null,
            "grid_gap": null,
            "max_width": null,
            "order": null,
            "_view_module_version": "1.2.0",
            "grid_template_areas": null,
            "object_position": null,
            "object_fit": null,
            "grid_auto_columns": null,
            "margin": null,
            "display": null,
            "left": null
          }
        },
        "66ef28caf2514479ae0db107e29a78c9": {
          "model_module": "@jupyter-widgets/controls",
          "model_name": "DescriptionStyleModel",
          "state": {
            "_view_name": "StyleView",
            "_model_name": "DescriptionStyleModel",
            "description_width": "",
            "_view_module": "@jupyter-widgets/base",
            "_model_module_version": "1.5.0",
            "_view_count": null,
            "_view_module_version": "1.2.0",
            "_model_module": "@jupyter-widgets/controls"
          }
        },
        "aec4192996524342b2f02ae058988385": {
          "model_module": "@jupyter-widgets/base",
          "model_name": "LayoutModel",
          "state": {
            "_view_name": "LayoutView",
            "grid_template_rows": null,
            "right": null,
            "justify_content": null,
            "_view_module": "@jupyter-widgets/base",
            "overflow": null,
            "_model_module_version": "1.2.0",
            "_view_count": null,
            "flex_flow": null,
            "width": null,
            "min_width": null,
            "border": null,
            "align_items": null,
            "bottom": null,
            "_model_module": "@jupyter-widgets/base",
            "top": null,
            "grid_column": null,
            "overflow_y": null,
            "overflow_x": null,
            "grid_auto_flow": null,
            "grid_area": null,
            "grid_template_columns": null,
            "flex": null,
            "_model_name": "LayoutModel",
            "justify_items": null,
            "grid_row": null,
            "max_height": null,
            "align_content": null,
            "visibility": null,
            "align_self": null,
            "height": null,
            "min_height": null,
            "padding": null,
            "grid_auto_rows": null,
            "grid_gap": null,
            "max_width": null,
            "order": null,
            "_view_module_version": "1.2.0",
            "grid_template_areas": null,
            "object_position": null,
            "object_fit": null,
            "grid_auto_columns": null,
            "margin": null,
            "display": null,
            "left": null
          }
        },
        "237dde8acb63474eadfd61bcf3b01884": {
          "model_module": "@jupyter-widgets/controls",
          "model_name": "HBoxModel",
          "state": {
            "_view_name": "HBoxView",
            "_dom_classes": [],
            "_model_name": "HBoxModel",
            "_view_module": "@jupyter-widgets/controls",
            "_model_module_version": "1.5.0",
            "_view_count": null,
            "_view_module_version": "1.5.0",
            "box_style": "",
            "layout": "IPY_MODEL_703775673ea74c4eaf14756d32083375",
            "_model_module": "@jupyter-widgets/controls",
            "children": [
              "IPY_MODEL_f29a5a9770604bb49eebafac04ffee4c",
              "IPY_MODEL_ea5ee8937b6147f9a945eb56a7d9b62c"
            ]
          }
        },
        "703775673ea74c4eaf14756d32083375": {
          "model_module": "@jupyter-widgets/base",
          "model_name": "LayoutModel",
          "state": {
            "_view_name": "LayoutView",
            "grid_template_rows": null,
            "right": null,
            "justify_content": null,
            "_view_module": "@jupyter-widgets/base",
            "overflow": null,
            "_model_module_version": "1.2.0",
            "_view_count": null,
            "flex_flow": null,
            "width": null,
            "min_width": null,
            "border": null,
            "align_items": null,
            "bottom": null,
            "_model_module": "@jupyter-widgets/base",
            "top": null,
            "grid_column": null,
            "overflow_y": null,
            "overflow_x": null,
            "grid_auto_flow": null,
            "grid_area": null,
            "grid_template_columns": null,
            "flex": null,
            "_model_name": "LayoutModel",
            "justify_items": null,
            "grid_row": null,
            "max_height": null,
            "align_content": null,
            "visibility": null,
            "align_self": null,
            "height": null,
            "min_height": null,
            "padding": null,
            "grid_auto_rows": null,
            "grid_gap": null,
            "max_width": null,
            "order": null,
            "_view_module_version": "1.2.0",
            "grid_template_areas": null,
            "object_position": null,
            "object_fit": null,
            "grid_auto_columns": null,
            "margin": null,
            "display": null,
            "left": null
          }
        },
        "f29a5a9770604bb49eebafac04ffee4c": {
          "model_module": "@jupyter-widgets/controls",
          "model_name": "FloatProgressModel",
          "state": {
            "_view_name": "ProgressView",
            "style": "IPY_MODEL_95ba8f6619b045538cadbf388b741e2f",
            "_dom_classes": [],
            "description": "100%",
            "_model_name": "FloatProgressModel",
            "bar_style": "success",
            "max": 451,
            "_view_module": "@jupyter-widgets/controls",
            "_model_module_version": "1.5.0",
            "value": 451,
            "_view_count": null,
            "_view_module_version": "1.5.0",
            "orientation": "horizontal",
            "min": 0,
            "description_tooltip": null,
            "_model_module": "@jupyter-widgets/controls",
            "layout": "IPY_MODEL_302e91d804664488b7b9474873f553de"
          }
        },
        "ea5ee8937b6147f9a945eb56a7d9b62c": {
          "model_module": "@jupyter-widgets/controls",
          "model_name": "HTMLModel",
          "state": {
            "_view_name": "HTMLView",
            "style": "IPY_MODEL_7d509b0d12284f1b979ee874ae17ee28",
            "_dom_classes": [],
            "description": "",
            "_model_name": "HTMLModel",
            "placeholder": "​",
            "_view_module": "@jupyter-widgets/controls",
            "_model_module_version": "1.5.0",
            "value": " 451/451 [04:15&lt;00:00,  1.77it/s]",
            "_view_count": null,
            "_view_module_version": "1.5.0",
            "description_tooltip": null,
            "_model_module": "@jupyter-widgets/controls",
            "layout": "IPY_MODEL_2a57e1f353044f3cba4b5c56dbad4c73"
          }
        },
        "95ba8f6619b045538cadbf388b741e2f": {
          "model_module": "@jupyter-widgets/controls",
          "model_name": "ProgressStyleModel",
          "state": {
            "_view_name": "StyleView",
            "_model_name": "ProgressStyleModel",
            "description_width": "initial",
            "_view_module": "@jupyter-widgets/base",
            "_model_module_version": "1.5.0",
            "_view_count": null,
            "_view_module_version": "1.2.0",
            "bar_color": null,
            "_model_module": "@jupyter-widgets/controls"
          }
        },
        "302e91d804664488b7b9474873f553de": {
          "model_module": "@jupyter-widgets/base",
          "model_name": "LayoutModel",
          "state": {
            "_view_name": "LayoutView",
            "grid_template_rows": null,
            "right": null,
            "justify_content": null,
            "_view_module": "@jupyter-widgets/base",
            "overflow": null,
            "_model_module_version": "1.2.0",
            "_view_count": null,
            "flex_flow": null,
            "width": null,
            "min_width": null,
            "border": null,
            "align_items": null,
            "bottom": null,
            "_model_module": "@jupyter-widgets/base",
            "top": null,
            "grid_column": null,
            "overflow_y": null,
            "overflow_x": null,
            "grid_auto_flow": null,
            "grid_area": null,
            "grid_template_columns": null,
            "flex": null,
            "_model_name": "LayoutModel",
            "justify_items": null,
            "grid_row": null,
            "max_height": null,
            "align_content": null,
            "visibility": null,
            "align_self": null,
            "height": null,
            "min_height": null,
            "padding": null,
            "grid_auto_rows": null,
            "grid_gap": null,
            "max_width": null,
            "order": null,
            "_view_module_version": "1.2.0",
            "grid_template_areas": null,
            "object_position": null,
            "object_fit": null,
            "grid_auto_columns": null,
            "margin": null,
            "display": null,
            "left": null
          }
        },
        "7d509b0d12284f1b979ee874ae17ee28": {
          "model_module": "@jupyter-widgets/controls",
          "model_name": "DescriptionStyleModel",
          "state": {
            "_view_name": "StyleView",
            "_model_name": "DescriptionStyleModel",
            "description_width": "",
            "_view_module": "@jupyter-widgets/base",
            "_model_module_version": "1.5.0",
            "_view_count": null,
            "_view_module_version": "1.2.0",
            "_model_module": "@jupyter-widgets/controls"
          }
        },
        "2a57e1f353044f3cba4b5c56dbad4c73": {
          "model_module": "@jupyter-widgets/base",
          "model_name": "LayoutModel",
          "state": {
            "_view_name": "LayoutView",
            "grid_template_rows": null,
            "right": null,
            "justify_content": null,
            "_view_module": "@jupyter-widgets/base",
            "overflow": null,
            "_model_module_version": "1.2.0",
            "_view_count": null,
            "flex_flow": null,
            "width": null,
            "min_width": null,
            "border": null,
            "align_items": null,
            "bottom": null,
            "_model_module": "@jupyter-widgets/base",
            "top": null,
            "grid_column": null,
            "overflow_y": null,
            "overflow_x": null,
            "grid_auto_flow": null,
            "grid_area": null,
            "grid_template_columns": null,
            "flex": null,
            "_model_name": "LayoutModel",
            "justify_items": null,
            "grid_row": null,
            "max_height": null,
            "align_content": null,
            "visibility": null,
            "align_self": null,
            "height": null,
            "min_height": null,
            "padding": null,
            "grid_auto_rows": null,
            "grid_gap": null,
            "max_width": null,
            "order": null,
            "_view_module_version": "1.2.0",
            "grid_template_areas": null,
            "object_position": null,
            "object_fit": null,
            "grid_auto_columns": null,
            "margin": null,
            "display": null,
            "left": null
          }
        },
        "25897903c35a4f758b5ffc02d881b403": {
          "model_module": "@jupyter-widgets/controls",
          "model_name": "HBoxModel",
          "state": {
            "_view_name": "HBoxView",
            "_dom_classes": [],
            "_model_name": "HBoxModel",
            "_view_module": "@jupyter-widgets/controls",
            "_model_module_version": "1.5.0",
            "_view_count": null,
            "_view_module_version": "1.5.0",
            "box_style": "",
            "layout": "IPY_MODEL_668142368ff64ba9847c3239a9f7461b",
            "_model_module": "@jupyter-widgets/controls",
            "children": [
              "IPY_MODEL_859e223e36eb4280b11495b064c6668d",
              "IPY_MODEL_845c5ed7e033447895bea910dba74d52"
            ]
          }
        },
        "668142368ff64ba9847c3239a9f7461b": {
          "model_module": "@jupyter-widgets/base",
          "model_name": "LayoutModel",
          "state": {
            "_view_name": "LayoutView",
            "grid_template_rows": null,
            "right": null,
            "justify_content": null,
            "_view_module": "@jupyter-widgets/base",
            "overflow": null,
            "_model_module_version": "1.2.0",
            "_view_count": null,
            "flex_flow": null,
            "width": null,
            "min_width": null,
            "border": null,
            "align_items": null,
            "bottom": null,
            "_model_module": "@jupyter-widgets/base",
            "top": null,
            "grid_column": null,
            "overflow_y": null,
            "overflow_x": null,
            "grid_auto_flow": null,
            "grid_area": null,
            "grid_template_columns": null,
            "flex": null,
            "_model_name": "LayoutModel",
            "justify_items": null,
            "grid_row": null,
            "max_height": null,
            "align_content": null,
            "visibility": null,
            "align_self": null,
            "height": null,
            "min_height": null,
            "padding": null,
            "grid_auto_rows": null,
            "grid_gap": null,
            "max_width": null,
            "order": null,
            "_view_module_version": "1.2.0",
            "grid_template_areas": null,
            "object_position": null,
            "object_fit": null,
            "grid_auto_columns": null,
            "margin": null,
            "display": null,
            "left": null
          }
        },
        "859e223e36eb4280b11495b064c6668d": {
          "model_module": "@jupyter-widgets/controls",
          "model_name": "FloatProgressModel",
          "state": {
            "_view_name": "ProgressView",
            "style": "IPY_MODEL_87a90d92bc6c4665810646534d4adb97",
            "_dom_classes": [],
            "description": "100%",
            "_model_name": "FloatProgressModel",
            "bar_style": "success",
            "max": 451,
            "_view_module": "@jupyter-widgets/controls",
            "_model_module_version": "1.5.0",
            "value": 451,
            "_view_count": null,
            "_view_module_version": "1.5.0",
            "orientation": "horizontal",
            "min": 0,
            "description_tooltip": null,
            "_model_module": "@jupyter-widgets/controls",
            "layout": "IPY_MODEL_d1966d3c05774c36bcc8c706f0f96223"
          }
        },
        "845c5ed7e033447895bea910dba74d52": {
          "model_module": "@jupyter-widgets/controls",
          "model_name": "HTMLModel",
          "state": {
            "_view_name": "HTMLView",
            "style": "IPY_MODEL_b2130ef7f8d44b57b9fa7410c705660a",
            "_dom_classes": [],
            "description": "",
            "_model_name": "HTMLModel",
            "placeholder": "​",
            "_view_module": "@jupyter-widgets/controls",
            "_model_module_version": "1.5.0",
            "value": " 451/451 [03:41&lt;00:00,  2.04it/s]",
            "_view_count": null,
            "_view_module_version": "1.5.0",
            "description_tooltip": null,
            "_model_module": "@jupyter-widgets/controls",
            "layout": "IPY_MODEL_958035b249334cf1a9374db66841eee9"
          }
        },
        "87a90d92bc6c4665810646534d4adb97": {
          "model_module": "@jupyter-widgets/controls",
          "model_name": "ProgressStyleModel",
          "state": {
            "_view_name": "StyleView",
            "_model_name": "ProgressStyleModel",
            "description_width": "initial",
            "_view_module": "@jupyter-widgets/base",
            "_model_module_version": "1.5.0",
            "_view_count": null,
            "_view_module_version": "1.2.0",
            "bar_color": null,
            "_model_module": "@jupyter-widgets/controls"
          }
        },
        "d1966d3c05774c36bcc8c706f0f96223": {
          "model_module": "@jupyter-widgets/base",
          "model_name": "LayoutModel",
          "state": {
            "_view_name": "LayoutView",
            "grid_template_rows": null,
            "right": null,
            "justify_content": null,
            "_view_module": "@jupyter-widgets/base",
            "overflow": null,
            "_model_module_version": "1.2.0",
            "_view_count": null,
            "flex_flow": null,
            "width": null,
            "min_width": null,
            "border": null,
            "align_items": null,
            "bottom": null,
            "_model_module": "@jupyter-widgets/base",
            "top": null,
            "grid_column": null,
            "overflow_y": null,
            "overflow_x": null,
            "grid_auto_flow": null,
            "grid_area": null,
            "grid_template_columns": null,
            "flex": null,
            "_model_name": "LayoutModel",
            "justify_items": null,
            "grid_row": null,
            "max_height": null,
            "align_content": null,
            "visibility": null,
            "align_self": null,
            "height": null,
            "min_height": null,
            "padding": null,
            "grid_auto_rows": null,
            "grid_gap": null,
            "max_width": null,
            "order": null,
            "_view_module_version": "1.2.0",
            "grid_template_areas": null,
            "object_position": null,
            "object_fit": null,
            "grid_auto_columns": null,
            "margin": null,
            "display": null,
            "left": null
          }
        },
        "b2130ef7f8d44b57b9fa7410c705660a": {
          "model_module": "@jupyter-widgets/controls",
          "model_name": "DescriptionStyleModel",
          "state": {
            "_view_name": "StyleView",
            "_model_name": "DescriptionStyleModel",
            "description_width": "",
            "_view_module": "@jupyter-widgets/base",
            "_model_module_version": "1.5.0",
            "_view_count": null,
            "_view_module_version": "1.2.0",
            "_model_module": "@jupyter-widgets/controls"
          }
        },
        "958035b249334cf1a9374db66841eee9": {
          "model_module": "@jupyter-widgets/base",
          "model_name": "LayoutModel",
          "state": {
            "_view_name": "LayoutView",
            "grid_template_rows": null,
            "right": null,
            "justify_content": null,
            "_view_module": "@jupyter-widgets/base",
            "overflow": null,
            "_model_module_version": "1.2.0",
            "_view_count": null,
            "flex_flow": null,
            "width": null,
            "min_width": null,
            "border": null,
            "align_items": null,
            "bottom": null,
            "_model_module": "@jupyter-widgets/base",
            "top": null,
            "grid_column": null,
            "overflow_y": null,
            "overflow_x": null,
            "grid_auto_flow": null,
            "grid_area": null,
            "grid_template_columns": null,
            "flex": null,
            "_model_name": "LayoutModel",
            "justify_items": null,
            "grid_row": null,
            "max_height": null,
            "align_content": null,
            "visibility": null,
            "align_self": null,
            "height": null,
            "min_height": null,
            "padding": null,
            "grid_auto_rows": null,
            "grid_gap": null,
            "max_width": null,
            "order": null,
            "_view_module_version": "1.2.0",
            "grid_template_areas": null,
            "object_position": null,
            "object_fit": null,
            "grid_auto_columns": null,
            "margin": null,
            "display": null,
            "left": null
          }
        },
        "afcd631cd3294fa6bbe31184ebc292b5": {
          "model_module": "@jupyter-widgets/controls",
          "model_name": "HBoxModel",
          "state": {
            "_view_name": "HBoxView",
            "_dom_classes": [],
            "_model_name": "HBoxModel",
            "_view_module": "@jupyter-widgets/controls",
            "_model_module_version": "1.5.0",
            "_view_count": null,
            "_view_module_version": "1.5.0",
            "box_style": "",
            "layout": "IPY_MODEL_1e3290548f9646b3bdcd877ce4a2029f",
            "_model_module": "@jupyter-widgets/controls",
            "children": [
              "IPY_MODEL_826c1cdf1e4e41968e9e3dbd659670be",
              "IPY_MODEL_fca4b74fbcb845e2970ef7bf7a7f1e4d"
            ]
          }
        },
        "1e3290548f9646b3bdcd877ce4a2029f": {
          "model_module": "@jupyter-widgets/base",
          "model_name": "LayoutModel",
          "state": {
            "_view_name": "LayoutView",
            "grid_template_rows": null,
            "right": null,
            "justify_content": null,
            "_view_module": "@jupyter-widgets/base",
            "overflow": null,
            "_model_module_version": "1.2.0",
            "_view_count": null,
            "flex_flow": null,
            "width": null,
            "min_width": null,
            "border": null,
            "align_items": null,
            "bottom": null,
            "_model_module": "@jupyter-widgets/base",
            "top": null,
            "grid_column": null,
            "overflow_y": null,
            "overflow_x": null,
            "grid_auto_flow": null,
            "grid_area": null,
            "grid_template_columns": null,
            "flex": null,
            "_model_name": "LayoutModel",
            "justify_items": null,
            "grid_row": null,
            "max_height": null,
            "align_content": null,
            "visibility": null,
            "align_self": null,
            "height": null,
            "min_height": null,
            "padding": null,
            "grid_auto_rows": null,
            "grid_gap": null,
            "max_width": null,
            "order": null,
            "_view_module_version": "1.2.0",
            "grid_template_areas": null,
            "object_position": null,
            "object_fit": null,
            "grid_auto_columns": null,
            "margin": null,
            "display": null,
            "left": null
          }
        },
        "826c1cdf1e4e41968e9e3dbd659670be": {
          "model_module": "@jupyter-widgets/controls",
          "model_name": "FloatProgressModel",
          "state": {
            "_view_name": "ProgressView",
            "style": "IPY_MODEL_0948611343774e43bb9c4af51f822b18",
            "_dom_classes": [],
            "description": "100%",
            "_model_name": "FloatProgressModel",
            "bar_style": "success",
            "max": 451,
            "_view_module": "@jupyter-widgets/controls",
            "_model_module_version": "1.5.0",
            "value": 451,
            "_view_count": null,
            "_view_module_version": "1.5.0",
            "orientation": "horizontal",
            "min": 0,
            "description_tooltip": null,
            "_model_module": "@jupyter-widgets/controls",
            "layout": "IPY_MODEL_2bfd3930efdc4ef5b0f449c66f9f3809"
          }
        },
        "fca4b74fbcb845e2970ef7bf7a7f1e4d": {
          "model_module": "@jupyter-widgets/controls",
          "model_name": "HTMLModel",
          "state": {
            "_view_name": "HTMLView",
            "style": "IPY_MODEL_43d6ce663c5549429ca1cc5dafb6db49",
            "_dom_classes": [],
            "description": "",
            "_model_name": "HTMLModel",
            "placeholder": "​",
            "_view_module": "@jupyter-widgets/controls",
            "_model_module_version": "1.5.0",
            "value": " 451/451 [03:41&lt;00:00,  2.04it/s]",
            "_view_count": null,
            "_view_module_version": "1.5.0",
            "description_tooltip": null,
            "_model_module": "@jupyter-widgets/controls",
            "layout": "IPY_MODEL_993dd01ca84d4547ba0e35bd356282ee"
          }
        },
        "0948611343774e43bb9c4af51f822b18": {
          "model_module": "@jupyter-widgets/controls",
          "model_name": "ProgressStyleModel",
          "state": {
            "_view_name": "StyleView",
            "_model_name": "ProgressStyleModel",
            "description_width": "initial",
            "_view_module": "@jupyter-widgets/base",
            "_model_module_version": "1.5.0",
            "_view_count": null,
            "_view_module_version": "1.2.0",
            "bar_color": null,
            "_model_module": "@jupyter-widgets/controls"
          }
        },
        "2bfd3930efdc4ef5b0f449c66f9f3809": {
          "model_module": "@jupyter-widgets/base",
          "model_name": "LayoutModel",
          "state": {
            "_view_name": "LayoutView",
            "grid_template_rows": null,
            "right": null,
            "justify_content": null,
            "_view_module": "@jupyter-widgets/base",
            "overflow": null,
            "_model_module_version": "1.2.0",
            "_view_count": null,
            "flex_flow": null,
            "width": null,
            "min_width": null,
            "border": null,
            "align_items": null,
            "bottom": null,
            "_model_module": "@jupyter-widgets/base",
            "top": null,
            "grid_column": null,
            "overflow_y": null,
            "overflow_x": null,
            "grid_auto_flow": null,
            "grid_area": null,
            "grid_template_columns": null,
            "flex": null,
            "_model_name": "LayoutModel",
            "justify_items": null,
            "grid_row": null,
            "max_height": null,
            "align_content": null,
            "visibility": null,
            "align_self": null,
            "height": null,
            "min_height": null,
            "padding": null,
            "grid_auto_rows": null,
            "grid_gap": null,
            "max_width": null,
            "order": null,
            "_view_module_version": "1.2.0",
            "grid_template_areas": null,
            "object_position": null,
            "object_fit": null,
            "grid_auto_columns": null,
            "margin": null,
            "display": null,
            "left": null
          }
        },
        "43d6ce663c5549429ca1cc5dafb6db49": {
          "model_module": "@jupyter-widgets/controls",
          "model_name": "DescriptionStyleModel",
          "state": {
            "_view_name": "StyleView",
            "_model_name": "DescriptionStyleModel",
            "description_width": "",
            "_view_module": "@jupyter-widgets/base",
            "_model_module_version": "1.5.0",
            "_view_count": null,
            "_view_module_version": "1.2.0",
            "_model_module": "@jupyter-widgets/controls"
          }
        },
        "993dd01ca84d4547ba0e35bd356282ee": {
          "model_module": "@jupyter-widgets/base",
          "model_name": "LayoutModel",
          "state": {
            "_view_name": "LayoutView",
            "grid_template_rows": null,
            "right": null,
            "justify_content": null,
            "_view_module": "@jupyter-widgets/base",
            "overflow": null,
            "_model_module_version": "1.2.0",
            "_view_count": null,
            "flex_flow": null,
            "width": null,
            "min_width": null,
            "border": null,
            "align_items": null,
            "bottom": null,
            "_model_module": "@jupyter-widgets/base",
            "top": null,
            "grid_column": null,
            "overflow_y": null,
            "overflow_x": null,
            "grid_auto_flow": null,
            "grid_area": null,
            "grid_template_columns": null,
            "flex": null,
            "_model_name": "LayoutModel",
            "justify_items": null,
            "grid_row": null,
            "max_height": null,
            "align_content": null,
            "visibility": null,
            "align_self": null,
            "height": null,
            "min_height": null,
            "padding": null,
            "grid_auto_rows": null,
            "grid_gap": null,
            "max_width": null,
            "order": null,
            "_view_module_version": "1.2.0",
            "grid_template_areas": null,
            "object_position": null,
            "object_fit": null,
            "grid_auto_columns": null,
            "margin": null,
            "display": null,
            "left": null
          }
        },
        "d0017eac1a1f4b068ddd5865decbd9fb": {
          "model_module": "@jupyter-widgets/controls",
          "model_name": "HBoxModel",
          "state": {
            "_view_name": "HBoxView",
            "_dom_classes": [],
            "_model_name": "HBoxModel",
            "_view_module": "@jupyter-widgets/controls",
            "_model_module_version": "1.5.0",
            "_view_count": null,
            "_view_module_version": "1.5.0",
            "box_style": "",
            "layout": "IPY_MODEL_5110486647684023aa3981e8e91b161b",
            "_model_module": "@jupyter-widgets/controls",
            "children": [
              "IPY_MODEL_d97105448f3345c4819da07b611095c7",
              "IPY_MODEL_9eb9ef2e088f4fc89a7b6652a4c6c01f"
            ]
          }
        },
        "5110486647684023aa3981e8e91b161b": {
          "model_module": "@jupyter-widgets/base",
          "model_name": "LayoutModel",
          "state": {
            "_view_name": "LayoutView",
            "grid_template_rows": null,
            "right": null,
            "justify_content": null,
            "_view_module": "@jupyter-widgets/base",
            "overflow": null,
            "_model_module_version": "1.2.0",
            "_view_count": null,
            "flex_flow": null,
            "width": null,
            "min_width": null,
            "border": null,
            "align_items": null,
            "bottom": null,
            "_model_module": "@jupyter-widgets/base",
            "top": null,
            "grid_column": null,
            "overflow_y": null,
            "overflow_x": null,
            "grid_auto_flow": null,
            "grid_area": null,
            "grid_template_columns": null,
            "flex": null,
            "_model_name": "LayoutModel",
            "justify_items": null,
            "grid_row": null,
            "max_height": null,
            "align_content": null,
            "visibility": null,
            "align_self": null,
            "height": null,
            "min_height": null,
            "padding": null,
            "grid_auto_rows": null,
            "grid_gap": null,
            "max_width": null,
            "order": null,
            "_view_module_version": "1.2.0",
            "grid_template_areas": null,
            "object_position": null,
            "object_fit": null,
            "grid_auto_columns": null,
            "margin": null,
            "display": null,
            "left": null
          }
        },
        "d97105448f3345c4819da07b611095c7": {
          "model_module": "@jupyter-widgets/controls",
          "model_name": "FloatProgressModel",
          "state": {
            "_view_name": "ProgressView",
            "style": "IPY_MODEL_6911c2c0670c411da38d5770f3dc32c3",
            "_dom_classes": [],
            "description": "100%",
            "_model_name": "FloatProgressModel",
            "bar_style": "success",
            "max": 451,
            "_view_module": "@jupyter-widgets/controls",
            "_model_module_version": "1.5.0",
            "value": 451,
            "_view_count": null,
            "_view_module_version": "1.5.0",
            "orientation": "horizontal",
            "min": 0,
            "description_tooltip": null,
            "_model_module": "@jupyter-widgets/controls",
            "layout": "IPY_MODEL_76d5ec2b28f74b5087fab188be0a51bd"
          }
        },
        "9eb9ef2e088f4fc89a7b6652a4c6c01f": {
          "model_module": "@jupyter-widgets/controls",
          "model_name": "HTMLModel",
          "state": {
            "_view_name": "HTMLView",
            "style": "IPY_MODEL_6131f62530d04cdcabe413097527301c",
            "_dom_classes": [],
            "description": "",
            "_model_name": "HTMLModel",
            "placeholder": "​",
            "_view_module": "@jupyter-widgets/controls",
            "_model_module_version": "1.5.0",
            "value": " 451/451 [05:39&lt;00:00,  1.33it/s]",
            "_view_count": null,
            "_view_module_version": "1.5.0",
            "description_tooltip": null,
            "_model_module": "@jupyter-widgets/controls",
            "layout": "IPY_MODEL_dadac280a14d47ba98605a5315a12ffa"
          }
        },
        "6911c2c0670c411da38d5770f3dc32c3": {
          "model_module": "@jupyter-widgets/controls",
          "model_name": "ProgressStyleModel",
          "state": {
            "_view_name": "StyleView",
            "_model_name": "ProgressStyleModel",
            "description_width": "initial",
            "_view_module": "@jupyter-widgets/base",
            "_model_module_version": "1.5.0",
            "_view_count": null,
            "_view_module_version": "1.2.0",
            "bar_color": null,
            "_model_module": "@jupyter-widgets/controls"
          }
        },
        "76d5ec2b28f74b5087fab188be0a51bd": {
          "model_module": "@jupyter-widgets/base",
          "model_name": "LayoutModel",
          "state": {
            "_view_name": "LayoutView",
            "grid_template_rows": null,
            "right": null,
            "justify_content": null,
            "_view_module": "@jupyter-widgets/base",
            "overflow": null,
            "_model_module_version": "1.2.0",
            "_view_count": null,
            "flex_flow": null,
            "width": null,
            "min_width": null,
            "border": null,
            "align_items": null,
            "bottom": null,
            "_model_module": "@jupyter-widgets/base",
            "top": null,
            "grid_column": null,
            "overflow_y": null,
            "overflow_x": null,
            "grid_auto_flow": null,
            "grid_area": null,
            "grid_template_columns": null,
            "flex": null,
            "_model_name": "LayoutModel",
            "justify_items": null,
            "grid_row": null,
            "max_height": null,
            "align_content": null,
            "visibility": null,
            "align_self": null,
            "height": null,
            "min_height": null,
            "padding": null,
            "grid_auto_rows": null,
            "grid_gap": null,
            "max_width": null,
            "order": null,
            "_view_module_version": "1.2.0",
            "grid_template_areas": null,
            "object_position": null,
            "object_fit": null,
            "grid_auto_columns": null,
            "margin": null,
            "display": null,
            "left": null
          }
        },
        "6131f62530d04cdcabe413097527301c": {
          "model_module": "@jupyter-widgets/controls",
          "model_name": "DescriptionStyleModel",
          "state": {
            "_view_name": "StyleView",
            "_model_name": "DescriptionStyleModel",
            "description_width": "",
            "_view_module": "@jupyter-widgets/base",
            "_model_module_version": "1.5.0",
            "_view_count": null,
            "_view_module_version": "1.2.0",
            "_model_module": "@jupyter-widgets/controls"
          }
        },
        "dadac280a14d47ba98605a5315a12ffa": {
          "model_module": "@jupyter-widgets/base",
          "model_name": "LayoutModel",
          "state": {
            "_view_name": "LayoutView",
            "grid_template_rows": null,
            "right": null,
            "justify_content": null,
            "_view_module": "@jupyter-widgets/base",
            "overflow": null,
            "_model_module_version": "1.2.0",
            "_view_count": null,
            "flex_flow": null,
            "width": null,
            "min_width": null,
            "border": null,
            "align_items": null,
            "bottom": null,
            "_model_module": "@jupyter-widgets/base",
            "top": null,
            "grid_column": null,
            "overflow_y": null,
            "overflow_x": null,
            "grid_auto_flow": null,
            "grid_area": null,
            "grid_template_columns": null,
            "flex": null,
            "_model_name": "LayoutModel",
            "justify_items": null,
            "grid_row": null,
            "max_height": null,
            "align_content": null,
            "visibility": null,
            "align_self": null,
            "height": null,
            "min_height": null,
            "padding": null,
            "grid_auto_rows": null,
            "grid_gap": null,
            "max_width": null,
            "order": null,
            "_view_module_version": "1.2.0",
            "grid_template_areas": null,
            "object_position": null,
            "object_fit": null,
            "grid_auto_columns": null,
            "margin": null,
            "display": null,
            "left": null
          }
        },
        "bd015a07183446fdb17ef8d321cf2e04": {
          "model_module": "@jupyter-widgets/controls",
          "model_name": "HBoxModel",
          "state": {
            "_view_name": "HBoxView",
            "_dom_classes": [],
            "_model_name": "HBoxModel",
            "_view_module": "@jupyter-widgets/controls",
            "_model_module_version": "1.5.0",
            "_view_count": null,
            "_view_module_version": "1.5.0",
            "box_style": "",
            "layout": "IPY_MODEL_e882c1f33766448a82b4a4e642c4ebcf",
            "_model_module": "@jupyter-widgets/controls",
            "children": [
              "IPY_MODEL_167fae9ca5f24630b0d4b215eb66bea0",
              "IPY_MODEL_d46e0944c74941f0b1a23b8ad0401320"
            ]
          }
        },
        "e882c1f33766448a82b4a4e642c4ebcf": {
          "model_module": "@jupyter-widgets/base",
          "model_name": "LayoutModel",
          "state": {
            "_view_name": "LayoutView",
            "grid_template_rows": null,
            "right": null,
            "justify_content": null,
            "_view_module": "@jupyter-widgets/base",
            "overflow": null,
            "_model_module_version": "1.2.0",
            "_view_count": null,
            "flex_flow": null,
            "width": null,
            "min_width": null,
            "border": null,
            "align_items": null,
            "bottom": null,
            "_model_module": "@jupyter-widgets/base",
            "top": null,
            "grid_column": null,
            "overflow_y": null,
            "overflow_x": null,
            "grid_auto_flow": null,
            "grid_area": null,
            "grid_template_columns": null,
            "flex": null,
            "_model_name": "LayoutModel",
            "justify_items": null,
            "grid_row": null,
            "max_height": null,
            "align_content": null,
            "visibility": null,
            "align_self": null,
            "height": null,
            "min_height": null,
            "padding": null,
            "grid_auto_rows": null,
            "grid_gap": null,
            "max_width": null,
            "order": null,
            "_view_module_version": "1.2.0",
            "grid_template_areas": null,
            "object_position": null,
            "object_fit": null,
            "grid_auto_columns": null,
            "margin": null,
            "display": null,
            "left": null
          }
        },
        "167fae9ca5f24630b0d4b215eb66bea0": {
          "model_module": "@jupyter-widgets/controls",
          "model_name": "FloatProgressModel",
          "state": {
            "_view_name": "ProgressView",
            "style": "IPY_MODEL_39e64c21c1904ccab1df9d993511ebfe",
            "_dom_classes": [],
            "description": "100%",
            "_model_name": "FloatProgressModel",
            "bar_style": "success",
            "max": 451,
            "_view_module": "@jupyter-widgets/controls",
            "_model_module_version": "1.5.0",
            "value": 451,
            "_view_count": null,
            "_view_module_version": "1.5.0",
            "orientation": "horizontal",
            "min": 0,
            "description_tooltip": null,
            "_model_module": "@jupyter-widgets/controls",
            "layout": "IPY_MODEL_6b3c1c8a79294e42a34b105bfbfa8bf4"
          }
        },
        "d46e0944c74941f0b1a23b8ad0401320": {
          "model_module": "@jupyter-widgets/controls",
          "model_name": "HTMLModel",
          "state": {
            "_view_name": "HTMLView",
            "style": "IPY_MODEL_c7458aaaeca14c5993f0424be85c0f76",
            "_dom_classes": [],
            "description": "",
            "_model_name": "HTMLModel",
            "placeholder": "​",
            "_view_module": "@jupyter-widgets/controls",
            "_model_module_version": "1.5.0",
            "value": " 451/451 [03:41&lt;00:00,  2.04it/s]",
            "_view_count": null,
            "_view_module_version": "1.5.0",
            "description_tooltip": null,
            "_model_module": "@jupyter-widgets/controls",
            "layout": "IPY_MODEL_98ebc230fb2740759794fdd91b366f05"
          }
        },
        "39e64c21c1904ccab1df9d993511ebfe": {
          "model_module": "@jupyter-widgets/controls",
          "model_name": "ProgressStyleModel",
          "state": {
            "_view_name": "StyleView",
            "_model_name": "ProgressStyleModel",
            "description_width": "initial",
            "_view_module": "@jupyter-widgets/base",
            "_model_module_version": "1.5.0",
            "_view_count": null,
            "_view_module_version": "1.2.0",
            "bar_color": null,
            "_model_module": "@jupyter-widgets/controls"
          }
        },
        "6b3c1c8a79294e42a34b105bfbfa8bf4": {
          "model_module": "@jupyter-widgets/base",
          "model_name": "LayoutModel",
          "state": {
            "_view_name": "LayoutView",
            "grid_template_rows": null,
            "right": null,
            "justify_content": null,
            "_view_module": "@jupyter-widgets/base",
            "overflow": null,
            "_model_module_version": "1.2.0",
            "_view_count": null,
            "flex_flow": null,
            "width": null,
            "min_width": null,
            "border": null,
            "align_items": null,
            "bottom": null,
            "_model_module": "@jupyter-widgets/base",
            "top": null,
            "grid_column": null,
            "overflow_y": null,
            "overflow_x": null,
            "grid_auto_flow": null,
            "grid_area": null,
            "grid_template_columns": null,
            "flex": null,
            "_model_name": "LayoutModel",
            "justify_items": null,
            "grid_row": null,
            "max_height": null,
            "align_content": null,
            "visibility": null,
            "align_self": null,
            "height": null,
            "min_height": null,
            "padding": null,
            "grid_auto_rows": null,
            "grid_gap": null,
            "max_width": null,
            "order": null,
            "_view_module_version": "1.2.0",
            "grid_template_areas": null,
            "object_position": null,
            "object_fit": null,
            "grid_auto_columns": null,
            "margin": null,
            "display": null,
            "left": null
          }
        },
        "c7458aaaeca14c5993f0424be85c0f76": {
          "model_module": "@jupyter-widgets/controls",
          "model_name": "DescriptionStyleModel",
          "state": {
            "_view_name": "StyleView",
            "_model_name": "DescriptionStyleModel",
            "description_width": "",
            "_view_module": "@jupyter-widgets/base",
            "_model_module_version": "1.5.0",
            "_view_count": null,
            "_view_module_version": "1.2.0",
            "_model_module": "@jupyter-widgets/controls"
          }
        },
        "98ebc230fb2740759794fdd91b366f05": {
          "model_module": "@jupyter-widgets/base",
          "model_name": "LayoutModel",
          "state": {
            "_view_name": "LayoutView",
            "grid_template_rows": null,
            "right": null,
            "justify_content": null,
            "_view_module": "@jupyter-widgets/base",
            "overflow": null,
            "_model_module_version": "1.2.0",
            "_view_count": null,
            "flex_flow": null,
            "width": null,
            "min_width": null,
            "border": null,
            "align_items": null,
            "bottom": null,
            "_model_module": "@jupyter-widgets/base",
            "top": null,
            "grid_column": null,
            "overflow_y": null,
            "overflow_x": null,
            "grid_auto_flow": null,
            "grid_area": null,
            "grid_template_columns": null,
            "flex": null,
            "_model_name": "LayoutModel",
            "justify_items": null,
            "grid_row": null,
            "max_height": null,
            "align_content": null,
            "visibility": null,
            "align_self": null,
            "height": null,
            "min_height": null,
            "padding": null,
            "grid_auto_rows": null,
            "grid_gap": null,
            "max_width": null,
            "order": null,
            "_view_module_version": "1.2.0",
            "grid_template_areas": null,
            "object_position": null,
            "object_fit": null,
            "grid_auto_columns": null,
            "margin": null,
            "display": null,
            "left": null
          }
        }
      }
    }
  },
  "cells": [
    {
      "cell_type": "markdown",
      "metadata": {
        "id": "view-in-github",
        "colab_type": "text"
      },
      "source": [
        "<a href=\"https://colab.research.google.com/github/ParsaHejabi/ComputationalIntelligence-ComputerAssignments/blob/main/HW3/Stanford_Dogs_Dataset.ipynb\" target=\"_parent\"><img src=\"https://colab.research.google.com/assets/colab-badge.svg\" alt=\"Open In Colab\"/></a>"
      ]
    },
    {
      "cell_type": "markdown",
      "metadata": {
        "id": "hJEqDXF8MDTU"
      },
      "source": [
        "# Untar the Dataset from Google Drive"
      ]
    },
    {
      "cell_type": "code",
      "metadata": {
        "id": "CPpBEZDsdFq3"
      },
      "source": [
        "!rm -r ./Images ./Annotation ./file_list.mat ./test_list.mat ./train_list.mat\r\n",
        "!tar -xf ./drive/MyDrive/Stanford_Dogs_Dataset/images.tar\r\n",
        "!tar -xf ./drive/MyDrive/Stanford_Dogs_Dataset/annotation.tar\r\n",
        "!tar -xf ./drive/MyDrive/Stanford_Dogs_Dataset/lists.tar"
      ],
      "execution_count": null,
      "outputs": []
    },
    {
      "cell_type": "markdown",
      "metadata": {
        "id": "WJdfH_wnMsDH"
      },
      "source": [
        "# Importing libraries"
      ]
    },
    {
      "cell_type": "code",
      "metadata": {
        "id": "8z2M5mklKN6b"
      },
      "source": [
        "import torch\r\n",
        "import torch.nn as nn\r\n",
        "import torch.nn.functional as F\r\n",
        "from torch.utils.data import Dataset, random_split, DataLoader\r\n",
        "\r\n",
        "import torchvision\r\n",
        "from torchvision.utils import make_grid\r\n",
        "from torchvision.datasets import ImageFolder\r\n",
        "import torchvision.transforms as transforms\r\n",
        "import torchvision.models as models\r\n",
        "\r\n",
        "import numpy as np\r\n",
        "import pandas as pd\r\n",
        "import os\r\n",
        "import matplotlib.pyplot as plt\r\n",
        "from PIL import Image\r\n",
        "from collections import OrderedDict\r\n",
        "from tqdm.notebook import tqdm\r\n",
        "\r\n",
        "%matplotlib inline"
      ],
      "execution_count": null,
      "outputs": []
    },
    {
      "cell_type": "markdown",
      "metadata": {
        "id": "jf02RdsQM8-O"
      },
      "source": [
        "# Preparing Dataset"
      ]
    },
    {
      "cell_type": "markdown",
      "metadata": {
        "id": "i4Ym5CZJM_fE"
      },
      "source": [
        "## Load Images to PyTorch dataset format"
      ]
    },
    {
      "cell_type": "code",
      "metadata": {
        "id": "J6wS8scCKaaS"
      },
      "source": [
        "images = ImageFolder('./Images')\r\n",
        "\r\n",
        "lenImages = len(images)\r\n",
        "lenCategories = len(images.classes)\r\n",
        "\r\n",
        "assert lenImages == 20580\r\n",
        "assert lenCategories == 120"
      ],
      "execution_count": null,
      "outputs": []
    },
    {
      "cell_type": "markdown",
      "metadata": {
        "id": "NBBrdcjPQUyp"
      },
      "source": [
        "## Extract breed categories"
      ]
    },
    {
      "cell_type": "code",
      "metadata": {
        "colab": {
          "base_uri": "https://localhost:8080/"
        },
        "id": "5bQAHc5vL92_",
        "outputId": "9b163905-9a4f-4fbf-8cc7-2e3f9512587a"
      },
      "source": [
        "breeds = []\r\n",
        "for breed in images.classes:\r\n",
        "  breeds.append(breed.split('-')[1])\r\n",
        "\r\n",
        "breeds"
      ],
      "execution_count": null,
      "outputs": [
        {
          "output_type": "execute_result",
          "data": {
            "text/plain": [
              "['Chihuahua',\n",
              " 'Japanese_spaniel',\n",
              " 'Maltese_dog',\n",
              " 'Pekinese',\n",
              " 'Shih',\n",
              " 'Blenheim_spaniel',\n",
              " 'papillon',\n",
              " 'toy_terrier',\n",
              " 'Rhodesian_ridgeback',\n",
              " 'Afghan_hound',\n",
              " 'basset',\n",
              " 'beagle',\n",
              " 'bloodhound',\n",
              " 'bluetick',\n",
              " 'black',\n",
              " 'Walker_hound',\n",
              " 'English_foxhound',\n",
              " 'redbone',\n",
              " 'borzoi',\n",
              " 'Irish_wolfhound',\n",
              " 'Italian_greyhound',\n",
              " 'whippet',\n",
              " 'Ibizan_hound',\n",
              " 'Norwegian_elkhound',\n",
              " 'otterhound',\n",
              " 'Saluki',\n",
              " 'Scottish_deerhound',\n",
              " 'Weimaraner',\n",
              " 'Staffordshire_bullterrier',\n",
              " 'American_Staffordshire_terrier',\n",
              " 'Bedlington_terrier',\n",
              " 'Border_terrier',\n",
              " 'Kerry_blue_terrier',\n",
              " 'Irish_terrier',\n",
              " 'Norfolk_terrier',\n",
              " 'Norwich_terrier',\n",
              " 'Yorkshire_terrier',\n",
              " 'wire',\n",
              " 'Lakeland_terrier',\n",
              " 'Sealyham_terrier',\n",
              " 'Airedale',\n",
              " 'cairn',\n",
              " 'Australian_terrier',\n",
              " 'Dandie_Dinmont',\n",
              " 'Boston_bull',\n",
              " 'miniature_schnauzer',\n",
              " 'giant_schnauzer',\n",
              " 'standard_schnauzer',\n",
              " 'Scotch_terrier',\n",
              " 'Tibetan_terrier',\n",
              " 'silky_terrier',\n",
              " 'soft',\n",
              " 'West_Highland_white_terrier',\n",
              " 'Lhasa',\n",
              " 'flat',\n",
              " 'curly',\n",
              " 'golden_retriever',\n",
              " 'Labrador_retriever',\n",
              " 'Chesapeake_Bay_retriever',\n",
              " 'German_short',\n",
              " 'vizsla',\n",
              " 'English_setter',\n",
              " 'Irish_setter',\n",
              " 'Gordon_setter',\n",
              " 'Brittany_spaniel',\n",
              " 'clumber',\n",
              " 'English_springer',\n",
              " 'Welsh_springer_spaniel',\n",
              " 'cocker_spaniel',\n",
              " 'Sussex_spaniel',\n",
              " 'Irish_water_spaniel',\n",
              " 'kuvasz',\n",
              " 'schipperke',\n",
              " 'groenendael',\n",
              " 'malinois',\n",
              " 'briard',\n",
              " 'kelpie',\n",
              " 'komondor',\n",
              " 'Old_English_sheepdog',\n",
              " 'Shetland_sheepdog',\n",
              " 'collie',\n",
              " 'Border_collie',\n",
              " 'Bouvier_des_Flandres',\n",
              " 'Rottweiler',\n",
              " 'German_shepherd',\n",
              " 'Doberman',\n",
              " 'miniature_pinscher',\n",
              " 'Greater_Swiss_Mountain_dog',\n",
              " 'Bernese_mountain_dog',\n",
              " 'Appenzeller',\n",
              " 'EntleBucher',\n",
              " 'boxer',\n",
              " 'bull_mastiff',\n",
              " 'Tibetan_mastiff',\n",
              " 'French_bulldog',\n",
              " 'Great_Dane',\n",
              " 'Saint_Bernard',\n",
              " 'Eskimo_dog',\n",
              " 'malamute',\n",
              " 'Siberian_husky',\n",
              " 'affenpinscher',\n",
              " 'basenji',\n",
              " 'pug',\n",
              " 'Leonberg',\n",
              " 'Newfoundland',\n",
              " 'Great_Pyrenees',\n",
              " 'Samoyed',\n",
              " 'Pomeranian',\n",
              " 'chow',\n",
              " 'keeshond',\n",
              " 'Brabancon_griffon',\n",
              " 'Pembroke',\n",
              " 'Cardigan',\n",
              " 'toy_poodle',\n",
              " 'miniature_poodle',\n",
              " 'standard_poodle',\n",
              " 'Mexican_hairless',\n",
              " 'dingo',\n",
              " 'dhole',\n",
              " 'African_hunting_dog']"
            ]
          },
          "metadata": {
            "tags": []
          },
          "execution_count": 4
        }
      ]
    },
    {
      "cell_type": "markdown",
      "metadata": {
        "id": "QAPSqPfhQ_yX"
      },
      "source": [
        "## Train, Validation, and Test Split"
      ]
    },
    {
      "cell_type": "code",
      "metadata": {
        "id": "-_fwXexkPVkr"
      },
      "source": [
        "lenTrain = int(lenImages * 0.7)\r\n",
        "lenValidation = int(lenImages * 0.1)\r\n",
        "lenTest = lenImages - lenTrain - lenValidation\r\n",
        "\r\n",
        "assert lenTrain + lenValidation + lenTest == lenImages\r\n",
        "\r\n",
        "train, validation, test = random_split(images, [lenTrain, lenValidation, lenTest], generator=torch.Generator().manual_seed(42))"
      ],
      "execution_count": null,
      "outputs": []
    },
    {
      "cell_type": "code",
      "metadata": {
        "colab": {
          "base_uri": "https://localhost:8080/"
        },
        "id": "qLkCOYg4Tbu2",
        "outputId": "e07a78b3-dc09-4d5e-8e3d-72340bc96ec3"
      },
      "source": [
        "print(f'Train Size: {len(train)}')\r\n",
        "print(f'Validation Size: {len(validation)}')\r\n",
        "print(f'Test Size: {len(test)}')"
      ],
      "execution_count": null,
      "outputs": [
        {
          "output_type": "stream",
          "text": [
            "Train Size: 14405\n",
            "Validation Size: 2058\n",
            "Test Size: 4117\n"
          ],
          "name": "stdout"
        }
      ]
    },
    {
      "cell_type": "markdown",
      "metadata": {
        "id": "HchmBinRV6WL"
      },
      "source": [
        "## Transformation and Augmentation"
      ]
    },
    {
      "cell_type": "code",
      "metadata": {
        "id": "bc9PhLg_U6X8"
      },
      "source": [
        "class CustomBreedDataset(Dataset):\r\n",
        "    def __init__(self, dataset, transform=None):\r\n",
        "        \"\"\"\r\n",
        "        Args:\r\n",
        "            dataset (Dataset): Images\r\n",
        "            transform (callable, optional): Optional transform to be applied\r\n",
        "                on a sample.\r\n",
        "        \"\"\"\r\n",
        "        self.dataset = dataset\r\n",
        "        self.transform = transform\r\n",
        "\r\n",
        "    def __len__(self):\r\n",
        "        return len(self.dataset)\r\n",
        "\r\n",
        "    def __getitem__(self, idx):\r\n",
        "      image, label = self.dataset[idx]\r\n",
        "      if self.transform:\r\n",
        "        image = self.transform(image)  \r\n",
        "        return image, label"
      ],
      "execution_count": null,
      "outputs": []
    },
    {
      "cell_type": "code",
      "metadata": {
        "id": "Ea2EcD71gBu8"
      },
      "source": [
        "train_transform = transforms.Compose([\r\n",
        "    transforms.Resize((256, 256)),\r\n",
        "    transforms.RandomRotation(degrees=45),\r\n",
        "    transforms.RandomCrop(224, padding = 4, padding_mode = 'reflect'),\r\n",
        "    transforms.RandomHorizontalFlip(p=0.3),\r\n",
        "    transforms.ToTensor(),\r\n",
        "    transforms.Normalize(mean=[0.485, 0.456, 0.406],\r\n",
        "                                 std=[0.229, 0.224, 0.225])\r\n",
        "])\r\n",
        "\r\n",
        "validation_transform = transforms.Compose([\r\n",
        "    transforms.Resize((224,224)),\r\n",
        "    transforms.ToTensor(),\r\n",
        "    transforms.Normalize(mean=[0.485, 0.456, 0.406],\r\n",
        "                                 std=[0.229, 0.224, 0.225])\r\n",
        "])\r\n",
        "\r\n",
        "test_transform = transforms.Compose([\r\n",
        "    transforms.Resize((224,224)), \r\n",
        "    transforms.ToTensor(),\r\n",
        "    transforms.Normalize(mean=[0.485, 0.456, 0.406],\r\n",
        "                                 std=[0.229, 0.224, 0.225])\r\n",
        "])"
      ],
      "execution_count": null,
      "outputs": []
    },
    {
      "cell_type": "code",
      "metadata": {
        "id": "w_tFrtRhhLar"
      },
      "source": [
        "train_dataset = CustomBreedDataset(train, train_transform)\r\n",
        "validation_dataset = CustomBreedDataset(validation, validation_transform)\r\n",
        "test_dataset = CustomBreedDataset(test, test_transform)\r\n",
        "\r\n",
        "assert len(train_dataset) + len(validation_dataset) + len(test_dataset) == lenImages"
      ],
      "execution_count": null,
      "outputs": []
    },
    {
      "cell_type": "markdown",
      "metadata": {
        "id": "6BPVS6Kti_x4"
      },
      "source": [
        "## Creating Dataloaders"
      ]
    },
    {
      "cell_type": "code",
      "metadata": {
        "id": "8_VVwIecjB4H"
      },
      "source": [
        "batch_size = 32\r\n",
        "\r\n",
        "# Speeding up the transfer from CPU to GPU by enabling pin_memory\r\n",
        "use_gpu = torch.cuda.is_available()\r\n",
        "\r\n",
        "train_dataloader = DataLoader(train_dataset, batch_size, shuffle=True, num_workers=2, pin_memory=use_gpu)\r\n",
        "validation_dataloader = DataLoader(validation_dataset, batch_size*2, num_workers=2, pin_memory=use_gpu)\r\n",
        "test_dataloader = DataLoader(test_dataset, batch_size*2, num_workers=2, pin_memory=use_gpu)"
      ],
      "execution_count": null,
      "outputs": []
    },
    {
      "cell_type": "markdown",
      "metadata": {
        "id": "pixhdT9MmSuD"
      },
      "source": [
        "# Neural Network Architecture"
      ]
    },
    {
      "cell_type": "code",
      "metadata": {
        "id": "FIjScRwMmh_m"
      },
      "source": [
        "class ImageClassificationBase(nn.Module):\r\n",
        "    def training_step(self, batch):\r\n",
        "        img, targets = batch\r\n",
        "        out = self(img)\r\n",
        "        loss = F.nll_loss(out, targets)\r\n",
        "        return loss\r\n",
        "    \r\n",
        "    def validation_step(self, batch):\r\n",
        "        img, targets = batch\r\n",
        "        out = self(img)\r\n",
        "        loss = F.nll_loss(out, targets)\r\n",
        "        _, preds = torch.max(out, dim=1)\r\n",
        "        acc = torch.tensor(torch.sum(preds == targets).item() / len(preds))\r\n",
        "        return {'val_acc':acc.detach(), 'val_loss':loss.detach()}\r\n",
        "    \r\n",
        "    def validation_epoch_end(self, outputs):\r\n",
        "        batch_losses = [x['val_loss'] for x in outputs]\r\n",
        "        epoch_loss = torch.stack(batch_losses).mean()\r\n",
        "        batch_accs = [x['val_acc'] for x in outputs]\r\n",
        "        epoch_acc = torch.stack(batch_accs).mean()\r\n",
        "        return {'val_loss':epoch_loss.item(), 'val_acc':epoch_acc.item()}\r\n",
        "        \r\n",
        "    def epoch_end(self, epoch, result):\r\n",
        "        print(\"Epoch [{}] : train_loss: {:.4f}, val_loss: {:.4f}, val_acc: {:.4f}\".format(epoch, result[\"train_loss\"], result[\"val_loss\"], result[\"val_acc\"]))"
      ],
      "execution_count": null,
      "outputs": []
    },
    {
      "cell_type": "code",
      "metadata": {
        "id": "Icc_qIe1mkii"
      },
      "source": [
        "class DogBreedClassificationCNN(ImageClassificationBase):\r\n",
        "    def __init__(self):\r\n",
        "        super().__init__()\r\n",
        "        \r\n",
        "        self.features = nn.Sequential(\r\n",
        "            nn.Conv2d(3, 64, kernel_size=(3, 3), stride=(1, 1), padding=(1, 1)),\r\n",
        "            nn.ReLU(inplace=True),\r\n",
        "            nn.Conv2d(64, 64, kernel_size=(3, 3), stride=(1, 1), padding=(1, 1)),\r\n",
        "            nn.ReLU(inplace=True),\r\n",
        "            nn.MaxPool2d(kernel_size=2, stride=2, padding=0, dilation=1, ceil_mode=False),\r\n",
        "\r\n",
        "            nn.Conv2d(64, 128, kernel_size=(3, 3), stride=(1, 1), padding=(1, 1)),\r\n",
        "            nn.ReLU(inplace=True),\r\n",
        "            nn.Conv2d(128, 128, kernel_size=(3, 3), stride=(1, 1), padding=(1, 1)),\r\n",
        "            nn.ReLU(inplace=True),\r\n",
        "            nn.MaxPool2d(kernel_size=2, stride=2, padding=0, dilation=1, ceil_mode=False),\r\n",
        "\r\n",
        "            nn.Conv2d(128, 256, kernel_size=(3, 3), stride=(1, 1), padding=(1, 1)),\r\n",
        "            nn.ReLU(inplace=True),\r\n",
        "            nn.Conv2d(256, 256, kernel_size=(3, 3), stride=(1, 1), padding=(1, 1)),\r\n",
        "            nn.ReLU(inplace=True),\r\n",
        "            nn.Conv2d(256, 256, kernel_size=(3, 3), stride=(1, 1), padding=(1, 1)),\r\n",
        "            nn.ReLU(inplace=True),\r\n",
        "            nn.MaxPool2d(kernel_size=2, stride=2, padding=0, dilation=1, ceil_mode=False),\r\n",
        "\r\n",
        "            nn.Conv2d(256, 512, kernel_size=(3, 3), stride=(1, 1), padding=(1, 1)),\r\n",
        "            nn.ReLU(inplace=True),\r\n",
        "            nn.Conv2d(512, 512, kernel_size=(3, 3), stride=(1, 1), padding=(1, 1)),\r\n",
        "            nn.ReLU(inplace=True),\r\n",
        "            nn.Conv2d(512, 512, kernel_size=(3, 3), stride=(1, 1), padding=(1, 1)),\r\n",
        "            nn.ReLU(inplace=True),\r\n",
        "            nn.MaxPool2d(kernel_size=2, stride=2, padding=0, dilation=1, ceil_mode=False),\r\n",
        "\r\n",
        "            nn.Conv2d(512, 512, kernel_size=(3, 3), stride=(1, 1), padding=(1, 1)),\r\n",
        "            nn.ReLU(inplace=True),\r\n",
        "            nn.Conv2d(512, 512, kernel_size=(3, 3), stride=(1, 1), padding=(1, 1)),\r\n",
        "            nn.ReLU(inplace=True),\r\n",
        "            nn.Conv2d(512, 512, kernel_size=(3, 3), stride=(1, 1), padding=(1, 1)),\r\n",
        "            nn.ReLU(inplace=True),\r\n",
        "            nn.MaxPool2d(kernel_size=2, stride=2, padding=0, dilation=1, ceil_mode=False),\r\n",
        "        )\r\n",
        "\r\n",
        "        self.avgpool = nn.AdaptiveAvgPool2d(7)\r\n",
        "\r\n",
        "        self.classifier = nn.Sequential(\r\n",
        "            nn.Linear(in_features=25088, out_features=4096, bias=True),\r\n",
        "            nn.ReLU(inplace=True),\r\n",
        "            nn.Dropout(p=0.5, inplace=False),\r\n",
        "\r\n",
        "            nn.Linear(in_features=4096, out_features=4096, bias=True),\r\n",
        "            nn.ReLU(inplace=True),\r\n",
        "            nn.Dropout(p=0.5, inplace=False),\r\n",
        "\r\n",
        "            nn.Linear(in_features=4096, out_features=120, bias=True),\r\n",
        "            nn.LogSoftmax()\r\n",
        "        )\r\n",
        "    \r\n",
        "    def forward(self, x):\r\n",
        "      x = self.features(x)\r\n",
        "      x = self.avgpool(x)\r\n",
        "      x = x.view(-1, 25088)\r\n",
        "      return self.classifier(x)"
      ],
      "execution_count": null,
      "outputs": []
    },
    {
      "cell_type": "code",
      "metadata": {
        "id": "4sW5q4CTnw4f"
      },
      "source": [
        "model = DogBreedClassificationCNN()"
      ],
      "execution_count": null,
      "outputs": []
    },
    {
      "cell_type": "code",
      "metadata": {
        "id": "dEwk0EcumnCd"
      },
      "source": [
        "def to_device(data, device):\r\n",
        "    if isinstance(data, (list, tuple)):\r\n",
        "        return [to_device(d, device) for d in data]\r\n",
        "    else:\r\n",
        "        return data.to(device, non_blocking=True)"
      ],
      "execution_count": null,
      "outputs": []
    },
    {
      "cell_type": "code",
      "metadata": {
        "id": "M23CegHhnT_d"
      },
      "source": [
        "class DeviceDataLoader:\r\n",
        "    def __init__(self, dl, device):\r\n",
        "        self.dl = dl\r\n",
        "        self.device = device\r\n",
        "    \r\n",
        "    def __len__(self):\r\n",
        "        return len(self.dl)\r\n",
        "    \r\n",
        "    def __iter__(self):\r\n",
        "        for batch in self.dl:\r\n",
        "            yield to_device(batch, self.device)"
      ],
      "execution_count": null,
      "outputs": []
    },
    {
      "cell_type": "code",
      "metadata": {
        "colab": {
          "base_uri": "https://localhost:8080/"
        },
        "id": "2hdU_z1DnV-7",
        "outputId": "e193eb40-3dd3-4062-8ba5-1b0f0a242e6e"
      },
      "source": [
        "device = 'cuda' if torch.cuda.is_available() else 'cpu'\r\n",
        "print(device)\r\n",
        "\r\n",
        "train_dataloader = DeviceDataLoader(train_dataloader, device)\r\n",
        "validation_dataloader = DeviceDataLoader(validation_dataloader, device)\r\n",
        "\r\n",
        "to_device(model, device);"
      ],
      "execution_count": null,
      "outputs": [
        {
          "output_type": "stream",
          "text": [
            "cuda\n"
          ],
          "name": "stdout"
        }
      ]
    },
    {
      "cell_type": "code",
      "metadata": {
        "id": "jfpIyg5lo2Tv"
      },
      "source": [
        "def get_lr(optimizer):\r\n",
        "    for param_group in optimizer.param_groups:\r\n",
        "        return param_group['lr']\r\n",
        "        \r\n",
        "def fit_one_cycle(epochs, max_lr, model, train_loader, val_loader, weight_decay=0, grad_clip=None, opt_func = torch.optim.Adam):\r\n",
        "    torch.cuda.empty_cache()\r\n",
        "    history = []\r\n",
        "    optimizer = opt_func(model.parameters(), max_lr, weight_decay=weight_decay)\r\n",
        "    sched = torch.optim.lr_scheduler.OneCycleLR(optimizer, max_lr, epochs=epochs, steps_per_epoch=len(train_loader))\r\n",
        "    \r\n",
        "    for epoch in range(epochs):\r\n",
        "        model.train()       \r\n",
        "        train_losses = []\r\n",
        "        lrs = []\r\n",
        "        for batch in tqdm(train_loader):\r\n",
        "            loss = model.training_step(batch)\r\n",
        "            train_losses.append(loss)\r\n",
        "            \r\n",
        "            loss.backward()\r\n",
        "            \r\n",
        "            if grad_clip:\r\n",
        "                nn.utils.clip_grad_value_(model.parameters(), grad_clip)\r\n",
        "                \r\n",
        "            optimizer.step()\r\n",
        "            optimizer.zero_grad()\r\n",
        "            \r\n",
        "            lrs.append(get_lr(optimizer))\r\n",
        "            \r\n",
        "            sched.step()\r\n",
        "            \r\n",
        "        result = evaluate(model, val_loader)\r\n",
        "        result['train_loss'] = torch.stack(train_losses).mean().item()\r\n",
        "        result['lrs'] = lrs\r\n",
        "        model.epoch_end(epoch, result)\r\n",
        "        history.append(result)\r\n",
        "\r\n",
        "    return history\r\n",
        "\r\n",
        "@torch.no_grad()\r\n",
        "def evaluate(model, val_loader):\r\n",
        "    model.eval()\r\n",
        "    outputs = [model.validation_step(batch) for batch in val_loader]\r\n",
        "    return model.validation_epoch_end(outputs)"
      ],
      "execution_count": null,
      "outputs": []
    },
    {
      "cell_type": "code",
      "metadata": {
        "colab": {
          "base_uri": "https://localhost:8080/"
        },
        "id": "VDnqBhxppIVH",
        "outputId": "1352efb0-ab3f-4b6e-8e7c-53cb79251a91"
      },
      "source": [
        "evaluate(model, validation_dataloader)"
      ],
      "execution_count": null,
      "outputs": [
        {
          "output_type": "stream",
          "text": [
            "/usr/local/lib/python3.6/dist-packages/torch/nn/modules/container.py:117: UserWarning: Implicit dimension choice for log_softmax has been deprecated. Change the call to include dim=X as an argument.\n",
            "  input = module(input)\n"
          ],
          "name": "stderr"
        },
        {
          "output_type": "execute_result",
          "data": {
            "text/plain": [
              "{'val_acc': 0.01278409082442522, 'val_loss': 4.78729248046875}"
            ]
          },
          "metadata": {
            "tags": []
          },
          "execution_count": 18
        }
      ]
    },
    {
      "cell_type": "code",
      "metadata": {
        "colab": {
          "base_uri": "https://localhost:8080/",
          "height": 610,
          "referenced_widgets": [
            "0f731b36b3a2412bbc79d263f94df826",
            "48c6e03625a04e3ba0a5c1d9ef738f1f",
            "c2ad86b85b11427aab8e012c6bed97f7",
            "dc326d510a394d06b8804bf3125262b2",
            "e3ae5b6b697e458eb149671291cd0645",
            "1c60f3ee6dcb479bacfc93d01a8964b9",
            "e618d57fd06c4f2688d143c7abac3875",
            "03789f23628b4e4eac79be1b69b5b915",
            "6f03be68f3c44b5e8803578ef6f8083b",
            "18b61c0cc7394577a7310b05439273f1",
            "80b6258acb3240e1be65311c1d2a95bd",
            "cf46de8f0a254c379ef1c0a65fbed82e",
            "baf8837fe77c4a6189b81028f566402b",
            "e06ea789b6b841e99bad8a0ddbe0f430",
            "3aa106fc56cd4986b4ce9beff2419bd6",
            "9c53901bb9c34432831d551ece28ce03",
            "60610ef62ec7410d8ff3fe0c9892758f",
            "927e8a10d1234e29a3f097fdac9f48fe",
            "95de73c6741b43db8f235ff805953a32",
            "3415cba7fa884f25915f1a6eb0caa52f",
            "70bcb7422afe4ff1b04d54e892a78a70",
            "41b141d59052402396472d1fe9618b7b",
            "66ef28caf2514479ae0db107e29a78c9",
            "aec4192996524342b2f02ae058988385",
            "237dde8acb63474eadfd61bcf3b01884",
            "703775673ea74c4eaf14756d32083375",
            "f29a5a9770604bb49eebafac04ffee4c",
            "ea5ee8937b6147f9a945eb56a7d9b62c",
            "95ba8f6619b045538cadbf388b741e2f",
            "302e91d804664488b7b9474873f553de",
            "7d509b0d12284f1b979ee874ae17ee28",
            "2a57e1f353044f3cba4b5c56dbad4c73",
            "25897903c35a4f758b5ffc02d881b403",
            "668142368ff64ba9847c3239a9f7461b",
            "859e223e36eb4280b11495b064c6668d",
            "845c5ed7e033447895bea910dba74d52",
            "87a90d92bc6c4665810646534d4adb97",
            "d1966d3c05774c36bcc8c706f0f96223",
            "b2130ef7f8d44b57b9fa7410c705660a",
            "958035b249334cf1a9374db66841eee9",
            "afcd631cd3294fa6bbe31184ebc292b5",
            "1e3290548f9646b3bdcd877ce4a2029f",
            "826c1cdf1e4e41968e9e3dbd659670be",
            "fca4b74fbcb845e2970ef7bf7a7f1e4d",
            "0948611343774e43bb9c4af51f822b18",
            "2bfd3930efdc4ef5b0f449c66f9f3809",
            "43d6ce663c5549429ca1cc5dafb6db49",
            "993dd01ca84d4547ba0e35bd356282ee",
            "d0017eac1a1f4b068ddd5865decbd9fb",
            "5110486647684023aa3981e8e91b161b",
            "d97105448f3345c4819da07b611095c7",
            "9eb9ef2e088f4fc89a7b6652a4c6c01f",
            "6911c2c0670c411da38d5770f3dc32c3",
            "76d5ec2b28f74b5087fab188be0a51bd",
            "6131f62530d04cdcabe413097527301c",
            "dadac280a14d47ba98605a5315a12ffa",
            "bd015a07183446fdb17ef8d321cf2e04",
            "e882c1f33766448a82b4a4e642c4ebcf",
            "167fae9ca5f24630b0d4b215eb66bea0",
            "d46e0944c74941f0b1a23b8ad0401320",
            "39e64c21c1904ccab1df9d993511ebfe",
            "6b3c1c8a79294e42a34b105bfbfa8bf4",
            "c7458aaaeca14c5993f0424be85c0f76",
            "98ebc230fb2740759794fdd91b366f05"
          ]
        },
        "id": "NzId8JnapW-4",
        "outputId": "cbec1c8d-1abf-4292-befb-82dfe9713870"
      },
      "source": [
        "history = fit_one_cycle(8, 0.01, model, train_dataloader, validation_dataloader, 1e-4, 0.1, torch.optim.SGD)"
      ],
      "execution_count": null,
      "outputs": [
        {
          "output_type": "display_data",
          "data": {
            "application/vnd.jupyter.widget-view+json": {
              "model_id": "0f731b36b3a2412bbc79d263f94df826",
              "version_minor": 0,
              "version_major": 2
            },
            "text/plain": [
              "HBox(children=(FloatProgress(value=0.0, max=451.0), HTML(value='')))"
            ]
          },
          "metadata": {
            "tags": []
          }
        },
        {
          "output_type": "stream",
          "text": [
            "/usr/local/lib/python3.6/dist-packages/torch/nn/modules/container.py:117: UserWarning: Implicit dimension choice for log_softmax has been deprecated. Change the call to include dim=X as an argument.\n",
            "  input = module(input)\n"
          ],
          "name": "stderr"
        },
        {
          "output_type": "stream",
          "text": [
            "\n",
            "Epoch [0] : train_loss: 4.7873, val_loss: 4.7855, val_acc: 0.0114\n"
          ],
          "name": "stdout"
        },
        {
          "output_type": "display_data",
          "data": {
            "application/vnd.jupyter.widget-view+json": {
              "model_id": "6f03be68f3c44b5e8803578ef6f8083b",
              "version_minor": 0,
              "version_major": 2
            },
            "text/plain": [
              "HBox(children=(FloatProgress(value=0.0, max=451.0), HTML(value='')))"
            ]
          },
          "metadata": {
            "tags": []
          }
        },
        {
          "output_type": "stream",
          "text": [
            "\n",
            "Epoch [1] : train_loss: 4.7847, val_loss: 4.7835, val_acc: 0.0114\n"
          ],
          "name": "stdout"
        },
        {
          "output_type": "display_data",
          "data": {
            "application/vnd.jupyter.widget-view+json": {
              "model_id": "60610ef62ec7410d8ff3fe0c9892758f",
              "version_minor": 0,
              "version_major": 2
            },
            "text/plain": [
              "HBox(children=(FloatProgress(value=0.0, max=451.0), HTML(value='')))"
            ]
          },
          "metadata": {
            "tags": []
          }
        },
        {
          "output_type": "stream",
          "text": [
            "\n",
            "Epoch [2] : train_loss: 4.7819, val_loss: 4.7828, val_acc: 0.0128\n"
          ],
          "name": "stdout"
        },
        {
          "output_type": "display_data",
          "data": {
            "application/vnd.jupyter.widget-view+json": {
              "model_id": "237dde8acb63474eadfd61bcf3b01884",
              "version_minor": 0,
              "version_major": 2
            },
            "text/plain": [
              "HBox(children=(FloatProgress(value=0.0, max=451.0), HTML(value='')))"
            ]
          },
          "metadata": {
            "tags": []
          }
        },
        {
          "output_type": "stream",
          "text": [
            "\n",
            "Epoch [3] : train_loss: 4.7804, val_loss: 4.7829, val_acc: 0.0128\n"
          ],
          "name": "stdout"
        },
        {
          "output_type": "display_data",
          "data": {
            "application/vnd.jupyter.widget-view+json": {
              "model_id": "25897903c35a4f758b5ffc02d881b403",
              "version_minor": 0,
              "version_major": 2
            },
            "text/plain": [
              "HBox(children=(FloatProgress(value=0.0, max=451.0), HTML(value='')))"
            ]
          },
          "metadata": {
            "tags": []
          }
        },
        {
          "output_type": "stream",
          "text": [
            "\n",
            "Epoch [4] : train_loss: 4.7797, val_loss: 4.7831, val_acc: 0.0128\n"
          ],
          "name": "stdout"
        },
        {
          "output_type": "display_data",
          "data": {
            "application/vnd.jupyter.widget-view+json": {
              "model_id": "afcd631cd3294fa6bbe31184ebc292b5",
              "version_minor": 0,
              "version_major": 2
            },
            "text/plain": [
              "HBox(children=(FloatProgress(value=0.0, max=451.0), HTML(value='')))"
            ]
          },
          "metadata": {
            "tags": []
          }
        },
        {
          "output_type": "stream",
          "text": [
            "\n",
            "Epoch [5] : train_loss: 4.7793, val_loss: 4.7832, val_acc: 0.0128\n"
          ],
          "name": "stdout"
        },
        {
          "output_type": "display_data",
          "data": {
            "application/vnd.jupyter.widget-view+json": {
              "model_id": "d0017eac1a1f4b068ddd5865decbd9fb",
              "version_minor": 0,
              "version_major": 2
            },
            "text/plain": [
              "HBox(children=(FloatProgress(value=0.0, max=451.0), HTML(value='')))"
            ]
          },
          "metadata": {
            "tags": []
          }
        },
        {
          "output_type": "stream",
          "text": [
            "\n",
            "Epoch [6] : train_loss: 4.7786, val_loss: 4.7832, val_acc: 0.0128\n"
          ],
          "name": "stdout"
        },
        {
          "output_type": "display_data",
          "data": {
            "application/vnd.jupyter.widget-view+json": {
              "model_id": "bd015a07183446fdb17ef8d321cf2e04",
              "version_minor": 0,
              "version_major": 2
            },
            "text/plain": [
              "HBox(children=(FloatProgress(value=0.0, max=451.0), HTML(value='')))"
            ]
          },
          "metadata": {
            "tags": []
          }
        },
        {
          "output_type": "stream",
          "text": [
            "\n",
            "Epoch [7] : train_loss: 4.7782, val_loss: 4.7834, val_acc: 0.0128\n"
          ],
          "name": "stdout"
        }
      ]
    },
    {
      "cell_type": "code",
      "metadata": {
        "colab": {
          "base_uri": "https://localhost:8080/"
        },
        "id": "VRfM6dnQeM02",
        "outputId": "66fb7f51-4435-46f7-b290-94ec19f1431d"
      },
      "source": [
        "test_dataloader = DeviceDataLoader(test_dataloader, device)\r\n",
        "\r\n",
        "result = evaluate(model, test_dataloader)\r\n",
        "result"
      ],
      "execution_count": null,
      "outputs": [
        {
          "output_type": "stream",
          "text": [
            "/usr/local/lib/python3.6/dist-packages/torch/nn/modules/container.py:117: UserWarning: Implicit dimension choice for log_softmax has been deprecated. Change the call to include dim=X as an argument.\n",
            "  input = module(input)\n"
          ],
          "name": "stderr"
        },
        {
          "output_type": "execute_result",
          "data": {
            "text/plain": [
              "{'val_acc': 0.01225961558520794, 'val_loss': 4.785401821136475}"
            ]
          },
          "metadata": {
            "tags": []
          },
          "execution_count": 20
        }
      ]
    },
    {
      "cell_type": "code",
      "metadata": {
        "id": "0GNeZCiRSFRe"
      },
      "source": [
        "# nn.Conv2d(3, 64, kernel_size=(7, 7), stride=(2, 2), padding=(3, 3), bias=False),\r\n",
        "#             nn.BatchNorm2d(64, eps=1e-05, momentum=0.1, affine=True, track_running_stats=True),\r\n",
        "#             nn.ReLU(inplace=True),\r\n",
        "#             nn.MaxPool2d(kernel_size=3, stride=2, padding=1, dilation=1, ceil_mode=False),\r\n",
        "\r\n",
        "#             nn.Sequential(\r\n",
        "#                 nn.Conv2d(64, 128, kernel_size=(1, 1), stride=(1, 1), bias=False),\r\n",
        "#                 nn.BatchNorm2d(128, eps=1e-05, momentum=0.1, affine=True, track_running_stats=True),\r\n",
        "#                 nn.Conv2d(128, 128, kernel_size=(3, 3), stride=(1, 1), padding=(1, 1), bias=False),\r\n",
        "#                 nn.BatchNorm2d(128, eps=1e-05, momentum=0.1, affine=True, track_running_stats=True),\r\n",
        "#                 nn.Conv2d(128, 256, kernel_size=(1, 1), stride=(1, 1), bias=False),\r\n",
        "#                 nn.BatchNorm2d(256, eps=1e-05, momentum=0.1, affine=True, track_running_stats=True),\r\n",
        "#                 nn.ReLU(inplace=True),\r\n",
        "\r\n",
        "#                 nn.Sequential(\r\n",
        "#                     nn.Conv2d(64, 256, kernel_size=(1, 1), stride=(1, 1), bias=False),\r\n",
        "#                     nn.BatchNorm2d(256, eps=1e-05, momentum=0.1, affine=True, track_running_stats=True),       \r\n",
        "#                 )\r\n",
        "\r\n",
        "#                 nn.Conv2d(256, 128, kernel_size=(1, 1), stride=(1, 1), bias=False),\r\n",
        "#                 nn.BatchNorm2d(128, eps=1e-05, momentum=0.1, affine=True, track_running_stats=True),\r\n",
        "#                 nn.Conv2d(128, 128, kernel_size=(3, 3), stride=(1, 1), padding=(1, 1), bias=False),\r\n",
        "#                 nn.BatchNorm2d(128, eps=1e-05, momentum=0.1, affine=True, track_running_stats=True),\r\n",
        "#                 nn.Conv2d(128, 256, kernel_size=(1, 1), stride=(1, 1), bias=False),\r\n",
        "#                 nn.BatchNorm2d(256, eps=1e-05, momentum=0.1, affine=True, track_running_stats=True),\r\n",
        "#                 nn.ReLU(inplace=True),\r\n",
        "\r\n",
        "#                 nn.Conv2d(256, 128, kernel_size=(1, 1), stride=(1, 1), bias=False),\r\n",
        "#                 nn.BatchNorm2d(128, eps=1e-05, momentum=0.1, affine=True, track_running_stats=True),\r\n",
        "#                 nn.Conv2d(128, 128, kernel_size=(3, 3), stride=(1, 1), padding=(1, 1), bias=False),\r\n",
        "#                 nn.BatchNorm2d(128, eps=1e-05, momentum=0.1, affine=True, track_running_stats=True),\r\n",
        "#                 nn.Conv2d(128, 256, kernel_size=(1, 1), stride=(1, 1), bias=False),\r\n",
        "#                 nn.BatchNorm2d(256, eps=1e-05, momentum=0.1, affine=True, track_running_stats=True),\r\n",
        "#                 nn.ReLU(inplace=True),\r\n",
        "#             )\r\n",
        "\r\n",
        "#             nn.Sequential(\r\n",
        "#                 nn.Conv2d(256, 256, kernel_size=(1, 1), stride=(1, 1), bias=False),\r\n",
        "#                 nn.BatchNorm2d(256, eps=1e-05, momentum=0.1, affine=True, track_running_stats=True),\r\n",
        "#                 nn.Conv2d(256, 256, kernel_size=(3, 3), stride=(2, 2), padding=(1, 1), bias=False),\r\n",
        "#                 nn.BatchNorm2d(256, eps=1e-05, momentum=0.1, affine=True, track_running_stats=True),\r\n",
        "#                 nn.Conv2d(256, 512, kernel_size=(1, 1), stride=(1, 1), bias=False),\r\n",
        "#                 nn.BatchNorm2d(512, eps=1e-05, momentum=0.1, affine=True, track_running_stats=True),\r\n",
        "#                 nn.ReLU(inplace=True),\r\n",
        "\r\n",
        "#                 nn.Sequential(\r\n",
        "#                     nn.Conv2d(256, 512, kernel_size=(1, 1), stride=(2, 2), bias=False),\r\n",
        "#                     nn.BatchNorm2d(512, eps=1e-05, momentum=0.1, affine=True, track_running_stats=True),\r\n",
        "#                 )\r\n",
        "\r\n",
        "#                 nn.Conv2d(512, 256, kernel_size=(1, 1), stride=(1, 1), bias=False),\r\n",
        "#                 nn.BatchNorm2d(256, eps=1e-05, momentum=0.1, affine=True, track_running_stats=True),\r\n",
        "#                 nn.Conv2d(256, 256, kernel_size=(3, 3), stride=(1, 1), padding=(1, 1), bias=False),\r\n",
        "#                 nn.BatchNorm2d(256, eps=1e-05, momentum=0.1, affine=True, track_running_stats=True),\r\n",
        "#                 nn.Conv2d(256, 512, kernel_size=(1, 1), stride=(1, 1), bias=False),\r\n",
        "#                 nn.BatchNorm2d(512, eps=1e-05, momentum=0.1, affine=True, track_running_stats=True),\r\n",
        "#                 nn.ReLU(inplace=True),\r\n",
        "\r\n",
        "#                 nn.Conv2d(512, 256, kernel_size=(1, 1), stride=(1, 1), bias=False),\r\n",
        "#                 nn.BatchNorm2d(256, eps=1e-05, momentum=0.1, affine=True, track_running_stats=True),\r\n",
        "#                 nn.Conv2d(256, 256, kernel_size=(3, 3), stride=(1, 1), padding=(1, 1), bias=False),\r\n",
        "#                 nn.BatchNorm2d(256, eps=1e-05, momentum=0.1, affine=True, track_running_stats=True),\r\n",
        "#                 nn.Conv2d(256, 512, kernel_size=(1, 1), stride=(1, 1), bias=False),\r\n",
        "#                 nn.BatchNorm2d(512, eps=1e-05, momentum=0.1, affine=True, track_running_stats=True),\r\n",
        "#                 nn.ReLU(inplace=True),\r\n",
        "\r\n",
        "#                 nn.Conv2d(512, 256, kernel_size=(1, 1), stride=(1, 1), bias=False),\r\n",
        "#                 nn.BatchNorm2d(256, eps=1e-05, momentum=0.1, affine=True, track_running_stats=True),\r\n",
        "#                 nn.Conv2d(256, 256, kernel_size=(3, 3), stride=(1, 1), padding=(1, 1), bias=False),\r\n",
        "#                 nn.BatchNorm2d(256, eps=1e-05, momentum=0.1, affine=True, track_running_stats=True),\r\n",
        "#                 nn.Conv2d(256, 512, kernel_size=(1, 1), stride=(1, 1), bias=False),\r\n",
        "#                 nn.BatchNorm2d(512, eps=1e-05, momentum=0.1, affine=True, track_running_stats=True),\r\n",
        "#                 nn.ReLU(inplace=True),\r\n",
        "#             )\r\n",
        "\r\n",
        "#             nn.Sequential(\r\n",
        "#                 nn.Conv2d(512, 512, kernel_size=(1, 1), stride=(1, 1), bias=False),\r\n",
        "#                 nn.BatchNorm2d(512, eps=1e-05, momentum=0.1, affine=True, track_running_stats=True),\r\n",
        "#                 nn.Conv2d(512, 512, kernel_size=(3, 3), stride=(2, 2), padding=(1, 1), bias=False),\r\n",
        "#                 nn.BatchNorm2d(512, eps=1e-05, momentum=0.1, affine=True, track_running_stats=True),\r\n",
        "#                 nn.Conv2d(512, 1024, kernel_size=(1, 1), stride=(1, 1), bias=False),\r\n",
        "#                 nn.BatchNorm2d(1024, eps=1e-05, momentum=0.1, affine=True, track_running_stats=True),\r\n",
        "#                 nn.ReLU(inplace=True),\r\n",
        "\r\n",
        "#                 nn.Sequential(\r\n",
        "#                   nn.Conv2d(512, 1024, kernel_size=(1, 1), stride=(2, 2), bias=False),\r\n",
        "#                   nn.BatchNorm2d(1024, eps=1e-05, momentum=0.1, affine=True, track_running_stats=True),       \r\n",
        "#                 )\r\n",
        "\r\n",
        "#                 nn.Conv2d(1024, 512, kernel_size=(1, 1), stride=(1, 1), bias=False),\r\n",
        "#                 nn.BatchNorm2d(512, eps=1e-05, momentum=0.1, affine=True, track_running_stats=True),\r\n",
        "#                 nn.Conv2d(512, 512, kernel_size=(3, 3), stride=(1, 1), padding=(1, 1), bias=False),\r\n",
        "#                 nn.BatchNorm2d(512, eps=1e-05, momentum=0.1, affine=True, track_running_stats=True),\r\n",
        "#                 nn.Conv2d(512, 1024, kernel_size=(1, 1), stride=(1, 1), bias=False),\r\n",
        "#                 nn.BatchNorm2d(1024, eps=1e-05, momentum=0.1, affine=True, track_running_stats=True),\r\n",
        "#                 nn.ReLU(inplace=True),\r\n",
        "\r\n",
        "#                 nn.Conv2d(1024, 512, kernel_size=(1, 1), stride=(1, 1), bias=False),\r\n",
        "#                 nn.BatchNorm2d(512, eps=1e-05, momentum=0.1, affine=True, track_running_stats=True),\r\n",
        "#                 nn.Conv2d(512, 512, kernel_size=(3, 3), stride=(1, 1), padding=(1, 1), bias=False),\r\n",
        "#                 nn.BatchNorm2d(512, eps=1e-05, momentum=0.1, affine=True, track_running_stats=True),\r\n",
        "#                 nn.Conv2d(512, 1024, kernel_size=(1, 1), stride=(1, 1), bias=False),\r\n",
        "#                 nn.BatchNorm2d(1024, eps=1e-05, momentum=0.1, affine=True, track_running_stats=True),\r\n",
        "#                 nn.ReLU(inplace=True),\r\n",
        "\r\n",
        "#                 nn.Conv2d(1024, 512, kernel_size=(1, 1), stride=(1, 1), bias=False),\r\n",
        "#                 nn.BatchNorm2d(512, eps=1e-05, momentum=0.1, affine=True, track_running_stats=True),\r\n",
        "#                 nn.Conv2d(512, 512, kernel_size=(3, 3), stride=(1, 1), padding=(1, 1), bias=False),\r\n",
        "#                 nn.BatchNorm2d(512, eps=1e-05, momentum=0.1, affine=True, track_running_stats=True),\r\n",
        "#                 nn.Conv2d(512, 1024, kernel_size=(1, 1), stride=(1, 1), bias=False),\r\n",
        "#                 nn.BatchNorm2d(1024, eps=1e-05, momentum=0.1, affine=True, track_running_stats=True),\r\n",
        "#                 nn.ReLU(inplace=True),\r\n",
        "\r\n",
        "#                 nn.Conv2d(1024, 512, kernel_size=(1, 1), stride=(1, 1), bias=False),\r\n",
        "#                 nn.BatchNorm2d(512, eps=1e-05, momentum=0.1, affine=True, track_running_stats=True),\r\n",
        "#                 nn.Conv2d(512, 512, kernel_size=(3, 3), stride=(1, 1), padding=(1, 1), bias=False),\r\n",
        "#                 nn.BatchNorm2d(512, eps=1e-05, momentum=0.1, affine=True, track_running_stats=True),\r\n",
        "#                 nn.Conv2d(512, 1024, kernel_size=(1, 1), stride=(1, 1), bias=False),\r\n",
        "#                 nn.BatchNorm2d(1024, eps=1e-05, momentum=0.1, affine=True, track_running_stats=True),\r\n",
        "#                 nn.ReLU(inplace=True),\r\n",
        "\r\n",
        "#                 nn.Conv2d(1024, 512, kernel_size=(1, 1), stride=(1, 1), bias=False),\r\n",
        "#                 nn.BatchNorm2d(512, eps=1e-05, momentum=0.1, affine=True, track_running_stats=True),\r\n",
        "#                 nn.Conv2d(512, 512, kernel_size=(3, 3), stride=(1, 1), padding=(1, 1), bias=False),\r\n",
        "#                 nn.BatchNorm2d(512, eps=1e-05, momentum=0.1, affine=True, track_running_stats=True),\r\n",
        "#                 nn.Conv2d(512, 1024, kernel_size=(1, 1), stride=(1, 1), bias=False),\r\n",
        "#                 nn.BatchNorm2d(1024, eps=1e-05, momentum=0.1, affine=True, track_running_stats=True),\r\n",
        "#                 nn.ReLU(inplace=True),\r\n",
        "#             )\r\n",
        "\r\n",
        "#             nn.Sequential(\r\n",
        "#                 nn.Conv2d(1024, 1024, kernel_size=(1, 1), stride=(1, 1), bias=False),\r\n",
        "#                 nn.BatchNorm2d(1024, eps=1e-05, momentum=0.1, affine=True, track_running_stats=True),\r\n",
        "#                 nn.Conv2d(1024, 1024, kernel_size=(3, 3), stride=(2, 2), padding=(1, 1), bias=False),\r\n",
        "#                 nn.BatchNorm2d(1024, eps=1e-05, momentum=0.1, affine=True, track_running_stats=True),\r\n",
        "#                 nn.Conv2d(1024, 2048, kernel_size=(1, 1), stride=(1, 1), bias=False),\r\n",
        "#                 nn.BatchNorm2d(2048, eps=1e-05, momentum=0.1, affine=True, track_running_stats=True),\r\n",
        "#                 nn.ReLU(inplace=True),\r\n",
        "\r\n",
        "#                 nn.Sequential(\r\n",
        "#                     nn.Conv2d(1024, 2048, kernel_size=(1, 1), stride=(2, 2), bias=False),\r\n",
        "#                     nn.BatchNorm2d(2048, eps=1e-05, momentum=0.1, affine=True, track_running_stats=True),\r\n",
        "#                 )\r\n",
        "\r\n",
        "#                 nn.Conv2d(2048, 1024, kernel_size=(1, 1), stride=(1, 1), bias=False),\r\n",
        "#                 nn.BatchNorm2d(1024, eps=1e-05, momentum=0.1, affine=True, track_running_stats=True),\r\n",
        "#                 nn.Conv2d(1024, 1024, kernel_size=(3, 3), stride=(1, 1), padding=(1, 1), bias=False),\r\n",
        "#                 nn.BatchNorm2d(1024, eps=1e-05, momentum=0.1, affine=True, track_running_stats=True),\r\n",
        "#                 nn.Conv2d(1024, 2048, kernel_size=(1, 1), stride=(1, 1), bias=False),\r\n",
        "#                 nn.BatchNorm2d(2048, eps=1e-05, momentum=0.1, affine=True, track_running_stats=True),\r\n",
        "#                 nn.ReLU(inplace=True),\r\n",
        "\r\n",
        "#                 nn.Conv2d(2048, 1024, kernel_size=(1, 1), stride=(1, 1), bias=False),\r\n",
        "#                 nn.BatchNorm2d(1024, eps=1e-05, momentum=0.1, affine=True, track_running_stats=True),\r\n",
        "#                 nn.Conv2d(1024, 1024, kernel_size=(3, 3), stride=(1, 1), padding=(1, 1), bias=False),\r\n",
        "#                 nn.BatchNorm2d(1024, eps=1e-05, momentum=0.1, affine=True, track_running_stats=True),\r\n",
        "#                 nn.Conv2d(1024, 2048, kernel_size=(1, 1), stride=(1, 1), bias=False),\r\n",
        "#                 nn.BatchNorm2d(2048, eps=1e-05, momentum=0.1, affine=True, track_running_stats=True),\r\n",
        "#                 nn.ReLU(inplace=True),\r\n",
        "#             )\r\n",
        "\r\n",
        "#             nn.AdaptiveAvgPool2d(output_size=(1, 1)),\r\n",
        "#             nn.Linear(in_features=2048, out_features=120, bias=True),\r\n",
        "#             nn.LogSoftmax(dim=1),"
      ],
      "execution_count": null,
      "outputs": []
    }
  ]
}