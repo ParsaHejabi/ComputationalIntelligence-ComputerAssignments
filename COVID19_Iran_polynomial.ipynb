{
  "nbformat": 4,
  "nbformat_minor": 0,
  "metadata": {
    "colab": {
      "name": "COVID19_Iran_polynomial.ipynb",
      "provenance": [],
      "collapsed_sections": [],
      "include_colab_link": true
    },
    "kernelspec": {
      "name": "python3",
      "display_name": "Python 3"
    }
  },
  "cells": [
    {
      "cell_type": "markdown",
      "metadata": {
        "id": "view-in-github",
        "colab_type": "text"
      },
      "source": [
        "<a href=\"https://colab.research.google.com/github/ParsaHejabi/ComputationalIntelligence-ComputerAssignments/blob/main/COVID19_Iran_polynomial.ipynb\" target=\"_parent\"><img src=\"https://colab.research.google.com/assets/colab-badge.svg\" alt=\"Open In Colab\"/></a>"
      ]
    },
    {
      "cell_type": "markdown",
      "metadata": {
        "id": "JicG4qwgI_YT"
      },
      "source": [
        "# COVID-19 infections in Iran - Polynomial Regression"
      ]
    },
    {
      "cell_type": "markdown",
      "metadata": {
        "id": "3KbjC-HgDyvR"
      },
      "source": [
        "## Download global data from WHO website\n",
        "Data is available at [WHO Coronavirus Disease (COVID-19) Dashboard](https://covid19.who.int/)\n",
        "\n",
        "Downloading data using `wget`"
      ]
    },
    {
      "cell_type": "code",
      "metadata": {
        "id": "-4goiz8kHrrn",
        "outputId": "5b5deb6b-ade8-4542-bd15-5e6173bdab70",
        "colab": {
          "base_uri": "https://localhost:8080/",
          "height": 215
        }
      },
      "source": [
        "!wget https://covid19.who.int/WHO-COVID-19-global-data.csv"
      ],
      "execution_count": null,
      "outputs": [
        {
          "output_type": "stream",
          "text": [
            "--2020-10-16 20:36:11--  https://covid19.who.int/WHO-COVID-19-global-data.csv\n",
            "Resolving covid19.who.int (covid19.who.int)... 54.192.86.19, 54.192.86.117, 54.192.86.127, ...\n",
            "Connecting to covid19.who.int (covid19.who.int)|54.192.86.19|:443... connected.\n",
            "HTTP request sent, awaiting response... 200 OK\n",
            "Length: 2853359 (2.7M) [text/csv]\n",
            "Saving to: ‘WHO-COVID-19-global-data.csv’\n",
            "\n",
            "\r          WHO-COVID   0%[                    ]       0  --.-KB/s               \rWHO-COVID-19-global 100%[===================>]   2.72M  --.-KB/s    in 0.06s   \n",
            "\n",
            "2020-10-16 20:36:11 (49.2 MB/s) - ‘WHO-COVID-19-global-data.csv’ saved [2853359/2853359]\n",
            "\n"
          ],
          "name": "stdout"
        }
      ]
    },
    {
      "cell_type": "markdown",
      "metadata": {
        "id": "f58dt-S0D7lu"
      },
      "source": [
        "## Import all the libraries\n",
        "\n",
        "\n",
        "*   numpy\n",
        "*   pandas\n",
        "*   matplotlib\n",
        "\n"
      ]
    },
    {
      "cell_type": "code",
      "metadata": {
        "id": "qx-7N71pIyau"
      },
      "source": [
        "import numpy as np\n",
        "import pandas as pd\n",
        "\n",
        "import matplotlib.pyplot as plt\n",
        "import matplotlib.dates as mdates"
      ],
      "execution_count": null,
      "outputs": []
    },
    {
      "cell_type": "markdown",
      "metadata": {
        "id": "aVdKX81GJdyw"
      },
      "source": [
        "## Modifying raw dataset\n",
        "\n",
        "\n",
        "*   Parse `Date_reported` as `np.datetime64`\n",
        "*   Dropping ` Country_code` and ` WHO_region` columns\n",
        "\n"
      ]
    },
    {
      "cell_type": "code",
      "metadata": {
        "id": "vFEOLXB1J1Rf",
        "outputId": "036b6587-0961-44a1-e152-f585e1ab59ed",
        "colab": {
          "base_uri": "https://localhost:8080/",
          "height": 204
        }
      },
      "source": [
        "raw_dataset = pd.read_csv('WHO-COVID-19-global-data.csv')\n",
        "\n",
        "dataset = raw_dataset.copy()\n",
        "dataset = dataset.drop(columns=[' Country_code', ' WHO_region', ' Cumulative_cases', ' New_deaths', ' Cumulative_deaths', 'Date_reported'])\n",
        "dataset = dataset.dropna()\n",
        "dataset.head()"
      ],
      "execution_count": null,
      "outputs": [
        {
          "output_type": "execute_result",
          "data": {
            "text/html": [
              "<div>\n",
              "<style scoped>\n",
              "    .dataframe tbody tr th:only-of-type {\n",
              "        vertical-align: middle;\n",
              "    }\n",
              "\n",
              "    .dataframe tbody tr th {\n",
              "        vertical-align: top;\n",
              "    }\n",
              "\n",
              "    .dataframe thead th {\n",
              "        text-align: right;\n",
              "    }\n",
              "</style>\n",
              "<table border=\"1\" class=\"dataframe\">\n",
              "  <thead>\n",
              "    <tr style=\"text-align: right;\">\n",
              "      <th></th>\n",
              "      <th>Country</th>\n",
              "      <th>New_cases</th>\n",
              "    </tr>\n",
              "  </thead>\n",
              "  <tbody>\n",
              "    <tr>\n",
              "      <th>0</th>\n",
              "      <td>Afghanistan</td>\n",
              "      <td>0</td>\n",
              "    </tr>\n",
              "    <tr>\n",
              "      <th>1</th>\n",
              "      <td>Afghanistan</td>\n",
              "      <td>0</td>\n",
              "    </tr>\n",
              "    <tr>\n",
              "      <th>2</th>\n",
              "      <td>Afghanistan</td>\n",
              "      <td>0</td>\n",
              "    </tr>\n",
              "    <tr>\n",
              "      <th>3</th>\n",
              "      <td>Afghanistan</td>\n",
              "      <td>0</td>\n",
              "    </tr>\n",
              "    <tr>\n",
              "      <th>4</th>\n",
              "      <td>Afghanistan</td>\n",
              "      <td>0</td>\n",
              "    </tr>\n",
              "  </tbody>\n",
              "</table>\n",
              "</div>"
            ],
            "text/plain": [
              "       Country   New_cases\n",
              "0  Afghanistan           0\n",
              "1  Afghanistan           0\n",
              "2  Afghanistan           0\n",
              "3  Afghanistan           0\n",
              "4  Afghanistan           0"
            ]
          },
          "metadata": {
            "tags": []
          },
          "execution_count": 4
        }
      ]
    },
    {
      "cell_type": "markdown",
      "metadata": {
        "id": "BsF3WVlZKCDS"
      },
      "source": [
        "## Filtering raw dataset to Iran country only"
      ]
    },
    {
      "cell_type": "code",
      "metadata": {
        "id": "E7WVYQCgKB2a",
        "outputId": "387866e1-da78-4407-f655-e9c56c524e47",
        "colab": {
          "base_uri": "https://localhost:8080/",
          "height": 204
        }
      },
      "source": [
        "dataset_iran = dataset.copy()\n",
        "dataset_iran.drop(dataset_iran[dataset_iran[' Country'] != 'Iran (Islamic Republic of)'].index, inplace=True)\n",
        "dataset_iran.drop(columns=[' Country'], inplace=True)\n",
        "dataset_iran.rename(columns={\" New_cases\": \"New_cases\"}, inplace=True)\n",
        "dataset_iran.reset_index(inplace=True, drop=True)\n",
        "dataset_iran.reset_index(inplace=True)\n",
        "dataset_iran.head()"
      ],
      "execution_count": null,
      "outputs": [
        {
          "output_type": "execute_result",
          "data": {
            "text/html": [
              "<div>\n",
              "<style scoped>\n",
              "    .dataframe tbody tr th:only-of-type {\n",
              "        vertical-align: middle;\n",
              "    }\n",
              "\n",
              "    .dataframe tbody tr th {\n",
              "        vertical-align: top;\n",
              "    }\n",
              "\n",
              "    .dataframe thead th {\n",
              "        text-align: right;\n",
              "    }\n",
              "</style>\n",
              "<table border=\"1\" class=\"dataframe\">\n",
              "  <thead>\n",
              "    <tr style=\"text-align: right;\">\n",
              "      <th></th>\n",
              "      <th>index</th>\n",
              "      <th>New_cases</th>\n",
              "    </tr>\n",
              "  </thead>\n",
              "  <tbody>\n",
              "    <tr>\n",
              "      <th>0</th>\n",
              "      <td>0</td>\n",
              "      <td>0</td>\n",
              "    </tr>\n",
              "    <tr>\n",
              "      <th>1</th>\n",
              "      <td>1</td>\n",
              "      <td>0</td>\n",
              "    </tr>\n",
              "    <tr>\n",
              "      <th>2</th>\n",
              "      <td>2</td>\n",
              "      <td>0</td>\n",
              "    </tr>\n",
              "    <tr>\n",
              "      <th>3</th>\n",
              "      <td>3</td>\n",
              "      <td>0</td>\n",
              "    </tr>\n",
              "    <tr>\n",
              "      <th>4</th>\n",
              "      <td>4</td>\n",
              "      <td>0</td>\n",
              "    </tr>\n",
              "  </tbody>\n",
              "</table>\n",
              "</div>"
            ],
            "text/plain": [
              "   index  New_cases\n",
              "0      0          0\n",
              "1      1          0\n",
              "2      2          0\n",
              "3      3          0\n",
              "4      4          0"
            ]
          },
          "metadata": {
            "tags": []
          },
          "execution_count": 5
        }
      ]
    },
    {
      "cell_type": "markdown",
      "metadata": {
        "id": "p6CcPWULKMeM"
      },
      "source": [
        "## Plotting the data related to Iran"
      ]
    },
    {
      "cell_type": "code",
      "metadata": {
        "id": "3MrZGV-Y5w8O",
        "outputId": "fde620fa-d3a5-4a23-9ea0-b83fb090e010",
        "colab": {
          "base_uri": "https://localhost:8080/",
          "height": 592
        }
      },
      "source": [
        "fig, ax = plt.subplots(figsize=(20,10))\n",
        "\n",
        "ax.plot(dataset_iran['index'], dataset_iran['New_cases'])\n",
        "ax.grid(True)\n",
        "\n",
        "plt.show()"
      ],
      "execution_count": null,
      "outputs": [
        {
          "output_type": "display_data",
          "data": {
            "image/png": "[encoded data removed]",
            "text/plain": [
              "<Figure size 1440x720 with 1 Axes>"
            ]
          },
          "metadata": {
            "tags": [],
            "needs_background": "light"
          }
        }
      ]
    },
    {
      "cell_type": "markdown",
      "metadata": {
        "id": "i53UMB2ANxAX"
      },
      "source": [
        "## Making train and dataset"
      ]
    },
    {
      "cell_type": "code",
      "metadata": {
        "id": "K_DqodR8K0h3",
        "outputId": "48ae4de1-2f98-4e4c-d666-7e5fd14c7b7a",
        "colab": {
          "base_uri": "https://localhost:8080/",
          "height": 89
        }
      },
      "source": [
        "train_dataset_iran = dataset_iran.sample(frac=0.8, random_state=0, axis=0)\n",
        "train_dataset_iran.sort_index(inplace=True)\n",
        "test_dataset_iran = dataset_iran.drop(train_dataset_iran.index)\n",
        "print (\"Number of training examples: \" + str(train_dataset_iran.shape[0]))\n",
        "print (\"Number of testing examples: \" + str(test_dataset_iran.shape[0]))\n",
        "print (\"train_dataset_iran shape: \" + str(train_dataset_iran.shape))\n",
        "print (\"test_dataset_iran shape: \" + str(test_dataset_iran.shape))"
      ],
      "execution_count": null,
      "outputs": [
        {
          "output_type": "stream",
          "text": [
            "Number of training examples: 230\n",
            "Number of testing examples: 58\n",
            "train_dataset_iran shape: (230, 2)\n",
            "test_dataset_iran shape: (58, 2)\n"
          ],
          "name": "stdout"
        }
      ]
    },
    {
      "cell_type": "code",
      "metadata": {
        "id": "ckF8SllZXIJV",
        "outputId": "96321a33-c9bb-42ed-f2dc-08fd506e38fa",
        "colab": {
          "base_uri": "https://localhost:8080/",
          "height": 592
        }
      },
      "source": [
        "fig, ax = plt.subplots(figsize=(20,10))\n",
        "\n",
        "ax.scatter(test_dataset_iran['index'], test_dataset_iran['New_cases'])\n",
        "ax.grid(True)\n",
        "\n",
        "plt.show()"
      ],
      "execution_count": null,
      "outputs": [
        {
          "output_type": "display_data",
          "data": {
            "image/png": "[encoded data removed]",
            "text/plain": [
              "<Figure size 1440x720 with 1 Axes>"
            ]
          },
          "metadata": {
            "tags": [],
            "needs_background": "light"
          }
        }
      ]
    },
    {
      "cell_type": "markdown",
      "metadata": {
        "id": "V7BeMBNXR6Gj"
      },
      "source": [
        "## Split features from labels"
      ]
    },
    {
      "cell_type": "code",
      "metadata": {
        "id": "VGxMkavWPLef"
      },
      "source": [
        "train_dataset_iran_y = pd.DataFrame(train_dataset_iran.pop('New_cases'))\n",
        "test_dataset_iran_y = pd.DataFrame(test_dataset_iran.pop('New_cases'))"
      ],
      "execution_count": null,
      "outputs": []
    },
    {
      "cell_type": "code",
      "metadata": {
        "id": "FfMqSMlXZwVq",
        "outputId": "35583fe3-defe-4ea4-efd1-2b8b62bbc060",
        "colab": {
          "base_uri": "https://localhost:8080/",
          "height": 80
        }
      },
      "source": [
        "train_dataset_iran_stats = train_dataset_iran.describe().transpose()\n",
        "train_dataset_iran_stats"
      ],
      "execution_count": null,
      "outputs": [
        {
          "output_type": "execute_result",
          "data": {
            "text/html": [
              "<div>\n",
              "<style scoped>\n",
              "    .dataframe tbody tr th:only-of-type {\n",
              "        vertical-align: middle;\n",
              "    }\n",
              "\n",
              "    .dataframe tbody tr th {\n",
              "        vertical-align: top;\n",
              "    }\n",
              "\n",
              "    .dataframe thead th {\n",
              "        text-align: right;\n",
              "    }\n",
              "</style>\n",
              "<table border=\"1\" class=\"dataframe\">\n",
              "  <thead>\n",
              "    <tr style=\"text-align: right;\">\n",
              "      <th></th>\n",
              "      <th>count</th>\n",
              "      <th>mean</th>\n",
              "      <th>std</th>\n",
              "      <th>min</th>\n",
              "      <th>25%</th>\n",
              "      <th>50%</th>\n",
              "      <th>75%</th>\n",
              "      <th>max</th>\n",
              "    </tr>\n",
              "  </thead>\n",
              "  <tbody>\n",
              "    <tr>\n",
              "      <th>index</th>\n",
              "      <td>230.0</td>\n",
              "      <td>142.391304</td>\n",
              "      <td>83.940788</td>\n",
              "      <td>0.0</td>\n",
              "      <td>69.5</td>\n",
              "      <td>141.5</td>\n",
              "      <td>216.75</td>\n",
              "      <td>287.0</td>\n",
              "    </tr>\n",
              "  </tbody>\n",
              "</table>\n",
              "</div>"
            ],
            "text/plain": [
              "       count        mean        std  min   25%    50%     75%    max\n",
              "index  230.0  142.391304  83.940788  0.0  69.5  141.5  216.75  287.0"
            ]
          },
          "metadata": {
            "tags": []
          },
          "execution_count": 10
        }
      ]
    },
    {
      "cell_type": "code",
      "metadata": {
        "id": "rqHyzNp0Id87"
      },
      "source": [
        "def norm(x):\n",
        "  return x / train_dataset_iran_stats['count']\n",
        "  \n",
        "normed_train_dataset_iran = norm(train_dataset_iran)\n",
        "normed_test_dataset_iran = norm(test_dataset_iran)"
      ],
      "execution_count": null,
      "outputs": []
    },
    {
      "cell_type": "code",
      "metadata": {
        "id": "DQogHhJceLwH",
        "outputId": "964ebef5-3818-4d4b-e0e1-ced826f583ae",
        "colab": {
          "base_uri": "https://localhost:8080/",
          "height": 204
        }
      },
      "source": [
        "normed_train_dataset_iran.head()"
      ],
      "execution_count": null,
      "outputs": [
        {
          "output_type": "execute_result",
          "data": {
            "text/html": [
              "<div>\n",
              "<style scoped>\n",
              "    .dataframe tbody tr th:only-of-type {\n",
              "        vertical-align: middle;\n",
              "    }\n",
              "\n",
              "    .dataframe tbody tr th {\n",
              "        vertical-align: top;\n",
              "    }\n",
              "\n",
              "    .dataframe thead th {\n",
              "        text-align: right;\n",
              "    }\n",
              "</style>\n",
              "<table border=\"1\" class=\"dataframe\">\n",
              "  <thead>\n",
              "    <tr style=\"text-align: right;\">\n",
              "      <th></th>\n",
              "      <th>index</th>\n",
              "    </tr>\n",
              "  </thead>\n",
              "  <tbody>\n",
              "    <tr>\n",
              "      <th>0</th>\n",
              "      <td>0.000000</td>\n",
              "    </tr>\n",
              "    <tr>\n",
              "      <th>1</th>\n",
              "      <td>0.004348</td>\n",
              "    </tr>\n",
              "    <tr>\n",
              "      <th>2</th>\n",
              "      <td>0.008696</td>\n",
              "    </tr>\n",
              "    <tr>\n",
              "      <th>3</th>\n",
              "      <td>0.013043</td>\n",
              "    </tr>\n",
              "    <tr>\n",
              "      <th>4</th>\n",
              "      <td>0.017391</td>\n",
              "    </tr>\n",
              "  </tbody>\n",
              "</table>\n",
              "</div>"
            ],
            "text/plain": [
              "      index\n",
              "0  0.000000\n",
              "1  0.004348\n",
              "2  0.008696\n",
              "3  0.013043\n",
              "4  0.017391"
            ]
          },
          "metadata": {
            "tags": []
          },
          "execution_count": 12
        }
      ]
    },
    {
      "cell_type": "code",
      "metadata": {
        "id": "lLomHayeeNSo",
        "outputId": "d9c8c38f-d8ca-4a38-d313-f330ddaa59c8",
        "colab": {
          "base_uri": "https://localhost:8080/",
          "height": 204
        }
      },
      "source": [
        "normed_test_dataset_iran.head()"
      ],
      "execution_count": null,
      "outputs": [
        {
          "output_type": "execute_result",
          "data": {
            "text/html": [
              "<div>\n",
              "<style scoped>\n",
              "    .dataframe tbody tr th:only-of-type {\n",
              "        vertical-align: middle;\n",
              "    }\n",
              "\n",
              "    .dataframe tbody tr th {\n",
              "        vertical-align: top;\n",
              "    }\n",
              "\n",
              "    .dataframe thead th {\n",
              "        text-align: right;\n",
              "    }\n",
              "</style>\n",
              "<table border=\"1\" class=\"dataframe\">\n",
              "  <thead>\n",
              "    <tr style=\"text-align: right;\">\n",
              "      <th></th>\n",
              "      <th>index</th>\n",
              "    </tr>\n",
              "  </thead>\n",
              "  <tbody>\n",
              "    <tr>\n",
              "      <th>9</th>\n",
              "      <td>0.039130</td>\n",
              "    </tr>\n",
              "    <tr>\n",
              "      <th>17</th>\n",
              "      <td>0.073913</td>\n",
              "    </tr>\n",
              "    <tr>\n",
              "      <th>25</th>\n",
              "      <td>0.108696</td>\n",
              "    </tr>\n",
              "    <tr>\n",
              "      <th>28</th>\n",
              "      <td>0.121739</td>\n",
              "    </tr>\n",
              "    <tr>\n",
              "      <th>31</th>\n",
              "      <td>0.134783</td>\n",
              "    </tr>\n",
              "  </tbody>\n",
              "</table>\n",
              "</div>"
            ],
            "text/plain": [
              "       index\n",
              "9   0.039130\n",
              "17  0.073913\n",
              "25  0.108696\n",
              "28  0.121739\n",
              "31  0.134783"
            ]
          },
          "metadata": {
            "tags": []
          },
          "execution_count": 13
        }
      ]
    },
    {
      "cell_type": "code",
      "metadata": {
        "id": "HZZgh1l51uFu",
        "outputId": "fb068512-843f-40c6-9b43-1ce628d97038",
        "colab": {
          "base_uri": "https://localhost:8080/",
          "height": 161
        }
      },
      "source": [
        "print (\"Number of training examples: \" + str(normed_train_dataset_iran.shape[0]))\n",
        "print (\"Number of testing examples: \" + str(normed_test_dataset_iran.shape[0]))\n",
        "print (\"train_dataset_iran shape: \" + str(normed_train_dataset_iran.shape))\n",
        "print (\"test_dataset_iran shape: \" + str(normed_test_dataset_iran.shape))\n",
        "\n",
        "print (\"Number of training labels: \" + str(train_dataset_iran_y.shape[0]))\n",
        "print (\"Number of testing labels: \" + str(test_dataset_iran_y.shape[0]))\n",
        "print (\"train_dataset_iran_y shape: \" + str(train_dataset_iran_y.shape))\n",
        "print (\"test_dataset_iran_y shape: \" + str(test_dataset_iran_y.shape))"
      ],
      "execution_count": null,
      "outputs": [
        {
          "output_type": "stream",
          "text": [
            "Number of training examples: 230\n",
            "Number of testing examples: 58\n",
            "train_dataset_iran shape: (230, 1)\n",
            "test_dataset_iran shape: (58, 1)\n",
            "Number of training labels: 230\n",
            "Number of testing labels: 58\n",
            "train_dataset_iran_y shape: (230, 1)\n",
            "test_dataset_iran_y shape: (58, 1)\n"
          ],
          "name": "stdout"
        }
      ]
    },
    {
      "cell_type": "code",
      "metadata": {
        "id": "4eklm4BKi6Pr"
      },
      "source": [
        "def initialize_params(dim):\n",
        "  w = np.zeros((dim, 1))\n",
        "  b = 0\n",
        "    \n",
        "  return w, b"
      ],
      "execution_count": null,
      "outputs": []
    },
    {
      "cell_type": "code",
      "metadata": {
        "id": "fPU0L7YSvIEi"
      },
      "source": [
        "def propagate(w, b, x, y):\n",
        "  degree = w.shape[0]\n",
        "  m = x.shape[0]\n",
        "\n",
        "  A = b\n",
        "  for i in range(degree):\n",
        "    A = A + w[i][0] * (x ** (degree - i))\n",
        "\n",
        "  cost = (1 / (2. * m)) * np.sum((A - y.values) ** 2)\n",
        "\n",
        "  dw = np.zeros((degree, 1))\n",
        "  for i in range(degree):\n",
        "    dw[i][0] = (2 / m) * np.squeeze(np.dot((A - y.values).T, x ** (degree - i))[0])\n",
        "\n",
        "  db = np.squeeze((1 / m) * np.sum(A - y.values))\n",
        "\n",
        "  cost = np.squeeze(cost)\n",
        "  assert(cost.shape == ())\n",
        "    \n",
        "  grads = {\"dw\": dw, \"db\": db}\n",
        "  \n",
        "  return grads, cost"
      ],
      "execution_count": null,
      "outputs": []
    },
    {
      "cell_type": "code",
      "metadata": {
        "id": "TwnGqKuy8oSO"
      },
      "source": [
        "def optimize(w, b, x, y, num_iterations, learning_rate, print_cost = False):\n",
        "  costs = []\n",
        "  \n",
        "  for i in range(num_iterations):\n",
        "    grads, cost = propagate(w, b, x, y)\n",
        "    \n",
        "    dw = grads[\"dw\"]\n",
        "    db = grads[\"db\"]\n",
        "    \n",
        "    w = w - learning_rate * dw\n",
        "    b = b - learning_rate * db\n",
        "    \n",
        "    if i % 100 == 0:\n",
        "      costs.append(cost)\n",
        "    \n",
        "    if print_cost and i % 1000 == 0:\n",
        "      print (\"Cost after iteration %i: %f\" %(i, cost))\n",
        "    \n",
        "  params = {\"w\": w, \"b\": b}\n",
        "    \n",
        "  grads = {\"dw\": dw, \"db\": db}\n",
        "    \n",
        "  return params, grads, costs"
      ],
      "execution_count": null,
      "outputs": []
    },
    {
      "cell_type": "code",
      "metadata": {
        "id": "txmhXQpSr2kb"
      },
      "source": [
        "def model(X_train, Y_train, X_test, Y_test, num_iterations = 2000, learning_rate = 0.5, print_cost = False, degree = 1):\n",
        "  w, b = initialize_params(degree)\n",
        "  \n",
        "  parameters, grads, costs = optimize(w, b, X_train, Y_train, num_iterations, learning_rate, print_cost)\n",
        "  \n",
        "  w = parameters[\"w\"]\n",
        "  b = parameters[\"b\"]\n",
        "  \n",
        "  Y_prediction_test = b\n",
        "  Y_prediction_train = b\n",
        "  for i in range(degree):\n",
        "    Y_prediction_test = Y_prediction_test + w[i][0] * (X_test ** (degree - i))\n",
        "    Y_prediction_train = Y_prediction_train + w[i][0] * (X_train ** (degree - i))\n",
        "\n",
        "  train_error = np.mean((Y_prediction_train - Y_train.values) ** 2)\n",
        "  test_error = np.mean((Y_prediction_test - Y_test.values) ** 2)\n",
        "  \n",
        "  # print(\"train error: {} %\".format()\n",
        "  \n",
        "  d = {\"costs\": costs,\n",
        "       \"Y_prediction_test\": Y_prediction_test,\n",
        "       \"Y_prediction_train\" : Y_prediction_train,\n",
        "       \"w\" : w,\n",
        "       \"b\" : b,\n",
        "       \"learning_rate\" : learning_rate,\n",
        "       \"num_iterations\": num_iterations,\n",
        "       \"train_error\": np.squeeze(train_error),\n",
        "       \"test_error\": np.squeeze(test_error)}\n",
        "  \n",
        "  return d"
      ],
      "execution_count": null,
      "outputs": []
    },
    {
      "cell_type": "code",
      "metadata": {
        "id": "mYq2rQaKA9Td",
        "outputId": "49535c2c-dd76-4f9a-fc88-f0bc4484969d",
        "colab": {
          "base_uri": "https://localhost:8080/",
          "height": 1000
        }
      },
      "source": [
        "errors = []\n",
        "least_error = {\"degree\": 0, \"test_error\": float('inf')}\n",
        "for i in range(1, 10):\n",
        "  print(\"Starting polynomial degree: \" + str(i))\n",
        "  d = model(normed_train_dataset_iran, train_dataset_iran_y, normed_test_dataset_iran, test_dataset_iran_y, num_iterations = 5000, learning_rate = 0.01, print_cost = True, degree = i)\n",
        "\n",
        "  errors.append({\"degree\": i, \"train_error\": d[\"train_error\"], \"test_error\": d[\"test_error\"], \"w\": d[\"w\"], \"b\": d[\"b\"]})\n",
        "  if d[\"test_error\"] < least_error[\"test_error\"]:\n",
        "    least_error[\"test_error\"] = d[\"test_error\"]\n",
        "    least_error[\"degree\"] = i\n",
        "\n",
        "  print(least_error)"
      ],
      "execution_count": null,
      "outputs": [
        {
          "output_type": "stream",
          "text": [
            "Starting polynomial degree: 1\n",
            "Cost after iteration 0: 2301464.689130\n",
            "Cost after iteration 1000: 187967.811011\n",
            "Cost after iteration 2000: 181146.033325\n",
            "Cost after iteration 3000: 180733.824920\n",
            "Cost after iteration 4000: 180708.917076\n",
            "{'degree': 1, 'test_error': 422240.90960031014}\n",
            "Starting polynomial degree: 2\n",
            "Cost after iteration 0: 2301464.689130\n",
            "Cost after iteration 1000: 204899.746839\n",
            "Cost after iteration 2000: 198539.820536\n",
            "Cost after iteration 3000: 193366.868614\n",
            "Cost after iteration 4000: 189136.784489\n",
            "{'degree': 1, 'test_error': 422240.90960031014}\n",
            "Starting polynomial degree: 3\n",
            "Cost after iteration 0: 2301464.689130\n",
            "Cost after iteration 1000: 210855.330250\n",
            "Cost after iteration 2000: 197142.245455\n",
            "Cost after iteration 3000: 189113.619359\n",
            "Cost after iteration 4000: 184359.278985\n",
            "{'degree': 3, 'test_error': 417541.64146392216}\n",
            "Starting polynomial degree: 4\n",
            "Cost after iteration 0: 2301464.689130\n",
            "Cost after iteration 1000: 209167.667180\n",
            "Cost after iteration 2000: 195347.668721\n",
            "Cost after iteration 3000: 189172.962103\n",
            "Cost after iteration 4000: 185791.832826\n",
            "{'degree': 3, 'test_error': 417541.64146392216}\n",
            "Starting polynomial degree: 5\n",
            "Cost after iteration 0: 2301464.689130\n",
            "Cost after iteration 1000: 208398.117186\n",
            "Cost after iteration 2000: 196135.456079\n",
            "Cost after iteration 3000: 189272.778337\n",
            "Cost after iteration 4000: 183859.251748\n",
            "{'degree': 5, 'test_error': 416678.60270833597}\n",
            "Starting polynomial degree: 6\n",
            "Cost after iteration 0: 2301464.689130\n",
            "Cost after iteration 1000: 208720.768405\n",
            "Cost after iteration 2000: 193872.086109\n",
            "Cost after iteration 3000: 182684.029492\n",
            "Cost after iteration 4000: 173284.022544\n",
            "{'degree': 6, 'test_error': 396893.9178597372}\n",
            "Starting polynomial degree: 7\n",
            "Cost after iteration 0: 2301464.689130\n",
            "Cost after iteration 1000: 207175.354497\n",
            "Cost after iteration 2000: 185798.159271\n",
            "Cost after iteration 3000: 169498.532971\n",
            "Cost after iteration 4000: 156893.839651\n",
            "{'degree': 7, 'test_error': 362910.5177479324}\n",
            "Starting polynomial degree: 8\n",
            "Cost after iteration 0: 2301464.689130\n",
            "Cost after iteration 1000: 201921.536090\n",
            "Cost after iteration 2000: 173323.824118\n",
            "Cost after iteration 3000: 153811.608655\n",
            "Cost after iteration 4000: 140495.187392\n",
            "{'degree': 8, 'test_error': 326846.2256089929}\n",
            "Starting polynomial degree: 9\n",
            "Cost after iteration 0: 2301464.689130\n",
            "Cost after iteration 1000: 193298.303465\n",
            "Cost after iteration 2000: 159814.770274\n",
            "Cost after iteration 3000: 140255.848152\n",
            "Cost after iteration 4000: 128819.322367\n",
            "{'degree': 9, 'test_error': 300206.2276372922}\n"
          ],
          "name": "stdout"
        }
      ]
    },
    {
      "cell_type": "code",
      "metadata": {
        "id": "xgahcyqCJQuk",
        "outputId": "3ed2f59a-27d2-461a-cd96-22af26feffe9",
        "colab": {
          "base_uri": "https://localhost:8080/",
          "height": 179
        }
      },
      "source": [
        "errors[8][\"w\"]"
      ],
      "execution_count": null,
      "outputs": [
        {
          "output_type": "execute_result",
          "data": {
            "text/plain": [
              "array([[1097.11132519],\n",
              "       [ 159.75178583],\n",
              "       [-476.87090626],\n",
              "       [-836.23338897],\n",
              "       [-917.28618334],\n",
              "       [-681.92684431],\n",
              "       [ -31.42657667],\n",
              "       [1202.42554501],\n",
              "       [2922.14404339]])"
            ]
          },
          "metadata": {
            "tags": []
          },
          "execution_count": 24
        }
      ]
    },
    {
      "cell_type": "code",
      "metadata": {
        "id": "xNQ5L9tElcC1",
        "outputId": "18770e88-0d50-4456-9bdf-9a86f3e8e88a",
        "colab": {
          "base_uri": "https://localhost:8080/",
          "height": 592
        }
      },
      "source": [
        "fig, ax = plt.subplots(figsize=(20,10))\n",
        "\n",
        "ax.scatter(normed_train_dataset_iran['index'], train_dataset_iran_y['New_cases'])\n",
        "Y_prediction = errors[least_error[\"degree\"] - 1][\"b\"]\n",
        "for i in range(least_error[\"degree\"]):\n",
        "    Y_prediction = Y_prediction + errors[least_error[\"degree\"] - 1][\"w\"][i] * (normed_train_dataset_iran['index'] ** (least_error[\"degree\"] - i))\n",
        "ax.plot(normed_train_dataset_iran['index'], Y_prediction, color='black')\n",
        "ax.grid(True)\n",
        "\n",
        "plt.show()"
      ],
      "execution_count": null,
      "outputs": [
        {
          "output_type": "display_data",
          "data": {
            "image/png": "[encoded data removed]",
            "text/plain": [
              "<Figure size 1440x720 with 1 Axes>"
            ]
          },
          "metadata": {
            "tags": [],
            "needs_background": "light"
          }
        }
      ]
    }
  ]
}